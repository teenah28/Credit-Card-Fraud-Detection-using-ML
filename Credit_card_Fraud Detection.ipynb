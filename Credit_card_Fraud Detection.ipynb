{
 "cells": [
  {
   "cell_type": "markdown",
   "metadata": {
    "id": "SlFI-m_ZtaUf"
   },
   "source": [
    "# **Credit Card Fraud Detection**"
   ]
  },
  {
   "cell_type": "markdown",
   "metadata": {
    "id": "ezgun7SK-vwL"
   },
   "source": [
    "## Importing Libraries"
   ]
  },
  {
   "cell_type": "code",
   "execution_count": 43,
   "metadata": {
    "id": "YLHG3mEmPdNt"
   },
   "outputs": [],
   "source": [
    "\n",
    "#!pip install skimpy\n",
    "#!pip install summarytools\n",
    "#!pip install polars"
   ]
  },
  {
   "cell_type": "code",
   "execution_count": 1,
   "metadata": {
    "id": "eR-XYE6X-ydg"
   },
   "outputs": [],
   "source": [
    "import numpy as np\n",
    "import pandas as pd\n",
    "import matplotlib.pyplot as plt\n",
    "import seaborn as sns\n",
    "import warnings\n",
    "warnings.filterwarnings('ignore')"
   ]
  },
  {
   "cell_type": "markdown",
   "metadata": {
    "id": "7LD2vFxl_KOy"
   },
   "source": [
    "## Loading the dataset"
   ]
  },
  {
   "cell_type": "code",
   "execution_count": 4,
   "metadata": {
    "id": "t7gH9lEd_suz"
   },
   "outputs": [],
   "source": [
    "data= pd.read_csv(\"C:\\creditcard.csv\")"
   ]
  },
  {
   "cell_type": "code",
   "execution_count": 5,
   "metadata": {
    "colab": {
     "base_uri": "https://localhost:8080/",
     "height": 255
    },
    "id": "fFa2LvK2_8aV",
    "outputId": "4ce893bb-044a-4ff7-f79e-40301314b731"
   },
   "outputs": [
    {
     "data": {
      "text/html": [
       "<div>\n",
       "<style scoped>\n",
       "    .dataframe tbody tr th:only-of-type {\n",
       "        vertical-align: middle;\n",
       "    }\n",
       "\n",
       "    .dataframe tbody tr th {\n",
       "        vertical-align: top;\n",
       "    }\n",
       "\n",
       "    .dataframe thead th {\n",
       "        text-align: right;\n",
       "    }\n",
       "</style>\n",
       "<table border=\"1\" class=\"dataframe\">\n",
       "  <thead>\n",
       "    <tr style=\"text-align: right;\">\n",
       "      <th></th>\n",
       "      <th>Time</th>\n",
       "      <th>V1</th>\n",
       "      <th>V2</th>\n",
       "      <th>V3</th>\n",
       "      <th>V4</th>\n",
       "      <th>V5</th>\n",
       "      <th>V6</th>\n",
       "      <th>V7</th>\n",
       "      <th>V8</th>\n",
       "      <th>V9</th>\n",
       "      <th>...</th>\n",
       "      <th>V21</th>\n",
       "      <th>V22</th>\n",
       "      <th>V23</th>\n",
       "      <th>V24</th>\n",
       "      <th>V25</th>\n",
       "      <th>V26</th>\n",
       "      <th>V27</th>\n",
       "      <th>V28</th>\n",
       "      <th>Amount</th>\n",
       "      <th>Class</th>\n",
       "    </tr>\n",
       "  </thead>\n",
       "  <tbody>\n",
       "    <tr>\n",
       "      <th>0</th>\n",
       "      <td>0.0</td>\n",
       "      <td>-1.359807</td>\n",
       "      <td>-0.072781</td>\n",
       "      <td>2.536347</td>\n",
       "      <td>1.378155</td>\n",
       "      <td>-0.338321</td>\n",
       "      <td>0.462388</td>\n",
       "      <td>0.239599</td>\n",
       "      <td>0.098698</td>\n",
       "      <td>0.363787</td>\n",
       "      <td>...</td>\n",
       "      <td>-0.018307</td>\n",
       "      <td>0.277838</td>\n",
       "      <td>-0.110474</td>\n",
       "      <td>0.066928</td>\n",
       "      <td>0.128539</td>\n",
       "      <td>-0.189115</td>\n",
       "      <td>0.133558</td>\n",
       "      <td>-0.021053</td>\n",
       "      <td>149.62</td>\n",
       "      <td>0</td>\n",
       "    </tr>\n",
       "    <tr>\n",
       "      <th>1</th>\n",
       "      <td>0.0</td>\n",
       "      <td>1.191857</td>\n",
       "      <td>0.266151</td>\n",
       "      <td>0.166480</td>\n",
       "      <td>0.448154</td>\n",
       "      <td>0.060018</td>\n",
       "      <td>-0.082361</td>\n",
       "      <td>-0.078803</td>\n",
       "      <td>0.085102</td>\n",
       "      <td>-0.255425</td>\n",
       "      <td>...</td>\n",
       "      <td>-0.225775</td>\n",
       "      <td>-0.638672</td>\n",
       "      <td>0.101288</td>\n",
       "      <td>-0.339846</td>\n",
       "      <td>0.167170</td>\n",
       "      <td>0.125895</td>\n",
       "      <td>-0.008983</td>\n",
       "      <td>0.014724</td>\n",
       "      <td>2.69</td>\n",
       "      <td>0</td>\n",
       "    </tr>\n",
       "    <tr>\n",
       "      <th>2</th>\n",
       "      <td>1.0</td>\n",
       "      <td>-1.358354</td>\n",
       "      <td>-1.340163</td>\n",
       "      <td>1.773209</td>\n",
       "      <td>0.379780</td>\n",
       "      <td>-0.503198</td>\n",
       "      <td>1.800499</td>\n",
       "      <td>0.791461</td>\n",
       "      <td>0.247676</td>\n",
       "      <td>-1.514654</td>\n",
       "      <td>...</td>\n",
       "      <td>0.247998</td>\n",
       "      <td>0.771679</td>\n",
       "      <td>0.909412</td>\n",
       "      <td>-0.689281</td>\n",
       "      <td>-0.327642</td>\n",
       "      <td>-0.139097</td>\n",
       "      <td>-0.055353</td>\n",
       "      <td>-0.059752</td>\n",
       "      <td>378.66</td>\n",
       "      <td>0</td>\n",
       "    </tr>\n",
       "    <tr>\n",
       "      <th>3</th>\n",
       "      <td>1.0</td>\n",
       "      <td>-0.966272</td>\n",
       "      <td>-0.185226</td>\n",
       "      <td>1.792993</td>\n",
       "      <td>-0.863291</td>\n",
       "      <td>-0.010309</td>\n",
       "      <td>1.247203</td>\n",
       "      <td>0.237609</td>\n",
       "      <td>0.377436</td>\n",
       "      <td>-1.387024</td>\n",
       "      <td>...</td>\n",
       "      <td>-0.108300</td>\n",
       "      <td>0.005274</td>\n",
       "      <td>-0.190321</td>\n",
       "      <td>-1.175575</td>\n",
       "      <td>0.647376</td>\n",
       "      <td>-0.221929</td>\n",
       "      <td>0.062723</td>\n",
       "      <td>0.061458</td>\n",
       "      <td>123.50</td>\n",
       "      <td>0</td>\n",
       "    </tr>\n",
       "    <tr>\n",
       "      <th>4</th>\n",
       "      <td>2.0</td>\n",
       "      <td>-1.158233</td>\n",
       "      <td>0.877737</td>\n",
       "      <td>1.548718</td>\n",
       "      <td>0.403034</td>\n",
       "      <td>-0.407193</td>\n",
       "      <td>0.095921</td>\n",
       "      <td>0.592941</td>\n",
       "      <td>-0.270533</td>\n",
       "      <td>0.817739</td>\n",
       "      <td>...</td>\n",
       "      <td>-0.009431</td>\n",
       "      <td>0.798278</td>\n",
       "      <td>-0.137458</td>\n",
       "      <td>0.141267</td>\n",
       "      <td>-0.206010</td>\n",
       "      <td>0.502292</td>\n",
       "      <td>0.219422</td>\n",
       "      <td>0.215153</td>\n",
       "      <td>69.99</td>\n",
       "      <td>0</td>\n",
       "    </tr>\n",
       "  </tbody>\n",
       "</table>\n",
       "<p>5 rows × 31 columns</p>\n",
       "</div>"
      ],
      "text/plain": [
       "   Time        V1        V2        V3        V4        V5        V6        V7  \\\n",
       "0   0.0 -1.359807 -0.072781  2.536347  1.378155 -0.338321  0.462388  0.239599   \n",
       "1   0.0  1.191857  0.266151  0.166480  0.448154  0.060018 -0.082361 -0.078803   \n",
       "2   1.0 -1.358354 -1.340163  1.773209  0.379780 -0.503198  1.800499  0.791461   \n",
       "3   1.0 -0.966272 -0.185226  1.792993 -0.863291 -0.010309  1.247203  0.237609   \n",
       "4   2.0 -1.158233  0.877737  1.548718  0.403034 -0.407193  0.095921  0.592941   \n",
       "\n",
       "         V8        V9  ...       V21       V22       V23       V24       V25  \\\n",
       "0  0.098698  0.363787  ... -0.018307  0.277838 -0.110474  0.066928  0.128539   \n",
       "1  0.085102 -0.255425  ... -0.225775 -0.638672  0.101288 -0.339846  0.167170   \n",
       "2  0.247676 -1.514654  ...  0.247998  0.771679  0.909412 -0.689281 -0.327642   \n",
       "3  0.377436 -1.387024  ... -0.108300  0.005274 -0.190321 -1.175575  0.647376   \n",
       "4 -0.270533  0.817739  ... -0.009431  0.798278 -0.137458  0.141267 -0.206010   \n",
       "\n",
       "        V26       V27       V28  Amount  Class  \n",
       "0 -0.189115  0.133558 -0.021053  149.62      0  \n",
       "1  0.125895 -0.008983  0.014724    2.69      0  \n",
       "2 -0.139097 -0.055353 -0.059752  378.66      0  \n",
       "3 -0.221929  0.062723  0.061458  123.50      0  \n",
       "4  0.502292  0.219422  0.215153   69.99      0  \n",
       "\n",
       "[5 rows x 31 columns]"
      ]
     },
     "execution_count": 5,
     "metadata": {},
     "output_type": "execute_result"
    }
   ],
   "source": [
    "data.head()"
   ]
  },
  {
   "cell_type": "markdown",
   "metadata": {
    "id": "yDpIk35Q__1h"
   },
   "source": [
    "## Summary of data and Basic Checks"
   ]
  },
  {
   "cell_type": "code",
   "execution_count": 6,
   "metadata": {
    "colab": {
     "base_uri": "https://localhost:8080/",
     "height": 1000
    },
    "id": "N0XNEeUPAK1E",
    "outputId": "15ea0d24-72ab-4f1c-e151-d4e0cfcb252d"
   },
   "outputs": [
    {
     "data": {
      "text/html": [
       "<div>\n",
       "<style scoped>\n",
       "    .dataframe tbody tr th:only-of-type {\n",
       "        vertical-align: middle;\n",
       "    }\n",
       "\n",
       "    .dataframe tbody tr th {\n",
       "        vertical-align: top;\n",
       "    }\n",
       "\n",
       "    .dataframe thead th {\n",
       "        text-align: right;\n",
       "    }\n",
       "</style>\n",
       "<table border=\"1\" class=\"dataframe\">\n",
       "  <thead>\n",
       "    <tr style=\"text-align: right;\">\n",
       "      <th></th>\n",
       "      <th>count</th>\n",
       "      <th>mean</th>\n",
       "      <th>std</th>\n",
       "      <th>min</th>\n",
       "      <th>25%</th>\n",
       "      <th>50%</th>\n",
       "      <th>75%</th>\n",
       "      <th>max</th>\n",
       "    </tr>\n",
       "  </thead>\n",
       "  <tbody>\n",
       "    <tr>\n",
       "      <th>Time</th>\n",
       "      <td>284807.0</td>\n",
       "      <td>9.481386e+04</td>\n",
       "      <td>47488.145955</td>\n",
       "      <td>0.000000</td>\n",
       "      <td>54201.500000</td>\n",
       "      <td>84692.000000</td>\n",
       "      <td>139320.500000</td>\n",
       "      <td>172792.000000</td>\n",
       "    </tr>\n",
       "    <tr>\n",
       "      <th>V1</th>\n",
       "      <td>284807.0</td>\n",
       "      <td>3.918649e-15</td>\n",
       "      <td>1.958696</td>\n",
       "      <td>-56.407510</td>\n",
       "      <td>-0.920373</td>\n",
       "      <td>0.018109</td>\n",
       "      <td>1.315642</td>\n",
       "      <td>2.454930</td>\n",
       "    </tr>\n",
       "    <tr>\n",
       "      <th>V2</th>\n",
       "      <td>284807.0</td>\n",
       "      <td>5.682686e-16</td>\n",
       "      <td>1.651309</td>\n",
       "      <td>-72.715728</td>\n",
       "      <td>-0.598550</td>\n",
       "      <td>0.065486</td>\n",
       "      <td>0.803724</td>\n",
       "      <td>22.057729</td>\n",
       "    </tr>\n",
       "    <tr>\n",
       "      <th>V3</th>\n",
       "      <td>284807.0</td>\n",
       "      <td>-8.761736e-15</td>\n",
       "      <td>1.516255</td>\n",
       "      <td>-48.325589</td>\n",
       "      <td>-0.890365</td>\n",
       "      <td>0.179846</td>\n",
       "      <td>1.027196</td>\n",
       "      <td>9.382558</td>\n",
       "    </tr>\n",
       "    <tr>\n",
       "      <th>V4</th>\n",
       "      <td>284807.0</td>\n",
       "      <td>2.811118e-15</td>\n",
       "      <td>1.415869</td>\n",
       "      <td>-5.683171</td>\n",
       "      <td>-0.848640</td>\n",
       "      <td>-0.019847</td>\n",
       "      <td>0.743341</td>\n",
       "      <td>16.875344</td>\n",
       "    </tr>\n",
       "    <tr>\n",
       "      <th>V5</th>\n",
       "      <td>284807.0</td>\n",
       "      <td>-1.552103e-15</td>\n",
       "      <td>1.380247</td>\n",
       "      <td>-113.743307</td>\n",
       "      <td>-0.691597</td>\n",
       "      <td>-0.054336</td>\n",
       "      <td>0.611926</td>\n",
       "      <td>34.801666</td>\n",
       "    </tr>\n",
       "    <tr>\n",
       "      <th>V6</th>\n",
       "      <td>284807.0</td>\n",
       "      <td>2.040130e-15</td>\n",
       "      <td>1.332271</td>\n",
       "      <td>-26.160506</td>\n",
       "      <td>-0.768296</td>\n",
       "      <td>-0.274187</td>\n",
       "      <td>0.398565</td>\n",
       "      <td>73.301626</td>\n",
       "    </tr>\n",
       "    <tr>\n",
       "      <th>V7</th>\n",
       "      <td>284807.0</td>\n",
       "      <td>-1.698953e-15</td>\n",
       "      <td>1.237094</td>\n",
       "      <td>-43.557242</td>\n",
       "      <td>-0.554076</td>\n",
       "      <td>0.040103</td>\n",
       "      <td>0.570436</td>\n",
       "      <td>120.589494</td>\n",
       "    </tr>\n",
       "    <tr>\n",
       "      <th>V8</th>\n",
       "      <td>284807.0</td>\n",
       "      <td>-1.893285e-16</td>\n",
       "      <td>1.194353</td>\n",
       "      <td>-73.216718</td>\n",
       "      <td>-0.208630</td>\n",
       "      <td>0.022358</td>\n",
       "      <td>0.327346</td>\n",
       "      <td>20.007208</td>\n",
       "    </tr>\n",
       "    <tr>\n",
       "      <th>V9</th>\n",
       "      <td>284807.0</td>\n",
       "      <td>-3.147640e-15</td>\n",
       "      <td>1.098632</td>\n",
       "      <td>-13.434066</td>\n",
       "      <td>-0.643098</td>\n",
       "      <td>-0.051429</td>\n",
       "      <td>0.597139</td>\n",
       "      <td>15.594995</td>\n",
       "    </tr>\n",
       "    <tr>\n",
       "      <th>V10</th>\n",
       "      <td>284807.0</td>\n",
       "      <td>1.772925e-15</td>\n",
       "      <td>1.088850</td>\n",
       "      <td>-24.588262</td>\n",
       "      <td>-0.535426</td>\n",
       "      <td>-0.092917</td>\n",
       "      <td>0.453923</td>\n",
       "      <td>23.745136</td>\n",
       "    </tr>\n",
       "    <tr>\n",
       "      <th>V11</th>\n",
       "      <td>284807.0</td>\n",
       "      <td>9.289524e-16</td>\n",
       "      <td>1.020713</td>\n",
       "      <td>-4.797473</td>\n",
       "      <td>-0.762494</td>\n",
       "      <td>-0.032757</td>\n",
       "      <td>0.739593</td>\n",
       "      <td>12.018913</td>\n",
       "    </tr>\n",
       "    <tr>\n",
       "      <th>V12</th>\n",
       "      <td>284807.0</td>\n",
       "      <td>-1.803266e-15</td>\n",
       "      <td>0.999201</td>\n",
       "      <td>-18.683715</td>\n",
       "      <td>-0.405571</td>\n",
       "      <td>0.140033</td>\n",
       "      <td>0.618238</td>\n",
       "      <td>7.848392</td>\n",
       "    </tr>\n",
       "    <tr>\n",
       "      <th>V13</th>\n",
       "      <td>284807.0</td>\n",
       "      <td>1.674888e-15</td>\n",
       "      <td>0.995274</td>\n",
       "      <td>-5.791881</td>\n",
       "      <td>-0.648539</td>\n",
       "      <td>-0.013568</td>\n",
       "      <td>0.662505</td>\n",
       "      <td>7.126883</td>\n",
       "    </tr>\n",
       "    <tr>\n",
       "      <th>V14</th>\n",
       "      <td>284807.0</td>\n",
       "      <td>1.475621e-15</td>\n",
       "      <td>0.958596</td>\n",
       "      <td>-19.214325</td>\n",
       "      <td>-0.425574</td>\n",
       "      <td>0.050601</td>\n",
       "      <td>0.493150</td>\n",
       "      <td>10.526766</td>\n",
       "    </tr>\n",
       "    <tr>\n",
       "      <th>V15</th>\n",
       "      <td>284807.0</td>\n",
       "      <td>3.501098e-15</td>\n",
       "      <td>0.915316</td>\n",
       "      <td>-4.498945</td>\n",
       "      <td>-0.582884</td>\n",
       "      <td>0.048072</td>\n",
       "      <td>0.648821</td>\n",
       "      <td>8.877742</td>\n",
       "    </tr>\n",
       "    <tr>\n",
       "      <th>V16</th>\n",
       "      <td>284807.0</td>\n",
       "      <td>1.392460e-15</td>\n",
       "      <td>0.876253</td>\n",
       "      <td>-14.129855</td>\n",
       "      <td>-0.468037</td>\n",
       "      <td>0.066413</td>\n",
       "      <td>0.523296</td>\n",
       "      <td>17.315112</td>\n",
       "    </tr>\n",
       "    <tr>\n",
       "      <th>V17</th>\n",
       "      <td>284807.0</td>\n",
       "      <td>-7.466538e-16</td>\n",
       "      <td>0.849337</td>\n",
       "      <td>-25.162799</td>\n",
       "      <td>-0.483748</td>\n",
       "      <td>-0.065676</td>\n",
       "      <td>0.399675</td>\n",
       "      <td>9.253526</td>\n",
       "    </tr>\n",
       "    <tr>\n",
       "      <th>V18</th>\n",
       "      <td>284807.0</td>\n",
       "      <td>4.258754e-16</td>\n",
       "      <td>0.838176</td>\n",
       "      <td>-9.498746</td>\n",
       "      <td>-0.498850</td>\n",
       "      <td>-0.003636</td>\n",
       "      <td>0.500807</td>\n",
       "      <td>5.041069</td>\n",
       "    </tr>\n",
       "    <tr>\n",
       "      <th>V19</th>\n",
       "      <td>284807.0</td>\n",
       "      <td>9.019919e-16</td>\n",
       "      <td>0.814041</td>\n",
       "      <td>-7.213527</td>\n",
       "      <td>-0.456299</td>\n",
       "      <td>0.003735</td>\n",
       "      <td>0.458949</td>\n",
       "      <td>5.591971</td>\n",
       "    </tr>\n",
       "    <tr>\n",
       "      <th>V20</th>\n",
       "      <td>284807.0</td>\n",
       "      <td>5.126845e-16</td>\n",
       "      <td>0.770925</td>\n",
       "      <td>-54.497720</td>\n",
       "      <td>-0.211721</td>\n",
       "      <td>-0.062481</td>\n",
       "      <td>0.133041</td>\n",
       "      <td>39.420904</td>\n",
       "    </tr>\n",
       "    <tr>\n",
       "      <th>V21</th>\n",
       "      <td>284807.0</td>\n",
       "      <td>1.473120e-16</td>\n",
       "      <td>0.734524</td>\n",
       "      <td>-34.830382</td>\n",
       "      <td>-0.228395</td>\n",
       "      <td>-0.029450</td>\n",
       "      <td>0.186377</td>\n",
       "      <td>27.202839</td>\n",
       "    </tr>\n",
       "    <tr>\n",
       "      <th>V22</th>\n",
       "      <td>284807.0</td>\n",
       "      <td>8.042109e-16</td>\n",
       "      <td>0.725702</td>\n",
       "      <td>-10.933144</td>\n",
       "      <td>-0.542350</td>\n",
       "      <td>0.006782</td>\n",
       "      <td>0.528554</td>\n",
       "      <td>10.503090</td>\n",
       "    </tr>\n",
       "    <tr>\n",
       "      <th>V23</th>\n",
       "      <td>284807.0</td>\n",
       "      <td>5.282512e-16</td>\n",
       "      <td>0.624460</td>\n",
       "      <td>-44.807735</td>\n",
       "      <td>-0.161846</td>\n",
       "      <td>-0.011193</td>\n",
       "      <td>0.147642</td>\n",
       "      <td>22.528412</td>\n",
       "    </tr>\n",
       "    <tr>\n",
       "      <th>V24</th>\n",
       "      <td>284807.0</td>\n",
       "      <td>4.456271e-15</td>\n",
       "      <td>0.605647</td>\n",
       "      <td>-2.836627</td>\n",
       "      <td>-0.354586</td>\n",
       "      <td>0.040976</td>\n",
       "      <td>0.439527</td>\n",
       "      <td>4.584549</td>\n",
       "    </tr>\n",
       "    <tr>\n",
       "      <th>V25</th>\n",
       "      <td>284807.0</td>\n",
       "      <td>1.426896e-15</td>\n",
       "      <td>0.521278</td>\n",
       "      <td>-10.295397</td>\n",
       "      <td>-0.317145</td>\n",
       "      <td>0.016594</td>\n",
       "      <td>0.350716</td>\n",
       "      <td>7.519589</td>\n",
       "    </tr>\n",
       "    <tr>\n",
       "      <th>V26</th>\n",
       "      <td>284807.0</td>\n",
       "      <td>1.701640e-15</td>\n",
       "      <td>0.482227</td>\n",
       "      <td>-2.604551</td>\n",
       "      <td>-0.326984</td>\n",
       "      <td>-0.052139</td>\n",
       "      <td>0.240952</td>\n",
       "      <td>3.517346</td>\n",
       "    </tr>\n",
       "    <tr>\n",
       "      <th>V27</th>\n",
       "      <td>284807.0</td>\n",
       "      <td>-3.662252e-16</td>\n",
       "      <td>0.403632</td>\n",
       "      <td>-22.565679</td>\n",
       "      <td>-0.070840</td>\n",
       "      <td>0.001342</td>\n",
       "      <td>0.091045</td>\n",
       "      <td>31.612198</td>\n",
       "    </tr>\n",
       "    <tr>\n",
       "      <th>V28</th>\n",
       "      <td>284807.0</td>\n",
       "      <td>-1.217809e-16</td>\n",
       "      <td>0.330083</td>\n",
       "      <td>-15.430084</td>\n",
       "      <td>-0.052960</td>\n",
       "      <td>0.011244</td>\n",
       "      <td>0.078280</td>\n",
       "      <td>33.847808</td>\n",
       "    </tr>\n",
       "    <tr>\n",
       "      <th>Amount</th>\n",
       "      <td>284807.0</td>\n",
       "      <td>8.834962e+01</td>\n",
       "      <td>250.120109</td>\n",
       "      <td>0.000000</td>\n",
       "      <td>5.600000</td>\n",
       "      <td>22.000000</td>\n",
       "      <td>77.165000</td>\n",
       "      <td>25691.160000</td>\n",
       "    </tr>\n",
       "    <tr>\n",
       "      <th>Class</th>\n",
       "      <td>284807.0</td>\n",
       "      <td>1.727486e-03</td>\n",
       "      <td>0.041527</td>\n",
       "      <td>0.000000</td>\n",
       "      <td>0.000000</td>\n",
       "      <td>0.000000</td>\n",
       "      <td>0.000000</td>\n",
       "      <td>1.000000</td>\n",
       "    </tr>\n",
       "  </tbody>\n",
       "</table>\n",
       "</div>"
      ],
      "text/plain": [
       "           count          mean           std         min           25%  \\\n",
       "Time    284807.0  9.481386e+04  47488.145955    0.000000  54201.500000   \n",
       "V1      284807.0  3.918649e-15      1.958696  -56.407510     -0.920373   \n",
       "V2      284807.0  5.682686e-16      1.651309  -72.715728     -0.598550   \n",
       "V3      284807.0 -8.761736e-15      1.516255  -48.325589     -0.890365   \n",
       "V4      284807.0  2.811118e-15      1.415869   -5.683171     -0.848640   \n",
       "V5      284807.0 -1.552103e-15      1.380247 -113.743307     -0.691597   \n",
       "V6      284807.0  2.040130e-15      1.332271  -26.160506     -0.768296   \n",
       "V7      284807.0 -1.698953e-15      1.237094  -43.557242     -0.554076   \n",
       "V8      284807.0 -1.893285e-16      1.194353  -73.216718     -0.208630   \n",
       "V9      284807.0 -3.147640e-15      1.098632  -13.434066     -0.643098   \n",
       "V10     284807.0  1.772925e-15      1.088850  -24.588262     -0.535426   \n",
       "V11     284807.0  9.289524e-16      1.020713   -4.797473     -0.762494   \n",
       "V12     284807.0 -1.803266e-15      0.999201  -18.683715     -0.405571   \n",
       "V13     284807.0  1.674888e-15      0.995274   -5.791881     -0.648539   \n",
       "V14     284807.0  1.475621e-15      0.958596  -19.214325     -0.425574   \n",
       "V15     284807.0  3.501098e-15      0.915316   -4.498945     -0.582884   \n",
       "V16     284807.0  1.392460e-15      0.876253  -14.129855     -0.468037   \n",
       "V17     284807.0 -7.466538e-16      0.849337  -25.162799     -0.483748   \n",
       "V18     284807.0  4.258754e-16      0.838176   -9.498746     -0.498850   \n",
       "V19     284807.0  9.019919e-16      0.814041   -7.213527     -0.456299   \n",
       "V20     284807.0  5.126845e-16      0.770925  -54.497720     -0.211721   \n",
       "V21     284807.0  1.473120e-16      0.734524  -34.830382     -0.228395   \n",
       "V22     284807.0  8.042109e-16      0.725702  -10.933144     -0.542350   \n",
       "V23     284807.0  5.282512e-16      0.624460  -44.807735     -0.161846   \n",
       "V24     284807.0  4.456271e-15      0.605647   -2.836627     -0.354586   \n",
       "V25     284807.0  1.426896e-15      0.521278  -10.295397     -0.317145   \n",
       "V26     284807.0  1.701640e-15      0.482227   -2.604551     -0.326984   \n",
       "V27     284807.0 -3.662252e-16      0.403632  -22.565679     -0.070840   \n",
       "V28     284807.0 -1.217809e-16      0.330083  -15.430084     -0.052960   \n",
       "Amount  284807.0  8.834962e+01    250.120109    0.000000      5.600000   \n",
       "Class   284807.0  1.727486e-03      0.041527    0.000000      0.000000   \n",
       "\n",
       "                 50%            75%            max  \n",
       "Time    84692.000000  139320.500000  172792.000000  \n",
       "V1          0.018109       1.315642       2.454930  \n",
       "V2          0.065486       0.803724      22.057729  \n",
       "V3          0.179846       1.027196       9.382558  \n",
       "V4         -0.019847       0.743341      16.875344  \n",
       "V5         -0.054336       0.611926      34.801666  \n",
       "V6         -0.274187       0.398565      73.301626  \n",
       "V7          0.040103       0.570436     120.589494  \n",
       "V8          0.022358       0.327346      20.007208  \n",
       "V9         -0.051429       0.597139      15.594995  \n",
       "V10        -0.092917       0.453923      23.745136  \n",
       "V11        -0.032757       0.739593      12.018913  \n",
       "V12         0.140033       0.618238       7.848392  \n",
       "V13        -0.013568       0.662505       7.126883  \n",
       "V14         0.050601       0.493150      10.526766  \n",
       "V15         0.048072       0.648821       8.877742  \n",
       "V16         0.066413       0.523296      17.315112  \n",
       "V17        -0.065676       0.399675       9.253526  \n",
       "V18        -0.003636       0.500807       5.041069  \n",
       "V19         0.003735       0.458949       5.591971  \n",
       "V20        -0.062481       0.133041      39.420904  \n",
       "V21        -0.029450       0.186377      27.202839  \n",
       "V22         0.006782       0.528554      10.503090  \n",
       "V23        -0.011193       0.147642      22.528412  \n",
       "V24         0.040976       0.439527       4.584549  \n",
       "V25         0.016594       0.350716       7.519589  \n",
       "V26        -0.052139       0.240952       3.517346  \n",
       "V27         0.001342       0.091045      31.612198  \n",
       "V28         0.011244       0.078280      33.847808  \n",
       "Amount     22.000000      77.165000   25691.160000  \n",
       "Class       0.000000       0.000000       1.000000  "
      ]
     },
     "execution_count": 6,
     "metadata": {},
     "output_type": "execute_result"
    }
   ],
   "source": [
    "data.describe().T"
   ]
  },
  {
   "cell_type": "code",
   "execution_count": 9,
   "metadata": {},
   "outputs": [
    {
     "name": "stdout",
     "output_type": "stream",
     "text": [
      "Requirement already satisfied: skimpy in c:\\users\\hp\\anaconda3\\lib\\site-packages (0.0.15)\n",
      "Requirement already satisfied: rich<14.0,>=10.9 in c:\\users\\hp\\anaconda3\\lib\\site-packages (from skimpy) (13.7.1)\n",
      "Requirement already satisfied: typeguard==4.2.1 in c:\\users\\hp\\anaconda3\\lib\\site-packages (from skimpy) (4.2.1)\n",
      "Requirement already satisfied: numpy<2.0.0,>=1.22.2 in c:\\users\\hp\\anaconda3\\lib\\site-packages (from skimpy) (1.26.4)\n",
      "Requirement already satisfied: pandas<3.0.0,>=2.0.3 in c:\\users\\hp\\anaconda3\\lib\\site-packages (from skimpy) (2.2.2)\n",
      "Requirement already satisfied: Pygments<3.0.0,>=2.10.0 in c:\\users\\hp\\anaconda3\\lib\\site-packages (from skimpy) (2.18.0)\n",
      "Requirement already satisfied: click<9.0.0,>=8.1.6 in c:\\users\\hp\\anaconda3\\lib\\site-packages (from skimpy) (8.1.7)\n",
      "Requirement already satisfied: ipykernel<7.0.0,>=6.7.0 in c:\\users\\hp\\anaconda3\\lib\\site-packages (from skimpy) (6.9.1)\n",
      "Requirement already satisfied: polars<0.21,>=0.19 in c:\\users\\hp\\anaconda3\\lib\\site-packages (from skimpy) (0.20.31)\n",
      "Requirement already satisfied: pyarrow<17,>=13 in c:\\users\\hp\\anaconda3\\lib\\site-packages (from skimpy) (16.1.0)\n",
      "Requirement already satisfied: typing-extensions>=4.10.0 in c:\\users\\hp\\anaconda3\\lib\\site-packages (from typeguard==4.2.1->skimpy) (4.12.1)\n",
      "Requirement already satisfied: importlib-metadata>=3.6 in c:\\users\\hp\\anaconda3\\lib\\site-packages (from typeguard==4.2.1->skimpy) (4.11.3)\n",
      "Requirement already satisfied: colorama in c:\\users\\hp\\anaconda3\\lib\\site-packages (from click<9.0.0,>=8.1.6->skimpy) (0.4.4)\n",
      "Requirement already satisfied: zipp>=0.5 in c:\\users\\hp\\anaconda3\\lib\\site-packages (from importlib-metadata>=3.6->typeguard==4.2.1->skimpy) (3.7.0)\n",
      "Requirement already satisfied: nest-asyncio in c:\\users\\hp\\anaconda3\\lib\\site-packages (from ipykernel<7.0.0,>=6.7.0->skimpy) (1.5.5)\n",
      "Requirement already satisfied: debugpy<2.0,>=1.0.0 in c:\\users\\hp\\anaconda3\\lib\\site-packages (from ipykernel<7.0.0,>=6.7.0->skimpy) (1.5.1)\n",
      "Requirement already satisfied: ipython>=7.23.1 in c:\\users\\hp\\anaconda3\\lib\\site-packages (from ipykernel<7.0.0,>=6.7.0->skimpy) (8.2.0)\n",
      "Requirement already satisfied: matplotlib-inline<0.2.0,>=0.1.0 in c:\\users\\hp\\anaconda3\\lib\\site-packages (from ipykernel<7.0.0,>=6.7.0->skimpy) (0.1.2)\n",
      "Requirement already satisfied: tornado<7.0,>=4.2 in c:\\users\\hp\\anaconda3\\lib\\site-packages (from ipykernel<7.0.0,>=6.7.0->skimpy) (6.1)\n",
      "Requirement already satisfied: traitlets<6.0,>=5.1.0 in c:\\users\\hp\\anaconda3\\lib\\site-packages (from ipykernel<7.0.0,>=6.7.0->skimpy) (5.1.1)\n",
      "Requirement already satisfied: jupyter-client<8.0 in c:\\users\\hp\\anaconda3\\lib\\site-packages (from ipykernel<7.0.0,>=6.7.0->skimpy) (6.1.12)\n",
      "Requirement already satisfied: decorator in c:\\users\\hp\\anaconda3\\lib\\site-packages (from ipython>=7.23.1->ipykernel<7.0.0,>=6.7.0->skimpy) (5.1.1)\n",
      "Requirement already satisfied: pickleshare in c:\\users\\hp\\anaconda3\\lib\\site-packages (from ipython>=7.23.1->ipykernel<7.0.0,>=6.7.0->skimpy) (0.7.5)\n",
      "Requirement already satisfied: backcall in c:\\users\\hp\\anaconda3\\lib\\site-packages (from ipython>=7.23.1->ipykernel<7.0.0,>=6.7.0->skimpy) (0.2.0)\n",
      "Requirement already satisfied: prompt-toolkit!=3.0.0,!=3.0.1,<3.1.0,>=2.0.0 in c:\\users\\hp\\anaconda3\\lib\\site-packages (from ipython>=7.23.1->ipykernel<7.0.0,>=6.7.0->skimpy) (3.0.20)\n",
      "Requirement already satisfied: jedi>=0.16 in c:\\users\\hp\\anaconda3\\lib\\site-packages (from ipython>=7.23.1->ipykernel<7.0.0,>=6.7.0->skimpy) (0.18.1)\n",
      "Requirement already satisfied: setuptools>=18.5 in c:\\users\\hp\\anaconda3\\lib\\site-packages (from ipython>=7.23.1->ipykernel<7.0.0,>=6.7.0->skimpy) (61.2.0)\n",
      "Requirement already satisfied: stack-data in c:\\users\\hp\\anaconda3\\lib\\site-packages (from ipython>=7.23.1->ipykernel<7.0.0,>=6.7.0->skimpy) (0.2.0)\n",
      "Requirement already satisfied: parso<0.9.0,>=0.8.0 in c:\\users\\hp\\anaconda3\\lib\\site-packages (from jedi>=0.16->ipython>=7.23.1->ipykernel<7.0.0,>=6.7.0->skimpy) (0.8.3)\n",
      "Requirement already satisfied: pyzmq>=13 in c:\\users\\hp\\anaconda3\\lib\\site-packages (from jupyter-client<8.0->ipykernel<7.0.0,>=6.7.0->skimpy) (22.3.0)\n",
      "Requirement already satisfied: jupyter-core>=4.6.0 in c:\\users\\hp\\anaconda3\\lib\\site-packages (from jupyter-client<8.0->ipykernel<7.0.0,>=6.7.0->skimpy) (4.9.2)\n",
      "Requirement already satisfied: python-dateutil>=2.1 in c:\\users\\hp\\anaconda3\\lib\\site-packages (from jupyter-client<8.0->ipykernel<7.0.0,>=6.7.0->skimpy) (2.8.2)\n",
      "Requirement already satisfied: pywin32>=1.0 in c:\\users\\hp\\anaconda3\\lib\\site-packages (from jupyter-core>=4.6.0->jupyter-client<8.0->ipykernel<7.0.0,>=6.7.0->skimpy) (302)\n",
      "Requirement already satisfied: tzdata>=2022.7 in c:\\users\\hp\\anaconda3\\lib\\site-packages (from pandas<3.0.0,>=2.0.3->skimpy) (2024.1)\n",
      "Requirement already satisfied: pytz>=2020.1 in c:\\users\\hp\\anaconda3\\lib\\site-packages (from pandas<3.0.0,>=2.0.3->skimpy) (2021.3)\n",
      "Requirement already satisfied: wcwidth in c:\\users\\hp\\anaconda3\\lib\\site-packages (from prompt-toolkit!=3.0.0,!=3.0.1,<3.1.0,>=2.0.0->ipython>=7.23.1->ipykernel<7.0.0,>=6.7.0->skimpy) (0.2.5)\n",
      "Requirement already satisfied: six>=1.5 in c:\\users\\hp\\anaconda3\\lib\\site-packages (from python-dateutil>=2.1->jupyter-client<8.0->ipykernel<7.0.0,>=6.7.0->skimpy) (1.16.0)\n",
      "Requirement already satisfied: markdown-it-py>=2.2.0 in c:\\users\\hp\\anaconda3\\lib\\site-packages (from rich<14.0,>=10.9->skimpy) (3.0.0)\n",
      "Requirement already satisfied: mdurl~=0.1 in c:\\users\\hp\\anaconda3\\lib\\site-packages (from markdown-it-py>=2.2.0->rich<14.0,>=10.9->skimpy) (0.1.2)\n",
      "Requirement already satisfied: executing in c:\\users\\hp\\anaconda3\\lib\\site-packages (from stack-data->ipython>=7.23.1->ipykernel<7.0.0,>=6.7.0->skimpy) (0.8.3)\n",
      "Requirement already satisfied: asttokens in c:\\users\\hp\\anaconda3\\lib\\site-packages (from stack-data->ipython>=7.23.1->ipykernel<7.0.0,>=6.7.0->skimpy) (2.0.5)\n",
      "Requirement already satisfied: pure-eval in c:\\users\\hp\\anaconda3\\lib\\site-packages (from stack-data->ipython>=7.23.1->ipykernel<7.0.0,>=6.7.0->skimpy) (0.2.2)\n"
     ]
    }
   ],
   "source": [
    "!pip install skimpy"
   ]
  },
  {
   "cell_type": "code",
   "execution_count": null,
   "metadata": {},
   "outputs": [],
   "source": [
    "!pip install pandas-profiling"
   ]
  },
  {
   "cell_type": "code",
   "execution_count": null,
   "metadata": {
    "id": "fUFjaDl_Apqz"
   },
   "outputs": [],
   "source": [
    "import polars as pl\n",
    "from pandas_profiling import ProfileReport\n",
    "from skimpy import skim"
   ]
  },
  {
   "cell_type": "code",
   "execution_count": 16,
   "metadata": {
    "colab": {
     "base_uri": "https://localhost:8080/",
     "height": 1000
    },
    "id": "7-BaLlqdA0CI",
    "outputId": "e452288a-600d-4eda-e47f-b4aa7501b768"
   },
   "outputs": [
    {
     "data": {
      "text/html": [
       "<style type=\"text/css\">\n",
       "#T_96705 thead>tr>th {\n",
       "  text-align: left;\n",
       "}\n",
       "#T_96705_row0_col0, #T_96705_row1_col0, #T_96705_row2_col0, #T_96705_row3_col0, #T_96705_row4_col0, #T_96705_row5_col0, #T_96705_row6_col0, #T_96705_row7_col0, #T_96705_row8_col0, #T_96705_row9_col0, #T_96705_row10_col0, #T_96705_row11_col0, #T_96705_row12_col0, #T_96705_row13_col0, #T_96705_row14_col0, #T_96705_row15_col0, #T_96705_row16_col0, #T_96705_row17_col0, #T_96705_row18_col0, #T_96705_row19_col0, #T_96705_row20_col0, #T_96705_row21_col0, #T_96705_row22_col0, #T_96705_row23_col0, #T_96705_row24_col0, #T_96705_row25_col0, #T_96705_row26_col0, #T_96705_row27_col0, #T_96705_row28_col0, #T_96705_row29_col0, #T_96705_row30_col0 {\n",
       "  text-align: left;\n",
       "  font-size: 12px;\n",
       "  vertical-align: middle;\n",
       "  width: 5%;\n",
       "  max-width: 50px;\n",
       "  min-width: 20px;\n",
       "}\n",
       "#T_96705_row0_col1, #T_96705_row1_col1, #T_96705_row2_col1, #T_96705_row3_col1, #T_96705_row4_col1, #T_96705_row5_col1, #T_96705_row6_col1, #T_96705_row7_col1, #T_96705_row8_col1, #T_96705_row9_col1, #T_96705_row10_col1, #T_96705_row11_col1, #T_96705_row12_col1, #T_96705_row13_col1, #T_96705_row14_col1, #T_96705_row15_col1, #T_96705_row16_col1, #T_96705_row17_col1, #T_96705_row18_col1, #T_96705_row19_col1, #T_96705_row20_col1, #T_96705_row21_col1, #T_96705_row22_col1, #T_96705_row23_col1, #T_96705_row24_col1, #T_96705_row25_col1, #T_96705_row26_col1, #T_96705_row27_col1, #T_96705_row28_col1, #T_96705_row29_col1, #T_96705_row30_col1 {\n",
       "  text-align: left;\n",
       "  font-size: 12px;\n",
       "  vertical-align: middle;\n",
       "  width: 15%;\n",
       "  max-width: 200px;\n",
       "  min-width: 100px;\n",
       "  word-break: break-word;\n",
       "}\n",
       "#T_96705_row0_col2, #T_96705_row1_col2, #T_96705_row2_col2, #T_96705_row3_col2, #T_96705_row4_col2, #T_96705_row5_col2, #T_96705_row6_col2, #T_96705_row7_col2, #T_96705_row8_col2, #T_96705_row9_col2, #T_96705_row10_col2, #T_96705_row11_col2, #T_96705_row12_col2, #T_96705_row13_col2, #T_96705_row14_col2, #T_96705_row15_col2, #T_96705_row16_col2, #T_96705_row17_col2, #T_96705_row18_col2, #T_96705_row19_col2, #T_96705_row20_col2, #T_96705_row21_col2, #T_96705_row22_col2, #T_96705_row23_col2, #T_96705_row24_col2, #T_96705_row25_col2, #T_96705_row26_col2, #T_96705_row27_col2, #T_96705_row28_col2, #T_96705_row29_col2, #T_96705_row30_col2 {\n",
       "  text-align: left;\n",
       "  font-size: 12px;\n",
       "  vertical-align: middle;\n",
       "  width: 30%;\n",
       "  min-width: 100px;\n",
       "}\n",
       "#T_96705_row0_col3, #T_96705_row1_col3, #T_96705_row2_col3, #T_96705_row3_col3, #T_96705_row4_col3, #T_96705_row5_col3, #T_96705_row6_col3, #T_96705_row7_col3, #T_96705_row8_col3, #T_96705_row9_col3, #T_96705_row10_col3, #T_96705_row11_col3, #T_96705_row12_col3, #T_96705_row13_col3, #T_96705_row14_col3, #T_96705_row15_col3, #T_96705_row16_col3, #T_96705_row17_col3, #T_96705_row18_col3, #T_96705_row19_col3, #T_96705_row20_col3, #T_96705_row21_col3, #T_96705_row22_col3, #T_96705_row23_col3, #T_96705_row24_col3, #T_96705_row25_col3, #T_96705_row26_col3, #T_96705_row27_col3, #T_96705_row28_col3, #T_96705_row29_col3, #T_96705_row30_col3 {\n",
       "  text-align: left;\n",
       "  font-size: 12px;\n",
       "  vertical-align: middle;\n",
       "  width: 25%;\n",
       "  min-width: 100px;\n",
       "}\n",
       "#T_96705_row0_col4, #T_96705_row1_col4, #T_96705_row2_col4, #T_96705_row3_col4, #T_96705_row4_col4, #T_96705_row5_col4, #T_96705_row6_col4, #T_96705_row7_col4, #T_96705_row8_col4, #T_96705_row9_col4, #T_96705_row10_col4, #T_96705_row11_col4, #T_96705_row12_col4, #T_96705_row13_col4, #T_96705_row14_col4, #T_96705_row15_col4, #T_96705_row16_col4, #T_96705_row17_col4, #T_96705_row18_col4, #T_96705_row19_col4, #T_96705_row20_col4, #T_96705_row21_col4, #T_96705_row22_col4, #T_96705_row23_col4, #T_96705_row24_col4, #T_96705_row25_col4, #T_96705_row26_col4, #T_96705_row27_col4, #T_96705_row28_col4, #T_96705_row29_col4, #T_96705_row30_col4 {\n",
       "  text-align: left;\n",
       "  font-size: 12px;\n",
       "  vertical-align: middle;\n",
       "  width: 20%;\n",
       "  min-width: 150px;\n",
       "}\n",
       "#T_96705_row0_col5, #T_96705_row1_col5, #T_96705_row2_col5, #T_96705_row3_col5, #T_96705_row4_col5, #T_96705_row5_col5, #T_96705_row6_col5, #T_96705_row7_col5, #T_96705_row8_col5, #T_96705_row9_col5, #T_96705_row10_col5, #T_96705_row11_col5, #T_96705_row12_col5, #T_96705_row13_col5, #T_96705_row14_col5, #T_96705_row15_col5, #T_96705_row16_col5, #T_96705_row17_col5, #T_96705_row18_col5, #T_96705_row19_col5, #T_96705_row20_col5, #T_96705_row21_col5, #T_96705_row22_col5, #T_96705_row23_col5, #T_96705_row24_col5, #T_96705_row25_col5, #T_96705_row26_col5, #T_96705_row27_col5, #T_96705_row28_col5, #T_96705_row29_col5, #T_96705_row30_col5 {\n",
       "  text-align: left;\n",
       "  font-size: 12px;\n",
       "  vertical-align: middle;\n",
       "  width: 10%;\n",
       "}\n",
       "</style>\n",
       "<table id=\"T_96705\" class=\"dataframe\">\n",
       "  <caption><strong>Data Frame Summary</strong><br>data<br>Dimensions: 35,742 x 31<br>Duplicates: 140</caption>\n",
       "  <thead>\n",
       "    <tr>\n",
       "      <th id=\"T_96705_level0_col0\" class=\"col_heading level0 col0\" >No</th>\n",
       "      <th id=\"T_96705_level0_col1\" class=\"col_heading level0 col1\" >Variable</th>\n",
       "      <th id=\"T_96705_level0_col2\" class=\"col_heading level0 col2\" >Stats / Values</th>\n",
       "      <th id=\"T_96705_level0_col3\" class=\"col_heading level0 col3\" >Freqs / (% of Valid)</th>\n",
       "      <th id=\"T_96705_level0_col4\" class=\"col_heading level0 col4\" >Graph</th>\n",
       "      <th id=\"T_96705_level0_col5\" class=\"col_heading level0 col5\" >Missing</th>\n",
       "    </tr>\n",
       "  </thead>\n",
       "  <tbody>\n",
       "    <tr>\n",
       "      <td id=\"T_96705_row0_col0\" class=\"data row0 col0\" >1</td>\n",
       "      <td id=\"T_96705_row0_col1\" class=\"data row0 col1\" ><strong>Time</strong><br>[int64]</td>\n",
       "      <td id=\"T_96705_row0_col2\" class=\"data row0 col2\" >Mean (sd) : 23997.3 (12423.7)<br>min < med < max:<br>0.0 < 28992.0 < 38241.0<br>IQR (CV) : 21974.5 (1.9)</td>\n",
       "      <td id=\"T_96705_row0_col3\" class=\"data row0 col3\" >19,693 distinct values</td>\n",
       "      <td id=\"T_96705_row0_col4\" class=\"data row0 col4\" ><img src = \"data:image/png;base64, iVBORw0KGgoAAAANSUhEUgAAAKoAAABGCAYAAABc8A97AAAAOXRFWHRTb2Z0d2FyZQBNYXRwbG90bGliIHZlcnNpb24zLjcuMSwgaHR0cHM6Ly9tYXRwbG90bGliLm9yZy/bCgiHAAAACXBIWXMAAA9hAAAPYQGoP6dpAAACxklEQVR4nO3dQU7bQBSA4TcNhAmJbIVEyY4LIHWBxMYH6LKH7RFYsGDNDdghRVGiuFgxJt2UqpUgJDOezjzr/7ZowJJ/ReOYZ5vdbidA6r7EPgDgECexDwDdYYwZiEjfcfl2t9s9f/RDQkUrjDGDyWTyPcuyscv69Xq9NMb8+ChWQkVb+lmWjYuieM7zvDpm4Wq1snd3d+PFYtEXEUJFeHmeV7PZ7KfD0sG+H3IxBRUIFSoQKlQgVKhAqFCBUKECX0/hD887S9nr6+tpm8fzN0KFiPjfWarr2jZNc1VV1a2IuHyPuheh4o3znSURkcfHx/HDw8P5y8tLL8TBESr+4Xpnablc7r2z5IuLKahAqFCBUKECoUIFQoUKhAoVCBUqECpUIFSoQKhQgVChAqFCBUKFCoQKFQgVKhAqVCBUqECoUOHTUZSQz7xE+zzOV9ApUl97Qw39zEu0y+d8hZ4i9fXZJ2rQZ16idc7nK/QUqa+DplBDPfMSYbicr9BTpL64mIIKhAoVCBUqECpUIFSoQKhQgVChAqFCBUKFCoQKFQgVKhAqVCBUqMAz/BOT8it0YiLUhKT+Cp2Ykg5V6xiMzzjIaDSaFUWxTvEVOjEFDbVpmlMRyYwxLsvtxcXFtzzPhy6LY43BtDEOcnZ2dpviK3RiChZqWZandV1/vby87PV6vaM/Heq6tiJydXNzcz+dTtfHrI08BtPZcZCYgoW63W5PrLXn19fX1Xw+Xx67/u2kWWtrjWMwXRwHiSn4HnU4HEZ5E5zntkOEUe+kJH0x5cp32yHCqHdqOhmq77aDUe/0dDLUN67bjt/YLyak06H68NjjdvbuUEyE+g6fPW6X7w7FRKjv8Nnj8l1oGIS6h8sel+9Cw+Df/KACoUIFQoUKhAoVDrqYWq1W9thfvNlsrIhIWZb26enp/H+u1/q3tR637/pD+voFD9OS1KOrHzEAAAAASUVORK5CYII=\"></img></td>\n",
       "      <td id=\"T_96705_row0_col5\" class=\"data row0 col5\" >0<br>(0.0%)</td>\n",
       "    </tr>\n",
       "    <tr>\n",
       "      <td id=\"T_96705_row1_col0\" class=\"data row1 col0\" >2</td>\n",
       "      <td id=\"T_96705_row1_col1\" class=\"data row1 col1\" ><strong>V1</strong><br>[float64]</td>\n",
       "      <td id=\"T_96705_row1_col2\" class=\"data row1 col2\" >Mean (sd) : -0.2 (1.8)<br>min < med < max:<br>-30.6 < -0.2 < 2.0<br>IQR (CV) : 2.1 (-0.1)</td>\n",
       "      <td id=\"T_96705_row1_col3\" class=\"data row1 col3\" >34,906 distinct values</td>\n",
       "      <td id=\"T_96705_row1_col4\" class=\"data row1 col4\" ><img src = \"data:image/png;base64, iVBORw0KGgoAAAANSUhEUgAAAKoAAABGCAYAAABc8A97AAAAOXRFWHRTb2Z0d2FyZQBNYXRwbG90bGliIHZlcnNpb24zLjcuMSwgaHR0cHM6Ly9tYXRwbG90bGliLm9yZy/bCgiHAAAACXBIWXMAAA9hAAAPYQGoP6dpAAAB7ElEQVR4nO3ZO07DQBRG4Ts8jI3QjBxL3gQ7cE/LYlkCRQrq7CBdlChylIdFHqZAIChCsJMQ/uh8rX3lWxxZssfVdW3Af3dx6gWA37g69QI4H865xMyiluOvdV0vtl0kVByEcy7JsuzRe5+2mZ9MJmPn3NO2WAkVhxJ579OiKBYhhKrJYFmWcbfbTUejUWRmhIrjCyFUeZ7PW4wmP13kYwoSCBUSCBUSCBUSCBUSCBUSCBUSCBUSCBUSCBUSCBUSCBUSCBUSCBUSCBUSCBUSCBUSCBUSCBUSCBUSCBUSCBUSCBUSCBUSCBUSCBUSCBUSCBUSCBUSCBUSCBUSCBUSCBUSCBUSCBUSCBUSCBUSCBUSCBUSCBUSCBUSCBUSCBUSCBUSCBUSCBUSCBUSCBUSCBUSCBUSCBUSrk69AP4P51xiZlHLcb/ZbK4Puc9XhAoze480y7JH733aZn65XMbr9fq+qqpnM5sfeD1CxafIe58WRbEIIVRNh/v9ftrr9W5Xq9XlMZYjVHwTQqjyPG/8RhyPx8kx9vnAxxQkECokECokECokECokECokECok8B/1zOxxDHrUI9B97QzVOReb2c0f7IL9xZ1O5yGEcNd08OMIdDgcvrR58HQ6jc3MZrNZPBgMbpvMlmUZ77rnDdxwWG0U1GtqAAAAAElFTkSuQmCC\"></img></td>\n",
       "      <td id=\"T_96705_row1_col5\" class=\"data row1 col5\" >0<br>(0.0%)</td>\n",
       "    </tr>\n",
       "    <tr>\n",
       "      <td id=\"T_96705_row2_col0\" class=\"data row2 col0\" >3</td>\n",
       "      <td id=\"T_96705_row2_col1\" class=\"data row2 col1\" ><strong>V2</strong><br>[float64]</td>\n",
       "      <td id=\"T_96705_row2_col2\" class=\"data row2 col2\" >Mean (sd) : 0.1 (1.5)<br>min < med < max:<br>-41.0 < 0.1 < 16.7<br>IQR (CV) : 1.3 (0.0)</td>\n",
       "      <td id=\"T_96705_row2_col3\" class=\"data row2 col3\" >34,906 distinct values</td>\n",
       "      <td id=\"T_96705_row2_col4\" class=\"data row2 col4\" ><img src = \"data:image/png;base64, iVBORw0KGgoAAAANSUhEUgAAAKoAAABGCAYAAABc8A97AAAAOXRFWHRTb2Z0d2FyZQBNYXRwbG90bGliIHZlcnNpb24zLjcuMSwgaHR0cHM6Ly9tYXRwbG90bGliLm9yZy/bCgiHAAAACXBIWXMAAA9hAAAPYQGoP6dpAAAB6UlEQVR4nO3dQYrbQBBG4arEUaRZdCMEukRuoEPMYXOEWfgEvoF3BmPa2GMlttxZZD0k1shj/cP79oVq8RA0NLTnnA2Yuy+PXgD4H4tHL4BpuXtlZsXI8d8559OU+0yFUD8Rd6+apnkOIdRj5vf7/c7df84xVkL9XIoQQt113SnG2N8ymFIql8tlvd1uCzMjVNxfjLFv2/Z1xGg1+TIT4TAFCYQKCYQKCYQKCYQKCYQKCYQKCYQKCYQKCYQKCYQKCYQKCYQKCYQKCYQKCYQKCYQKCYQKCYQKCYQKCYQKCYQKCYQKCYQKCYQKCYQKCYQKCYQKCYQKCYQKCYQKCYQKCYQKCYQKCYQKCYQKCYQKCYQKCYQKCYQKCYQKCYQKCYQKCYQKCYQKCbwuPTPuXplZMXI8XK/Xb1PuMxeEOiPuXjVN8xxCqMfMn8/nchiGH33fv5jZmGfQZ4tQ56UIIdRd151ijP2tw+v1ul6tVk+Xy+XrPZZ7JEKdoRhj37btzX/E3W5X3WOfOeAwBQmECgmECgmECgmECgmECgmECgmECgmECgmECgmECgmECgmECgmECgn/vObn7qWZff+AXfD3hv4ipVSOGT4cDqWZ2fF4LDebzdMtsymlchiGhZkFdx/z+ff6lXN+8w7uH6KoWMiVAyIcAAAAAElFTkSuQmCC\"></img></td>\n",
       "      <td id=\"T_96705_row2_col5\" class=\"data row2 col5\" >0<br>(0.0%)</td>\n",
       "    </tr>\n",
       "    <tr>\n",
       "      <td id=\"T_96705_row3_col0\" class=\"data row3 col0\" >4</td>\n",
       "      <td id=\"T_96705_row3_col1\" class=\"data row3 col1\" ><strong>V3</strong><br>[float64]</td>\n",
       "      <td id=\"T_96705_row3_col2\" class=\"data row3 col2\" >Mean (sd) : 0.7 (1.5)<br>min < med < max:<br>-31.1 < 0.8 < 4.1<br>IQR (CV) : 1.2 (0.5)</td>\n",
       "      <td id=\"T_96705_row3_col3\" class=\"data row3 col3\" >34,906 distinct values</td>\n",
       "      <td id=\"T_96705_row3_col4\" class=\"data row3 col4\" ><img src = \"data:image/png;base64, iVBORw0KGgoAAAANSUhEUgAAAKoAAABGCAYAAABc8A97AAAAOXRFWHRTb2Z0d2FyZQBNYXRwbG90bGliIHZlcnNpb24zLjcuMSwgaHR0cHM6Ly9tYXRwbG90bGliLm9yZy/bCgiHAAAACXBIWXMAAA9hAAAPYQGoP6dpAAAB1klEQVR4nO3dvU4CQRSG4TP+4EDMTBYSbsI7oLf1Yr0ECwpr7oCOQDZLQDbys1YYLQCZBfUj79MuJ0zxNlvsGVdVlQH/3dVfHwD4iZu/PgAuh3OuaWaNxPH3qqoWux4SKk7COdfsdDpPIYQsZX46nebOueddsRIqTqURQsh6vd4ixlgeM1gUhe/3+9lkMmmYGaHi/GKMZbfbfUsYbe57yMsUJBAqJBAqJBAqJBAqJBAqJBAqJBAqJBAqJBAqJBAqJBAqJBAqJBAqJBAqJBAqJBAqJBAqJBAqJBAqJBAqJPAVKj7VXCARNpvN7SnP8xWhwszqL5BYLpd+vV4/lGX5YmYpn0vvRajYSl4gYWY2HA6zwWDQWq1W1+c4HKHim9QFEnme710gURcvU5BAqJBAqJBAqJBAqJBAqJBAqJBAqJBAqJBAqJBAqJBAqJBAqJBAqJBAqJBAqJBAqJBAqJBAqJBAqJBAqJBAqJBAqJBAqJBAqJBAqJBAqJBAqJBAqJBAqJBAqJBAqJBAqJBAqJBAqJBAqJBAqJDArSgXpsalZme90Kyug6E657yZ3f3CWVCfb7fbjzHG+2MHtxeajcfj15Q/ns1m3sxsPp/70WjUOma2KAp/6Dcf6OBYbVP6UAsAAAAASUVORK5CYII=\"></img></td>\n",
       "      <td id=\"T_96705_row3_col5\" class=\"data row3 col5\" >0<br>(0.0%)</td>\n",
       "    </tr>\n",
       "    <tr>\n",
       "      <td id=\"T_96705_row4_col0\" class=\"data row4 col0\" >5</td>\n",
       "      <td id=\"T_96705_row4_col1\" class=\"data row4 col1\" ><strong>V4</strong><br>[float64]</td>\n",
       "      <td id=\"T_96705_row4_col2\" class=\"data row4 col2\" >Mean (sd) : 0.2 (1.4)<br>min < med < max:<br>-5.2 < 0.2 < 13.1<br>IQR (CV) : 1.8 (0.1)</td>\n",
       "      <td id=\"T_96705_row4_col3\" class=\"data row4 col3\" >34,906 distinct values</td>\n",
       "      <td id=\"T_96705_row4_col4\" class=\"data row4 col4\" ><img src = \"data:image/png;base64, iVBORw0KGgoAAAANSUhEUgAAAKoAAABGCAYAAABc8A97AAAAOXRFWHRTb2Z0d2FyZQBNYXRwbG90bGliIHZlcnNpb24zLjcuMSwgaHR0cHM6Ly9tYXRwbG90bGliLm9yZy/bCgiHAAAACXBIWXMAAA9hAAAPYQGoP6dpAAACnElEQVR4nO3dsW7aUBSH8XPqgAyo17KQwsYLVMrAyEPkYbN268DQOW+QJYqCCAg31I7jTunUprUxxX/3++0HXaRPiHtt6XpVVQZ03YdzLwD4GxfnXsB73H1kZsOG43lVVc9trgfn09lQ3X00nU6vQwhpk/ndbrdx9xti7YfOhmpmwxBCulwun5MkOdQZ3G638Wq1Stfr9dDMCLUHuhyqmZklSXK4vLz81mB01PpicDZspiCBUCGBUCGBUCGh85uppsqyHJhZcPemH8E5bIf0MtQsywZFUVzN5/MoiqJaR1tvOIftll6Gmuf5RRzH48VicZjNZpu685zDdk8vQ30zmUyansGacQ7bKWymIIFQIYFQIYFQIYFQIYFQIYFQIYFQIYFQIYFQIYFQIYFQIYFQIYFQIYFQIYFQIYFQIYFQIYFQIYFQIYFQIYFQIYFQIYFQIYFQIYFQIYFQIYFQIYFQIYFQIYFQIYFQIYFQIYFQIYFQIYFQIYFQIYFQIYFQIeGk90y5+8jMhg3Hw+vr66DN9UDXyUJ199F0Or0OIaRN5ouiiMuy/HQ4HL6YWdNLzdATp/xFHYYQ0uVy+ZwkSe37SO/u7tLb29vxy8tLdIrFQcvJr5hMkqTRNY+bzYYrHvETmylI6PWlvccoy3JgZsHdm4znXJ/eLkL9hSzLBkVRXM3n8yiKotr/r3e73cbdb4i1PYT6C3meX8RxPF4sFofZbLapM7vdbuPVapWu1+uhmRFqSwj1HZPJpNFG0MzYCLaMzRQkECokECokECokECokECok/PF46ohX9f7b1/R4qtW+d0M95lW9t9f0Hh8fvzZZ2H6/j83MsiyLHx4exv9q9tj5+/v7j8c81Xp6etq7+2czqz0r7ntVVb/9zj8AeTbSZWKaxW4AAAAASUVORK5CYII=\"></img></td>\n",
       "      <td id=\"T_96705_row4_col5\" class=\"data row4 col5\" >0<br>(0.0%)</td>\n",
       "    </tr>\n",
       "    <tr>\n",
       "      <td id=\"T_96705_row5_col0\" class=\"data row5 col0\" >6</td>\n",
       "      <td id=\"T_96705_row5_col1\" class=\"data row5 col1\" ><strong>V5</strong><br>[float64]</td>\n",
       "      <td id=\"T_96705_row5_col2\" class=\"data row5 col2\" >Mean (sd) : -0.2 (1.4)<br>min < med < max:<br>-42.1 < -0.3 < 34.1<br>IQR (CV) : 1.1 (-0.2)</td>\n",
       "      <td id=\"T_96705_row5_col3\" class=\"data row5 col3\" >34,906 distinct values</td>\n",
       "      <td id=\"T_96705_row5_col4\" class=\"data row5 col4\" ><img src = \"data:image/png;base64, iVBORw0KGgoAAAANSUhEUgAAAKoAAABGCAYAAABc8A97AAAAOXRFWHRTb2Z0d2FyZQBNYXRwbG90bGliIHZlcnNpb24zLjcuMSwgaHR0cHM6Ly9tYXRwbG90bGliLm9yZy/bCgiHAAAACXBIWXMAAA9hAAAPYQGoP6dpAAABdElEQVR4nO3XMU5CQRiF0RlDEJr3QkhYDItwsS6C3RAzFIomMLZaGJWgcMk57bw/ucXXvNp7L3Dt7i49AH5icukBt6jWOi+lTE88f+u9v5xzzy0Q6pnVWufL5fJhGIbFKfe73e6p1voo1s+Een7TYRgW6/X6ZRzH/W8OW2uzzWaz2G6301KKUD8Q6h8Zx3G/Wq2eTzidn33MDfAzRQShEkGoRBAqEYRKBKESQahEECoRhEoEoRJBqEQQKhGESgShEkGoRBAqEYRKBKESQahEECoRhEoEoRJBqEQQKhGESgShEkGoRBAqEYRKBKESQahEECoRhEoEoRJBqEQQKhGESgShEkGoRBAqEYRKBKESQahEECoRhEoEoRJBqEQQKhGESgShEkGoRBAqEYRKBKESQahEECoRhEoEoRJBqEQQKhGESgShEkGoRJh890GtdVZKuf+HLbdiOB6Pk9ba7LeHrbXZ4XCYlFKGWusfTLtqr733/VeP76PYMRD1p5pCAAAAAElFTkSuQmCC\"></img></td>\n",
       "      <td id=\"T_96705_row5_col5\" class=\"data row5 col5\" >0<br>(0.0%)</td>\n",
       "    </tr>\n",
       "    <tr>\n",
       "      <td id=\"T_96705_row6_col0\" class=\"data row6 col0\" >7</td>\n",
       "      <td id=\"T_96705_row6_col1\" class=\"data row6 col1\" ><strong>V6</strong><br>[float64]</td>\n",
       "      <td id=\"T_96705_row6_col2\" class=\"data row6 col2\" >Mean (sd) : 0.1 (1.3)<br>min < med < max:<br>-23.5 < -0.2 < 22.5<br>IQR (CV) : 1.1 (0.1)</td>\n",
       "      <td id=\"T_96705_row6_col3\" class=\"data row6 col3\" >34,905 distinct values</td>\n",
       "      <td id=\"T_96705_row6_col4\" class=\"data row6 col4\" ><img src = \"data:image/png;base64, iVBORw0KGgoAAAANSUhEUgAAAKoAAABGCAYAAABc8A97AAAAOXRFWHRTb2Z0d2FyZQBNYXRwbG90bGliIHZlcnNpb24zLjcuMSwgaHR0cHM6Ly9tYXRwbG90bGliLm9yZy/bCgiHAAAACXBIWXMAAA9hAAAPYQGoP6dpAAAB+klEQVR4nO3cMW4aURCH8ZmsjRdLfiuERMkFLPkAHCKHTZsuBSfgBjQICcEiMGsvuy9VpETCTlgvgT/+fv08TfE1rxmPMRpw6b6cewHgX9yce4Fr5O5dM+s0HH+NMe7a3OcaEGrL3L3b7/e/hhB6TebX6/XS3b8R658ItX2dEEJvNBrtsiwrjhnM8zwdj8e9xWLRMTNC/Q2hnkiWZcVgMHhuMNptfZkrwGcKEggVEggVEggVEggVEggVEggVEggVEggVEggVEggVEggVEggVEggVEggVEggVEggVEggVEggVEggVEggVEggVEggVEggVEggVEggVEggVEggVEggVErjm94YPHOMNdV3ftr3PZ0eoB3zkGG9ZlmlVVY9FUfwwsyZnJ3EAoR7W+BjvdDrtTSaT+/1+n5xquc+IUN/R5BjvcrnkEO8J8JmCBEKFBEKFBEKFBEKFBEKFBEKFBEKFBEKFBEKFBEKFBEKFBEKFBEKFBEKFBEKFBEKFBEKFBEKFBEKFBEKFBEKFBEKFBEKFBEKFBEKFBEKFBEKFBEKFBK75XZiqqm7NLLh70ydeY4y7Fle6CH8N1d1TM7v7D7tcklDX9U2e5+mxg5vNJjUz22636Xw+vz9mdjabPZRl+TQcDpMkSY66y/rLarXauPt3M2s0f0YvMcY3d/4J0J5nmqS9oy4AAAAASUVORK5CYII=\"></img></td>\n",
       "      <td id=\"T_96705_row6_col5\" class=\"data row6 col5\" >1<br>(0.0%)</td>\n",
       "    </tr>\n",
       "    <tr>\n",
       "      <td id=\"T_96705_row7_col0\" class=\"data row7 col0\" >8</td>\n",
       "      <td id=\"T_96705_row7_col1\" class=\"data row7 col1\" ><strong>V7</strong><br>[float64]</td>\n",
       "      <td id=\"T_96705_row7_col2\" class=\"data row7 col2\" >Mean (sd) : -0.1 (1.3)<br>min < med < max:<br>-26.5 < -0.1 < 36.7<br>IQR (CV) : 1.0 (-0.1)</td>\n",
       "      <td id=\"T_96705_row7_col3\" class=\"data row7 col3\" >34,905 distinct values</td>\n",
       "      <td id=\"T_96705_row7_col4\" class=\"data row7 col4\" ><img src = \"data:image/png;base64, iVBORw0KGgoAAAANSUhEUgAAAKoAAABGCAYAAABc8A97AAAAOXRFWHRTb2Z0d2FyZQBNYXRwbG90bGliIHZlcnNpb24zLjcuMSwgaHR0cHM6Ly9tYXRwbG90bGliLm9yZy/bCgiHAAAACXBIWXMAAA9hAAAPYQGoP6dpAAAB7UlEQVR4nO3XzY2bUBSG4XMyDoFZ3CuERBPpgCKm2CkhC1fgDryzZFlY9pjEBtLA5IcbHM9nv8/+iG/xCoSP42jAR/fp1gOAv7G49YCPyt0LM8sSz3+M43iac8+jI9R3uHtRVdVLCKFMud/v9zt3fyXW+RDq+7IQQtk0zSnG2E05bNs2Xy6X5Xa7zcyMUGdCqL8RY+zqun5LOC1mH/Pg+JmCBEKFBEKFBEKFBEKFBEKFBEKFBEKFBEKFBEKFBEKFBEKFBEKFBEKFBEKFBEKFBEKFBEKFBEKFBEKFBEKFBEKFBEKFBEKFBEKFBEKFBEKFBEKFBEKFBEKFBEKFBEKFBEKFBEKFBEKFBEKFBEKFBEKFBEKFBEKFBEKFBEKFBEKFBEKFBEKFBEKFBEKFBEKFBEKFBEKFBEKFBEKFBEKFBEKFBEKFBEKFBEKFBEKFBEKFhMWtB1yLuxdmliWeh2EYPs+5B//mLkN196KqqpcQQplyfz6f877vv3Zd983M3maehwR3GaqZZSGEsmmaU4yxm3q8Xq/L1Wr1fLlcnq4xDtPda6hmZhZj7Oq6nvxG3O12xTX2IN0fQ3X33My+/IctcwrDMCzats1Tjg+HQ25mdjwe881m8zzltm3bvO/7hZkFd095/KP6Po7jL79+PwEeeFjIbinbIwAAAABJRU5ErkJggg==\"></img></td>\n",
       "      <td id=\"T_96705_row7_col5\" class=\"data row7 col5\" >1<br>(0.0%)</td>\n",
       "    </tr>\n",
       "    <tr>\n",
       "      <td id=\"T_96705_row8_col0\" class=\"data row8 col0\" >9</td>\n",
       "      <td id=\"T_96705_row8_col1\" class=\"data row8 col1\" ><strong>V8</strong><br>[float64]</td>\n",
       "      <td id=\"T_96705_row8_col2\" class=\"data row8 col2\" >Mean (sd) : 0.0 (1.2)<br>min < med < max:<br>-41.5 < 0.0 < 20.0<br>IQR (CV) : 0.5 (0.0)</td>\n",
       "      <td id=\"T_96705_row8_col3\" class=\"data row8 col3\" >34,905 distinct values</td>\n",
       "      <td id=\"T_96705_row8_col4\" class=\"data row8 col4\" ><img src = \"data:image/png;base64, iVBORw0KGgoAAAANSUhEUgAAAKoAAABGCAYAAABc8A97AAAAOXRFWHRTb2Z0d2FyZQBNYXRwbG90bGliIHZlcnNpb24zLjcuMSwgaHR0cHM6Ly9tYXRwbG90bGliLm9yZy/bCgiHAAAACXBIWXMAAA9hAAAPYQGoP6dpAAABmklEQVR4nO3XMU4CURRG4XsFEQpnQkgoWYILYBEu1taetdAQGWIEJfCsLYyCo8wx5+vvm784zWQpJaSuu7r0AOk7+pceoI8ycxQRgx888VZK2ba1pysMtUMyczSZTO6rqhqf+8Zms3nKzIf/FquhdsugqqrxfD7f1nW9O/W4aZrhYrEYr1arQUQYqn5XXde76XT6cub5qNUxHeHPlBAMVQiGKgRDFYKhCsFQhWCoQjBUIRiqEAxVCIYqBEMVgqEKwVCFYKhCMFQhGKoQDFUIhioEQxWCoQrBUIVgqEIwVCEYqhAMVQiGKgRDFYKhCsFQhWCoQjBUIRiqEAxVCIYqBEMVgqEKwVCFYKhCMFQhGKoQDFUIhioEQxWCoQrBUIVgqEIwVCEYqhAMVQiGKgRDFYKhCsFQhWCoQjBUIRiqEAxVCIYqBEMVgqEKwVCF0L/0ALXrcDhcR0SVmeecv5VSti1PasWXoWbmMCJu/mCLIqrj8dhvmmZ4zvFyubzd7/d3s9ms1+v1dqfer9fr58x8jIiTb1vwWkr59LvvzEw/4lmQ4b8AAAAASUVORK5CYII=\"></img></td>\n",
       "      <td id=\"T_96705_row8_col5\" class=\"data row8 col5\" >1<br>(0.0%)</td>\n",
       "    </tr>\n",
       "    <tr>\n",
       "      <td id=\"T_96705_row9_col0\" class=\"data row9 col0\" >10</td>\n",
       "      <td id=\"T_96705_row9_col1\" class=\"data row9 col1\" ><strong>V9</strong><br>[float64]</td>\n",
       "      <td id=\"T_96705_row9_col2\" class=\"data row9 col2\" >Mean (sd) : 0.3 (1.2)<br>min < med < max:<br>-7.2 < 0.1 < 10.4<br>IQR (CV) : 1.5 (0.2)</td>\n",
       "      <td id=\"T_96705_row9_col3\" class=\"data row9 col3\" >34,905 distinct values</td>\n",
       "      <td id=\"T_96705_row9_col4\" class=\"data row9 col4\" ><img src = \"data:image/png;base64, iVBORw0KGgoAAAANSUhEUgAAAKoAAABGCAYAAABc8A97AAAAOXRFWHRTb2Z0d2FyZQBNYXRwbG90bGliIHZlcnNpb24zLjcuMSwgaHR0cHM6Ly9tYXRwbG90bGliLm9yZy/bCgiHAAAACXBIWXMAAA9hAAAPYQGoP6dpAAACY0lEQVR4nO3dO47aYBSG4fOHSwwoRggJOjYQKQUli8hip02XwitgB9MgJAts4eBgbKdNInLB9gz+PO/TH+kUbwM68u/KsjSg7d49egHgf/QfvUBbOedGZjasOH4py/Lc5D5vHaHe4Jwbzefzz77vz6rMx3F8cM49EWtzCPW2oe/7s81mc55Op+k9g1EUeUEQzMIwHJoZoTaEUP9iOp2mi8XiW4XRUePLvHH8mIIEQoUEQoUEQoUEQoUEQoUEQoUEQoUEQoUEQoUEQoUEQoUEQoUEQoWEzp751bzQ94uiGDS5D+rpZKh1L/SzLPPyPP+YpulXM6tyj4qGdTJUq3Ghb2b2/Pw822634+v12nuJ5XC/roZqZtUv9A+HAxf6LcOPKUggVEggVEggVEggVEggVEggVEggVEggVEggVEggVEggVEggVEggVEggVEggVEggVEggVEggVEggVEggVEggVEggVEggVEggVEggVEggVEggVEggVEjo9Nf8HiXP84GZ+c65KuOXsizPDa8kj1AbliTJIMuyT6vVqtfr9e7+Nmscxwfn3BOx/opQG3a5XPqe543X63W6XC4P98xGUeQFQTALw3BoZoT6E0J9IZPJpNJHhM2MjwjfwI8pSCBUSCBUSCBUSCBUSCBUSCBUSCBUSGj1H/41Ht7l0d2OaW2odR7e5dHd7mltqFbj4V0e3e2eNodqZtUe3lV+dLfmiaBZR88E/xmqc84zs/evsMvv/KIo+lEUefcOnk4nz8wsSRJvv9+PX3O+zuxut/tQ50TQzOx4PJ6cc1/MrNL8A30vy/KPO/8ATw7A5wc13v4AAAAASUVORK5CYII=\"></img></td>\n",
       "      <td id=\"T_96705_row9_col5\" class=\"data row9 col5\" >1<br>(0.0%)</td>\n",
       "    </tr>\n",
       "    <tr>\n",
       "      <td id=\"T_96705_row10_col0\" class=\"data row10 col0\" >11</td>\n",
       "      <td id=\"T_96705_row10_col1\" class=\"data row10 col1\" ><strong>V10</strong><br>[float64]</td>\n",
       "      <td id=\"T_96705_row10_col2\" class=\"data row10 col2\" >Mean (sd) : -0.1 (1.1)<br>min < med < max:<br>-14.2 < -0.1 < 12.7<br>IQR (CV) : 0.9 (-0.1)</td>\n",
       "      <td id=\"T_96705_row10_col3\" class=\"data row10 col3\" >34,905 distinct values</td>\n",
       "      <td id=\"T_96705_row10_col4\" class=\"data row10 col4\" ><img src = \"data:image/png;base64, iVBORw0KGgoAAAANSUhEUgAAAKoAAABGCAYAAABc8A97AAAAOXRFWHRTb2Z0d2FyZQBNYXRwbG90bGliIHZlcnNpb24zLjcuMSwgaHR0cHM6Ly9tYXRwbG90bGliLm9yZy/bCgiHAAAACXBIWXMAAA9hAAAPYQGoP6dpAAACFElEQVR4nO3azYracBSG8XOqY5OB/kMIZOkNFHoBuYi52G6768Ir8A7ciDBoRMd0YpKuCi1MPxK0+urz25/wLh4CQb3rOgOu3btLDwD+xfjSA26Ru8dmNhl4/tp13eGUe24BoZ6Yu8dZlj2FENIh99vtdu3un4n1V4R6epMQQloUxSFJkqrPYVmW0Ww2S5+fnydmRqg/IdQzSZKkyvP8ZcBpfPIxN4CPKUggVEggVEggVEggVEggVEggVEggVEggVEggVEggVEggVEggVEggVEggVEggVEggVEggVEggVEggVEggVEggVEggVEggVEggVEggVEggVEggVEggVEggVEggVEggVEggVEggVEggVEggVEggVEggVEggVEggVEggVEggVEggVEggVEggVEggVEggVEggVEgYX3rAtXL32MwmA05D27YPp95z7wj1De4eZ1n2FEJI+97WdR01TfOxqqqvZvZyhnl3iVDfNgkhpEVRHJIkqfocLhaLdD6fPx6Px9G5xt0jQv2DJEmqPM97vRXX63V8rj33jI8pSCBUSCBUSCBUSCBUSCBUSCBUSCBUSCBUSCBUSOAn1CvTNM2DmQV3H/qI167rDiecdBX+Gqq7R2b2/j9suSahbdtxWZZR38PdbheZme33+2i1Wj32uV0ulx/quv40nU5Ho9Go159hfthsNjt3/2Jmg+4v6FvXdb/d/B1RTWeahOhHGQAAAABJRU5ErkJggg==\"></img></td>\n",
       "      <td id=\"T_96705_row10_col5\" class=\"data row10 col5\" >1<br>(0.0%)</td>\n",
       "    </tr>\n",
       "    <tr>\n",
       "      <td id=\"T_96705_row11_col0\" class=\"data row11 col0\" >12</td>\n",
       "      <td id=\"T_96705_row11_col1\" class=\"data row11 col1\" ><strong>V11</strong><br>[float64]</td>\n",
       "      <td id=\"T_96705_row11_col2\" class=\"data row11 col2\" >Mean (sd) : 0.5 (1.1)<br>min < med < max:<br>-3.0 < 0.4 < 12.0<br>IQR (CV) : 1.6 (0.4)</td>\n",
       "      <td id=\"T_96705_row11_col3\" class=\"data row11 col3\" >34,905 distinct values</td>\n",
       "      <td id=\"T_96705_row11_col4\" class=\"data row11 col4\" ><img src = \"data:image/png;base64, iVBORw0KGgoAAAANSUhEUgAAAKoAAABGCAYAAABc8A97AAAAOXRFWHRTb2Z0d2FyZQBNYXRwbG90bGliIHZlcnNpb24zLjcuMSwgaHR0cHM6Ly9tYXRwbG90bGliLm9yZy/bCgiHAAAACXBIWXMAAA9hAAAPYQGoP6dpAAACSUlEQVR4nO3dwaraQBiG4X+ao0SlCSLozhsodOHSi+jFdttdF16Bd+BGBIkR05MaY7pqdz1HJ7HmS99nPzrISyAw4++qqjKg7T48ewPALV6evYG3OOcGZtb3XH6uquq1yf3geVobqnNuMJlMvkRRNPZZfzweE+fcV2LthtaGamb9KIrGy+XyNY7j/J6FaZqGq9VqvN/v+2ZGqB3Q5lDNzCyO43w6nf7wWDpofDN4Gl6mIIFQIYFQIYFQIYFQIYFQIYFQIYFQIYFQIYFQIYFQIYFQIeGhh1JqnieNrtdrr8n9QNfDQq17nrQoirAsy095nn83M5/TU+iQRz5Rvc+TmpltNpvxer0eXi6X4BGbg5aHn0f1PU+aJAnnSfEHL1OQQKiQQKiQQKiQQKiQQKiQQKiQQKiQQKiQQKiQQKiQQKiQQKiQQKiQQKiQQKiQQKiQQKiQQKiQQKiQQKiQQKiQQKiQ0Po5U77KsuyZWeSc8/0IRlS2SCdDzbKsVxTF5/l8HgRBcPe/tJgxorJtOhnq+Xx+CcNwuFgs8tlslty7nhGV7dPJUH8bjUa+4ynNGFHZKrxMQQKhQgKhQgKhQgKhQgKhQgKhQgKhQgKhQgKhQgKhQgKhQgKhQgKhQgKhQsK751FrTIhmOjQa82aodSZEMx0aTXrvieo9IZrp0GjSTVdRfCZEMx0aTer0nak6al635qp1w24KNU3T8N4PPp1OoZlZlmXhbrcb/sv1db97u91+rHPd+nA4nJxz38zM66r2f+pnVVV//b1+AeMTvcs8M/u0AAAAAElFTkSuQmCC\"></img></td>\n",
       "      <td id=\"T_96705_row11_col5\" class=\"data row11 col5\" >1<br>(0.0%)</td>\n",
       "    </tr>\n",
       "    <tr>\n",
       "      <td id=\"T_96705_row12_col0\" class=\"data row12 col0\" >13</td>\n",
       "      <td id=\"T_96705_row12_col1\" class=\"data row12 col1\" ><strong>V12</strong><br>[float64]</td>\n",
       "      <td id=\"T_96705_row12_col2\" class=\"data row12 col2\" >Mean (sd) : -0.5 (1.4)<br>min < med < max:<br>-17.8 < -0.2 < 4.8<br>IQR (CV) : 2.0 (-0.4)</td>\n",
       "      <td id=\"T_96705_row12_col3\" class=\"data row12 col3\" >34,905 distinct values</td>\n",
       "      <td id=\"T_96705_row12_col4\" class=\"data row12 col4\" ><img src = \"data:image/png;base64, iVBORw0KGgoAAAANSUhEUgAAAKoAAABGCAYAAABc8A97AAAAOXRFWHRTb2Z0d2FyZQBNYXRwbG90bGliIHZlcnNpb24zLjcuMSwgaHR0cHM6Ly9tYXRwbG90bGliLm9yZy/bCgiHAAAACXBIWXMAAA9hAAAPYQGoP6dpAAACHUlEQVR4nO3dT6raUBiG8ffUP40KCSLozA0UOnDoIrrYLqEDV+AOnAkiEdObGmM6uLTQQWmNyTXv5fnNP/kGzySYnBOqqhLQdR+evQDwP/rPXgDNCiGMJA1rjl+qqnppcp+mEOo7EkIYzWazL3EcT+vMn06nYwjhaxdjJdT3ZRjH8XS9Xr8kSZLfM5imabTZbKaHw2EoiVDRviRJ8vl8/r3G6KjxZRrCwxQsECosECosECosECosECosECosECosECosECosECosECosECosECosECosECosECosECosECosECosECosECosECosECoscAAFfivLciApDiHU/YnWzq4iVEiSsiwbFEXxeblc9nq93l3HAf3S5tlVhApJ0uVy6UdRNF6tVvlisTjeO9/22VWEij9MJpO651ZJLZ5dxcMULBAqLBAqLBAqLBAqLBAqLBAqLBAqLBAqLBAqLBAqLPBff8c8eEVkfLvdBk3u0xWE2iGPXhFZFEVUluWnPM+/Sar7YkknEWq31L4iUpJ2u910u92Or9drr43lnolQO6juFZHH47GzV0Q+iocpWCBUWCBUWCBUWCBUWCBUWCBUWCBUWCBUWCBUWCBUWCBUWCBUWCBUWCBUWCBUWCBUWCBUWCBUWCBUWPjnx30hhEjSxzfYBa/f5ffTNI3qDJ/P50iSsiyL9vv9+K1mpdfLJsqy7Kv+9T8/qqr665e3PwGi5opfeZdAuQAAAABJRU5ErkJggg==\"></img></td>\n",
       "      <td id=\"T_96705_row12_col5\" class=\"data row12 col5\" >1<br>(0.0%)</td>\n",
       "    </tr>\n",
       "    <tr>\n",
       "      <td id=\"T_96705_row13_col0\" class=\"data row13 col0\" >14</td>\n",
       "      <td id=\"T_96705_row13_col1\" class=\"data row13 col1\" ><strong>V13</strong><br>[float64]</td>\n",
       "      <td id=\"T_96705_row13_col2\" class=\"data row13 col2\" >Mean (sd) : 0.3 (1.2)<br>min < med < max:<br>-3.8 < 0.2 < 4.5<br>IQR (CV) : 1.6 (0.3)</td>\n",
       "      <td id=\"T_96705_row13_col3\" class=\"data row13 col3\" >34,905 distinct values</td>\n",
       "      <td id=\"T_96705_row13_col4\" class=\"data row13 col4\" ><img src = \"data:image/png;base64, iVBORw0KGgoAAAANSUhEUgAAAKoAAABGCAYAAABc8A97AAAAOXRFWHRTb2Z0d2FyZQBNYXRwbG90bGliIHZlcnNpb24zLjcuMSwgaHR0cHM6Ly9tYXRwbG90bGliLm9yZy/bCgiHAAAACXBIWXMAAA9hAAAPYQGoP6dpAAACgUlEQVR4nO3dTY7aQBRF4VfhJwYkWwgJZmwgUgYMWUQWmyVkwArYATMkhECQdgDjbACS4LJD3fL55tXtwWkaQ72yK8vSgNB9evcFAP+i++4LCJVzbmBm/YrLL2VZftR5PW1HqA845waTyeRbmqbjKuuPx+PeOfedWOtDqI/10zQdL5fLjyzL8lcWHg6HZLVajXe7Xd/MCLUmhPoHWZbl0+n0Z4Wlg9ovpuW4mYIEQoUEQoUEQoUEQoUEQoUEQoUEQoUEQoUEvplqQFEUPTNLnXNVlrOh5QFCrdn5fO5dr9ev8/m80+l0XtonYMaGlmcItWaXy6WbJMlwsVjks9ls/8paNrQ8R6gNGY1GbGipETdTkECokECokECokECokECokECokECokECokECokECokBDtd/2eZ0el9/u9V+f1wE+UofqeHXW9XpOiKL7kef7DzKpsLEHNogzVPM6OMjPbbDbj9Xo9vN1unSYuDq+LNVQzq3521H6/Z6tdYLiZggRChYSo//Ur8hwMNIt0OJBQA+I7GGgW73AgoQbEZzDQLO7hQEINkMdgoFmkw4HcTEECoUICoUICoUICoUICoUICoUICoUICoUICoUICoUICoUICoUICoUJC0Nv8PGbzWzuXH+ujg4IN1Wc2v61z+TE/OijYUM1jNr+tc/kxPzoo5FDNrNpsftvn8mN8dBA3U5BAqJBAqJBAqJBAqJBAqJBAqJAQ/Oeo+H9CPqCt0VA5R19H6Ae0NRYq5+hrCf2AtiZfUTlHX1CoB7T9NVTnXGJmnyv87PR+v3v/IZzP52S73Q5fWXM6nZKqa33Xv2vtu3/34XBIiqLoWvX3uL/Ksnz6gvYburpjoYGKjFQAAAAASUVORK5CYII=\"></img></td>\n",
       "      <td id=\"T_96705_row13_col5\" class=\"data row13 col5\" >1<br>(0.0%)</td>\n",
       "    </tr>\n",
       "    <tr>\n",
       "      <td id=\"T_96705_row14_col0\" class=\"data row14 col0\" >15</td>\n",
       "      <td id=\"T_96705_row14_col1\" class=\"data row14 col1\" ><strong>V14</strong><br>[float64]</td>\n",
       "      <td id=\"T_96705_row14_col2\" class=\"data row14 col2\" >Mean (sd) : 0.3 (1.2)<br>min < med < max:<br>-19.2 < 0.2 < 7.7<br>IQR (CV) : 1.2 (0.2)</td>\n",
       "      <td id=\"T_96705_row14_col3\" class=\"data row14 col3\" >34,905 distinct values</td>\n",
       "      <td id=\"T_96705_row14_col4\" class=\"data row14 col4\" ><img src = \"data:image/png;base64, iVBORw0KGgoAAAANSUhEUgAAAKoAAABGCAYAAABc8A97AAAAOXRFWHRTb2Z0d2FyZQBNYXRwbG90bGliIHZlcnNpb24zLjcuMSwgaHR0cHM6Ly9tYXRwbG90bGliLm9yZy/bCgiHAAAACXBIWXMAAA9hAAAPYQGoP6dpAAACJElEQVR4nO3aPY7aUBSG4XPCDMGj5F4ZS5RsIFIW4D7tLDZtuhQUqdkBDUIgfgSDMwacKpFSRIkdI/yh9+mPfYpXlq58vaoqA7ruza0XAP7Fw60XQLvcPTGzfsPx16qqjm3u0xZCvSPunmRZ9hxCSJvM73a7tbt/7mKshHpf+iGENM/zY4yxqDO43W4Hk8kkXa1WfTMjVFxfjLEYjUYvDUaT1pdpCYcpSCBUSCBUSCBUSCBUSCBUSCBUSCBUSCBUSCBUSCBUSCBUSCBUSCBUSCBUSCBUSCBUSCBUSCBUSCBUSCBUSCBUSCBUSCBUSCBUSCBUSCBUSCBUSCBUSCBUSCBUSCBUSCBUSCBUSCBUSCBUSCBUSCBUSCBUSCBUSCBUSCBUSCBUSCBUSCBUSCBUSCBUSCBUSHi49QL4nbsnZtZvOB4ul8tjm/t0BaF2iLsnWZY9hxDSJvNlWQ7O5/OHoii+mtlLy+vdFKF2Sz+EkOZ5fowxFnWHZ7NZOp1On06nU+8ay90SoXZQjLEYjUa1v4jr9Tq5xj5dwGEKEggVEggVEggVEggVEggVEggVEggVEggVEggVEviFegX/cQPqprefzufzo5kFd2/6iNeqqo4trvTLX0N194GZvb3Gy+/UYDgcfooxvqs7+PP203K5/Nbkxfv9fmBmdjgcBovF4qnO7Hw+f1+W5cfxeNzr9Xq1L8SYmW02m727fzGzJvPfq6r649wPTSRvN8jqA7IAAAAASUVORK5CYII=\"></img></td>\n",
       "      <td id=\"T_96705_row14_col5\" class=\"data row14 col5\" >1<br>(0.0%)</td>\n",
       "    </tr>\n",
       "    <tr>\n",
       "      <td id=\"T_96705_row15_col0\" class=\"data row15 col0\" >16</td>\n",
       "      <td id=\"T_96705_row15_col1\" class=\"data row15 col1\" ><strong>V15</strong><br>[float64]</td>\n",
       "      <td id=\"T_96705_row15_col2\" class=\"data row15 col2\" >Mean (sd) : 0.1 (1.0)<br>min < med < max:<br>-4.2 < 0.2 < 3.8<br>IQR (CV) : 1.2 (0.1)</td>\n",
       "      <td id=\"T_96705_row15_col3\" class=\"data row15 col3\" >34,905 distinct values</td>\n",
       "      <td id=\"T_96705_row15_col4\" class=\"data row15 col4\" ><img src = \"data:image/png;base64, iVBORw0KGgoAAAANSUhEUgAAAKoAAABGCAYAAABc8A97AAAAOXRFWHRTb2Z0d2FyZQBNYXRwbG90bGliIHZlcnNpb24zLjcuMSwgaHR0cHM6Ly9tYXRwbG90bGliLm9yZy/bCgiHAAAACXBIWXMAAA9hAAAPYQGoP6dpAAACnElEQVR4nO3dvY7aQBRA4TthITYQWwgFOl4gEgUlD5GHTZsuxT4BLRUNskBghLNejHGKKFIS7WbjH8Tc4Xz9gIujlYb1nTFFUQhgu3e3fgDgfzzc+gFcZIzxRaRTcfmpKIqnJp/HBYTaMGOMPxwOPwdBMKiy/nA47IwxX4j1T4TavE4QBIP5fP4UhmFaZmEcx97j4+Ngu912RIRQf0OoVxKGYToajb5XWOo3/jAOYDMFFQgVKhAqVCBUqECoUIFQoQKhQgVChQqEChUIFSoQKlQgVKhAqFCBUKECoUIF3ke1TJ7nbREJjDFVP8LJURZCtUiSJO0sy6aTyaTVarVKTQf84uooC6Fa5HQ6PXie153NZul4PN6VXe/yKAuhWqjX61UdYxFxdJSFzRRUIFSoQKhQgVChApupV9Q4lie4XC7tpp/n3hHqC+ocy5NlmZfn+ac0Tb+JSNWdO/5CqC+rfCzParUaLBaL7vl8bl3r4e4Rof5DlWN5drudk79j3hqbKahAqFCBUKECoUIFQoUKhAoVCBUqECpUIFSoQKhQgVChAqFCBUKFCoQKFQgVKhAqVCBUqECoUMHZUZQaU6QiTJJax8lQ60yRijBJaiMnQ5UaU6QiTJLayNVQRaTaFKkIk6Q2YjMFFQgVKhAqVCBUqECoUIFQoYLTP0/do5r3VFl7R5XVoXKYbjl176my+Y4qa0PlMN3y6txTZfsdVdaGKhymW1mNe6qs/Y+czaGKCIfp4id2/VDhqn9ReScUTblaqLwTqo/NV7C/GaoxxhOR9xU+O+j3+x+n0+nZ9/3nsos3m423XC67cRz3oig6lVl7PB49EZEkSbwoirplv7vO+lutrbt+vV5/qHsF+36/PxpjvopIlfXPRVG8uu4HAtUx6MikaGoAAAAASUVORK5CYII=\"></img></td>\n",
       "      <td id=\"T_96705_row15_col5\" class=\"data row15 col5\" >1<br>(0.0%)</td>\n",
       "    </tr>\n",
       "    <tr>\n",
       "      <td id=\"T_96705_row16_col0\" class=\"data row16 col0\" >17</td>\n",
       "      <td id=\"T_96705_row16_col1\" class=\"data row16 col1\" ><strong>V16</strong><br>[float64]</td>\n",
       "      <td id=\"T_96705_row16_col2\" class=\"data row16 col2\" >Mean (sd) : -0.0 (0.9)<br>min < med < max:<br>-12.2 < 0.1 < 6.1<br>IQR (CV) : 1.1 (-0.0)</td>\n",
       "      <td id=\"T_96705_row16_col3\" class=\"data row16 col3\" >34,905 distinct values</td>\n",
       "      <td id=\"T_96705_row16_col4\" class=\"data row16 col4\" ><img src = \"data:image/png;base64, iVBORw0KGgoAAAANSUhEUgAAAKoAAABGCAYAAABc8A97AAAAOXRFWHRTb2Z0d2FyZQBNYXRwbG90bGliIHZlcnNpb24zLjcuMSwgaHR0cHM6Ly9tYXRwbG90bGliLm9yZy/bCgiHAAAACXBIWXMAAA9hAAAPYQGoP6dpAAACK0lEQVR4nO3dPa7aQBSG4TPh5xqQZmRZgo4NREpB6UXcxWYJKVgBO6BDQsgIBwdjO3WKKLEvXPxZ79MfdIq3YMSgcU3TGNB3X169APA/xq9eAH9yzs3MbPqBj7g1TXN91D59Qag94pybJUny7r2Pu37G+Xw+Oee+Dy1WQu2Xqfc+TtP0GkIo2g5nWRZtt9v4eDxOzYxQ8VwhhGK5XP7sOD576DI9wWEKEggVEggVEggVEggVEggVEggVEggVEggVEggVEggVEggVEggVEggVEggVEggVEggVEggVEggVEggVEggVEggVEggVEggVEggVEggVEggVEggVEggVEggVEggVEggVEggVEggVEggVEggVEggVEggVEggVEggVEggVEni5b2CqqpqYmXfOdRnv7YO/hDogeZ5PyrL8tl6vR6PRqPVbqn1+8JdQB+R2u42jKJpvNptitVqd2sz2/cFfQh2gxWLR9dHf3j74y2EKEggVEggVEggVEggVEggVEggVEggVEggVEggVEggVEvit/wmcczMzm3YY9XVdTx69zxAQ6oM552ZJkrx77+O2s2VZRlVVfS2K4oeZdblUMliE+nhT732cpuk1hNDqTuh+v493u938fr+PnrWcKkJ9khBC66t2p9Opt9fsXo3DFCQQKiQQKiT88zuqcy4ys7dP2GUofF3X4yzLoraDl8slMjPL8zw6HA7zz5zPsiyqqmps3f/B+lG/mqb56+HzNxdtil/lISzhAAAAAElFTkSuQmCC\"></img></td>\n",
       "      <td id=\"T_96705_row16_col5\" class=\"data row16 col5\" >1<br>(0.0%)</td>\n",
       "    </tr>\n",
       "    <tr>\n",
       "      <td id=\"T_96705_row17_col0\" class=\"data row17 col0\" >18</td>\n",
       "      <td id=\"T_96705_row17_col1\" class=\"data row17 col1\" ><strong>V17</strong><br>[float64]</td>\n",
       "      <td id=\"T_96705_row17_col2\" class=\"data row17 col2\" >Mean (sd) : 0.2 (1.1)<br>min < med < max:<br>-18.6 < 0.1 < 9.3<br>IQR (CV) : 0.9 (0.2)</td>\n",
       "      <td id=\"T_96705_row17_col3\" class=\"data row17 col3\" >34,905 distinct values</td>\n",
       "      <td id=\"T_96705_row17_col4\" class=\"data row17 col4\" ><img src = \"data:image/png;base64, iVBORw0KGgoAAAANSUhEUgAAAKoAAABGCAYAAABc8A97AAAAOXRFWHRTb2Z0d2FyZQBNYXRwbG90bGliIHZlcnNpb24zLjcuMSwgaHR0cHM6Ly9tYXRwbG90bGliLm9yZy/bCgiHAAAACXBIWXMAAA9hAAAPYQGoP6dpAAAB40lEQVR4nO3ZMY7aUBSF4XsDwzwGyRZCMh1LSEHJIrLYWYQXg2ShZ+HBMTIvdYooweMJPuj/+mPd4m9se0rJgKn79ugDgH8xf/QB+J27L81s8YlHdCmly1j3TAWhToi7LzebzY8sy9ZDn1HX9cnd358tVkKdlkWWZevD4XDJ87y9dxxjDGVZrquqWpgZoeJr5XneFkXxMXC+HPWYieBlChIIFRIIFRIIFRIIFRIIFRIIFRIIFRIIFRIIFRIIFRIIFRIIFRIIFRIIFRIIFRIIFRIIFRIIFRIIFRIIFRIIFRIIFRIIFRIIFRIIFRIIFRIIFRIIFRIIFRIIFRIIFRIIFRIIFRIIFRIIFRIIFRIIFRIIFRIIFRIIFRIIFRIIFRIIFRIIFRIIFRIIFRIIFRIIFRIIFRIIFRIIFRLmjz4A4+r7/sXMMncfMu9SSpeRTxoFoT6Rpmlertfr991uN5vNZu29+7quT+7+PsVYCfWJdF03DyG87ff7drvdnu7ZxhhDWZbrqqoWZkao+Hqr1aotiuJjwHQ5+jEj4WUKEggVEggVEggVEggVEggVEggVEv76HdXdg5m9/odbYJbdbrd5jDEMGZ/P52Bm1jRNOB6Pb/dsY4yh7/u5Df/9+lk/U0p//Jv2C9W/Yqd16kyRAAAAAElFTkSuQmCC\"></img></td>\n",
       "      <td id=\"T_96705_row17_col5\" class=\"data row17 col5\" >1<br>(0.0%)</td>\n",
       "    </tr>\n",
       "    <tr>\n",
       "      <td id=\"T_96705_row18_col0\" class=\"data row18 col0\" >19</td>\n",
       "      <td id=\"T_96705_row18_col1\" class=\"data row18 col1\" ><strong>V18</strong><br>[float64]</td>\n",
       "      <td id=\"T_96705_row18_col2\" class=\"data row18 col2\" >Mean (sd) : -0.1 (0.9)<br>min < med < max:<br>-8.1 < -0.1 < 4.3<br>IQR (CV) : 1.0 (-0.1)</td>\n",
       "      <td id=\"T_96705_row18_col3\" class=\"data row18 col3\" >34,905 distinct values</td>\n",
       "      <td id=\"T_96705_row18_col4\" class=\"data row18 col4\" ><img src = \"data:image/png;base64, iVBORw0KGgoAAAANSUhEUgAAAKoAAABGCAYAAABc8A97AAAAOXRFWHRTb2Z0d2FyZQBNYXRwbG90bGliIHZlcnNpb24zLjcuMSwgaHR0cHM6Ly9tYXRwbG90bGliLm9yZy/bCgiHAAAACXBIWXMAAA9hAAAPYQGoP6dpAAACXElEQVR4nO3dsW7aUBiG4f+UQAxUBkQLGytDpQ6MuYhebC6hAysLd8CGZCxbuDiA7S5dKiVqbWPFH3mf/bfP8BoZONJxRVEY0Haf3nsBwP94eO8F4G/Oub6Z9Wpc4lwUxelW62kLQm0R51x/Op3+8H1/UvUacRyHzrnne4uVUNul5/v+5Onp6TQajdKyw1EUeev1ehIEQc/MCBXNGo1G6Ww2+1VxvH/TxbQEX6YggVAhgVAhgVAhgVAhgVAhgVAhgVAhgVAhgVAhgVAhgVAhgVAhgVAhgVAhgVAhgVAhgVAhgVAhgVAhgVAhgVAhgVAhgVAhgVAhgVAhgVAhgVAhgVAhgVAhgVAhgVAhgVAhgVAhgVAhgVAhgVAhgVAhgVAhgVAhgVAhgVAhgSMmG1DjhGg/z/PurddzDwj1xuqcEH25XLwsy76lafrTzKqehXqXCPX2Kp8QvdvtJtvtdnC9XjtNLU4VoTakygnRYRjWPhk6y7KumfnOuSrj56IoWnl8OqHekSRJupfL5ftiseh0Op1Sn+ZmZnEch8655zbGSqh35Hw+P3ieN1itVul8Pg/LzEZR5K3X60kQBD0zI1Q0bzgcln7t+KP2q0dT+B0VEggVEggVEggVEggVEggVEggVEggVEggVEggVEggVEviv/w3s0m8XQn3FR92lX3Mvq1mD+1kJ9XUfbpd+3b2sZs3uZ/1nqM45z8web33jlvPzPK/1ECdJ4u33+0GZmePx6FWdrTt/OBw+e543WC6Xbjwev5S99+l0etxsNl+DIPjinIvLzpvZS1EUbz4gvwH/McbZa1zZaAAAAABJRU5ErkJggg==\"></img></td>\n",
       "      <td id=\"T_96705_row18_col5\" class=\"data row18 col5\" >1<br>(0.0%)</td>\n",
       "    </tr>\n",
       "    <tr>\n",
       "      <td id=\"T_96705_row19_col0\" class=\"data row19 col0\" >20</td>\n",
       "      <td id=\"T_96705_row19_col1\" class=\"data row19 col1\" ><strong>V19</strong><br>[float64]</td>\n",
       "      <td id=\"T_96705_row19_col2\" class=\"data row19 col2\" >Mean (sd) : -0.0 (0.8)<br>min < med < max:<br>-4.9 < -0.0 < 4.6<br>IQR (CV) : 1.0 (-0.0)</td>\n",
       "      <td id=\"T_96705_row19_col3\" class=\"data row19 col3\" >34,905 distinct values</td>\n",
       "      <td id=\"T_96705_row19_col4\" class=\"data row19 col4\" ><img src = \"data:image/png;base64, iVBORw0KGgoAAAANSUhEUgAAAKoAAABGCAYAAABc8A97AAAAOXRFWHRTb2Z0d2FyZQBNYXRwbG90bGliIHZlcnNpb24zLjcuMSwgaHR0cHM6Ly9tYXRwbG90bGliLm9yZy/bCgiHAAAACXBIWXMAAA9hAAAPYQGoP6dpAAACeElEQVR4nO3dP47aQBiG8W8CbMwfGSEU6LhAJApKDpHD5ggpOAEtFZ0FQkY4ywLGqSJtIjYJHsjOa55fPzDFIyFbM3yuKAoDQvfhvTcA/Iv6e2+gipxzTTN7Krn8UBTF8y33UwWEemPOuWa/3/8Sx3GvzPrtdrtxzn0l1l8R6u09xXHcm06nz91ud3/NwjRNo9ls1luv109mRqivEOqddLvd/WAw+F5iafPmm6kAHqYggVAhgVAhgVAhgVAhgVAhgVAhgVAhgVAhgVAhgVAhgVAhgUMpb/A4Uxqfz+fGrffz6Aj1Ap8zpcfjMcrz/PN+v/9mZmVOT+ECQr2s9JnS5XLZm8/nrdPpVLvX5h4Rof5BmTOlm82G86R3wMMUJBAqJBAqJBAqJBAqJBAqJBAqJBAqJBAqJBAqJBAqJBAqJBAqJBAqJBAqJBAqJBAqJBAqJBAqJBAqJBAqJBAqJBAqJBAqJBAqJBAqJPCXPoHJ87xhZrFzruxHVHI6NaEGJMuyxvF4HI9Go1qtVrvqz9l+qup0akINyOFwqEdR1JpMJvvhcLi5dn2Vp1MTaoDa7XbZydRmFZ1OzcMUJBAqJBAqJBAqJBAqJBAqJFT29ZTHnCgzZkUFp5Kh+syJMmNWVIgqGap5zIkyY1ZUiKoaqpmVmxNlxqyoEPEwBQmECgmECgmECgmVfph6RJ43BIK9HRB0qB4v7R/yhb3vDYGQbwcEG6rPS/tHfWHvc0Mg9NsBfw3VOReZ2cf/sJffxZ1O59N4PD41m82XaxauVqtosVi00jRtJ0lyuPaLd7tdZGaWZVmUJElLYe3r9WXleV43v4uFPl6KonjzV+AH4wTwbe31T+AAAAAASUVORK5CYII=\"></img></td>\n",
       "      <td id=\"T_96705_row19_col5\" class=\"data row19 col5\" >1<br>(0.0%)</td>\n",
       "    </tr>\n",
       "    <tr>\n",
       "      <td id=\"T_96705_row20_col0\" class=\"data row20 col0\" >21</td>\n",
       "      <td id=\"T_96705_row20_col1\" class=\"data row20 col1\" ><strong>V20</strong><br>[float64]</td>\n",
       "      <td id=\"T_96705_row20_col2\" class=\"data row20 col2\" >Mean (sd) : 0.0 (0.7)<br>min < med < max:<br>-13.7 < -0.0 < 17.3<br>IQR (CV) : 0.3 (0.1)</td>\n",
       "      <td id=\"T_96705_row20_col3\" class=\"data row20 col3\" >34,905 distinct values</td>\n",
       "      <td id=\"T_96705_row20_col4\" class=\"data row20 col4\" ><img src = \"data:image/png;base64, iVBORw0KGgoAAAANSUhEUgAAAKoAAABGCAYAAABc8A97AAAAOXRFWHRTb2Z0d2FyZQBNYXRwbG90bGliIHZlcnNpb24zLjcuMSwgaHR0cHM6Ly9tYXRwbG90bGliLm9yZy/bCgiHAAAACXBIWXMAAA9hAAAPYQGoP6dpAAABvUlEQVR4nO3XTU7CUBSG4XMs1DbR3gAJQzZg4gKYO3WxTp0zcCUMIAIxgjTlugH86U0VPn2f+Zd7mryTeozRgHN3ceoDgO/onfqAc+XupZnlifN9jHHb5T3/HaEe4e7laDS6r6pqkLLfbDbP7v5ArN0h1OPyqqoG0+l0G0LYtRmu1+tiNpsNlstlbmaE2hFC/UQIYTcej18TpmXnx/xz/ExBAqFCAqFCAqFCAqFCAqFCAqFCAqFCAqFCAqFCAqFCAqFCAqFCAqFCAqFCAqFCAqFCAqFCAqFCAqFCAqFCAqFCAqFCAqFCAqFCAqFCAqFCAqFCAqFCAqFCAqFCAqFCAqFCAqFCAqFCAqFCAqFCAqFCAqFCAqFCAqFCAqFCAqFCAqFCAqFCAqFCAqFCAqFCAqFCAqFCAqFCAqFCAqFCAqFCAqFCAqFCAqFCAqFCAqFCAqFCAqFCAqFCQu/UB/wUdy/NLE+cV4fDoZ/6dtM0fTOr3D1lvo8xblPf/qu+DNXdCzO7/IVbulQMh8O7EMJVyriu66JpmpvFYvHUdjufz6/rur6dTCZZlmW7tvvVavXi7o9m1nor7i3G+OE3vwPLx0d/s3PQggAAAABJRU5ErkJggg==\"></img></td>\n",
       "      <td id=\"T_96705_row20_col5\" class=\"data row20 col5\" >1<br>(0.0%)</td>\n",
       "    </tr>\n",
       "    <tr>\n",
       "      <td id=\"T_96705_row21_col0\" class=\"data row21 col0\" >22</td>\n",
       "      <td id=\"T_96705_row21_col1\" class=\"data row21 col1\" ><strong>V21</strong><br>[float64]</td>\n",
       "      <td id=\"T_96705_row21_col2\" class=\"data row21 col2\" >Mean (sd) : -0.0 (0.8)<br>min < med < max:<br>-20.3 < -0.1 < 22.6<br>IQR (CV) : 0.3 (-0.0)</td>\n",
       "      <td id=\"T_96705_row21_col3\" class=\"data row21 col3\" >34,905 distinct values</td>\n",
       "      <td id=\"T_96705_row21_col4\" class=\"data row21 col4\" ><img src = \"data:image/png;base64, iVBORw0KGgoAAAANSUhEUgAAAKoAAABGCAYAAABc8A97AAAAOXRFWHRTb2Z0d2FyZQBNYXRwbG90bGliIHZlcnNpb24zLjcuMSwgaHR0cHM6Ly9tYXRwbG90bGliLm9yZy/bCgiHAAAACXBIWXMAAA9hAAAPYQGoP6dpAAABnElEQVR4nO3XTU4CQRRF4Xo2IgysDiFhyBJcAItwsU6dsxYmRJoYQQiUG8AfOh3h6PnmN3mVnElFKSVJ1+7m0gdIP9G79AHXKiKGKaV+y/mulLLp8p7/zlBPiIjheDx+zDmP2uzX6/VLRDwZa3cM9bR+znk0m802dV1vzxk2TTOYz+ej5XLZTykZakcM9Qt1XW8nk8lbi+mw82P+OT9TQjBUIRiqEAxVCIYqBEMVgqEKwVCFYKhCMFQhGKoQDFUIhioEQxWCoQrBUIVgqEIwVCEYqhAMVQiGKgRDFYKhCsFQhWCoQjBUIRiqEAxVCIYqBEMVgqEKwVCFYKhCMFQhGKoQDFUIhioEQxWCoQrBUIVgqEIwVCEYqhAMVQiGKgRDFYKhCsFQhWCoQjBUIRiqEAxVCIYqBEMVgqEKwVCFYKhCMFQhGKoQDFUIhioEQxVC79IH/EWHw+E2pZQjos18V0rZdHwS3rehRsQgpXT3C7dck3w8HntN0wzOHS4Wi/v9fv8wnU6rqqq25+5Xq9VrRDynlM7ewr2XUj598wdmcT/inSt5TgAAAABJRU5ErkJggg==\"></img></td>\n",
       "      <td id=\"T_96705_row21_col5\" class=\"data row21 col5\" >1<br>(0.0%)</td>\n",
       "    </tr>\n",
       "    <tr>\n",
       "      <td id=\"T_96705_row22_col0\" class=\"data row22 col0\" >23</td>\n",
       "      <td id=\"T_96705_row22_col1\" class=\"data row22 col1\" ><strong>V22</strong><br>[float64]</td>\n",
       "      <td id=\"T_96705_row22_col2\" class=\"data row22 col2\" >Mean (sd) : -0.1 (0.6)<br>min < med < max:<br>-8.6 < -0.1 < 5.8<br>IQR (CV) : 0.8 (-0.2)</td>\n",
       "      <td id=\"T_96705_row22_col3\" class=\"data row22 col3\" >34,905 distinct values</td>\n",
       "      <td id=\"T_96705_row22_col4\" class=\"data row22 col4\" ><img src = \"data:image/png;base64, iVBORw0KGgoAAAANSUhEUgAAAKoAAABGCAYAAABc8A97AAAAOXRFWHRTb2Z0d2FyZQBNYXRwbG90bGliIHZlcnNpb24zLjcuMSwgaHR0cHM6Ly9tYXRwbG90bGliLm9yZy/bCgiHAAAACXBIWXMAAA9hAAAPYQGoP6dpAAACH0lEQVR4nO3dz47SYBSG8XPkjy2QryFE2HEDJixYchFzsV6CC+5ibqCBTEqo06GWujAmapxoG5S+9fntDzmLZ9OEk8/rujag697cewHgTwzvvUAfuXtsZuOW45e6rp9vuU8fEOqNuXu8WCweQgjzNvOn0+nJ3T8Q648I9fbGIYT5brd7TpKkaDKYZVm03+/nx+NxbGaE+h1C/UuSJCmWy+WnFqPxzZfpAT6mIIFQIYFQIYFQIYFQIYFQIYFQIYFQIYFQIYFQIYFQIYFQIYFQIYFQIYFQIYH/o3ZMVVUjMwvu3vYnennKQqgdkuf5qCzLzXq9HgwGg0bXAd/09ZSFUDvkcrkMoyiabLfbYrVaPTWd7/MpC6F20HQ6bXvGYtbTUxY+piCBUCGBUCGBUCGBUCGBUCGBUCGBUCGBUCGBUCGBUCGBUCGBUCGBUCGBUCGBUCGBUCGBUCGBUCGBUCGBUCGBUCGBUCGBUCGBUCGBUCGBUCGBUCGBUCGBUCGBUCGBUCGBUCGBUCGBUCGBUCGBUCGBUCGBUCGBUCGBUCGBUCGBJyZf4e6xmY1bjIbr9Tq69T7/O0L9BXePF4vFQwhh3nS2LMuoqqr3RVF8NLO275niJ78N1d0jM3v7D3bpkjCbzd5tNpvPcRy/NBk8HA7R4+PjJMuyaZqmlyaz5/M5MjPL8zxK03TSZNbs6+vSVVUNzSy4e9Pxe3up6/rVp9+/AAZPelC8fCrlAAAAAElFTkSuQmCC\"></img></td>\n",
       "      <td id=\"T_96705_row22_col5\" class=\"data row22 col5\" >1<br>(0.0%)</td>\n",
       "    </tr>\n",
       "    <tr>\n",
       "      <td id=\"T_96705_row23_col0\" class=\"data row23 col0\" >24</td>\n",
       "      <td id=\"T_96705_row23_col1\" class=\"data row23 col1\" ><strong>V23</strong><br>[float64]</td>\n",
       "      <td id=\"T_96705_row23_col2\" class=\"data row23 col2\" >Mean (sd) : -0.0 (0.5)<br>min < med < max:<br>-26.8 < -0.1 < 13.9<br>IQR (CV) : 0.3 (-0.1)</td>\n",
       "      <td id=\"T_96705_row23_col3\" class=\"data row23 col3\" >34,905 distinct values</td>\n",
       "      <td id=\"T_96705_row23_col4\" class=\"data row23 col4\" ><img src = \"data:image/png;base64, iVBORw0KGgoAAAANSUhEUgAAAKoAAABGCAYAAABc8A97AAAAOXRFWHRTb2Z0d2FyZQBNYXRwbG90bGliIHZlcnNpb24zLjcuMSwgaHR0cHM6Ly9tYXRwbG90bGliLm9yZy/bCgiHAAAACXBIWXMAAA9hAAAPYQGoP6dpAAABcklEQVR4nO3XQU4CMQCF4dYQhM1MCAmH4RAe1kNwG2LKQtEE6tqFURF1nvm+7Uybt/g3rb33AlN389cD4DNmfz2At2qty1LK/BtXvPTen661ZyqEOiG11uV6vb4bhmF16R2Hw+Gh1nr/32IV6rTMh2FYbbfbp3Ecj1893Fpb7Ha71X6/n5dShMrPGsfxuNlsHi88vrzqmInwmCKCUIkgVCIIlQhCJYJQiSBUIgiVCEIlglCJIFQiCJUIQiWCUIkgVCIIlQhCJYJQiSBUIgiVCEIlglCJIFQiCJUIQiWCUIkgVCIIlQhCJYJQiSBUIgiVCEIlglCJIFQiCJUIQiWCUIkgVCIIlQhCJYJQiSBUIgiVCEIlglCJIFQiCJUIQiWCUIkgVCIIlQhCJYJQiSBUIgiVCEIlglCJIFQiCJUIQiWCUIkgVCLMPvqh1roopdz+whZKGc7n86y1trjkcGttcTqdZqWUodZ65Wk/7rn3fnzv4yu0vjEQ6r179QAAAABJRU5ErkJggg==\"></img></td>\n",
       "      <td id=\"T_96705_row23_col5\" class=\"data row23 col5\" >1<br>(0.0%)</td>\n",
       "    </tr>\n",
       "    <tr>\n",
       "      <td id=\"T_96705_row24_col0\" class=\"data row24 col0\" >25</td>\n",
       "      <td id=\"T_96705_row24_col1\" class=\"data row24 col1\" ><strong>V24</strong><br>[float64]</td>\n",
       "      <td id=\"T_96705_row24_col2\" class=\"data row24 col2\" >Mean (sd) : 0.0 (0.6)<br>min < med < max:<br>-2.8 < 0.1 < 4.0<br>IQR (CV) : 0.7 (0.0)</td>\n",
       "      <td id=\"T_96705_row24_col3\" class=\"data row24 col3\" >34,905 distinct values</td>\n",
       "      <td id=\"T_96705_row24_col4\" class=\"data row24 col4\" ><img src = \"data:image/png;base64, iVBORw0KGgoAAAANSUhEUgAAAKoAAABGCAYAAABc8A97AAAAOXRFWHRTb2Z0d2FyZQBNYXRwbG90bGliIHZlcnNpb24zLjcuMSwgaHR0cHM6Ly9tYXRwbG90bGliLm9yZy/bCgiHAAAACXBIWXMAAA9hAAAPYQGoP6dpAAACbklEQVR4nO3dO67aUBRG4X3CI+YhWwgFOiYQiYKSQWSwdwgpGAEtFZ2FhYwg+ALGaROJPPxA+PddX7/hFKvBbPm4LMsMqLtPrz4A8D/arz5AXTnnembWLTh+ybLsXOV5PjpCfcA51xuPx9983x8VmT8cDnvn3BuxVodQH+v6vj9aLpfnIAiSPINxHHur1WoURVHXzAi1IoT6F0EQJJPJ5EeB0V7lh/ng+DEFCYQKCYQKCYQKCYQKCYQKCYQKCYQKCYQKCYQKCYQKCYQKCYQKCYQKCYQKCYQKCYQKCYQKCYQKCYQKCYQKCYQKCYQKCYQKCYQKCYQKCYQKCYQKCYQKCYQKCYQKCYQKCYQKCYQKCY19NXrJW038+/3eqfI8KKeRoZa91eR6vXppmn5NkuS7mRV5hz8q1shQrcStJmZm2+12tF6v+7fbrfWMwyG/poZqZsVvNdnv99xqUjP8mIIEQoUEQoUEQoUEQoUEQoUEQoUEQoUEQoWERv8z9SppmnbMzHfOFRm/ZFl2rvhI8gi1YqfTqXO9Xuez2azVarVy7xkcDoe9c+6NWH9HqBW7XC5tz/P6i8UimU6n+zyzcRx7q9VqFEVR18wI9Re1DrXETunL90kHg0GhhRgzYyHmgdqGWmanlH3S5qltqFZip5R90uapc6hmVmynlH3S5uE5KiQQKiQQKiQQKiQQKiQQKiQQKiQ89Tkqr9VBVZ4WKq/VQZX+GapzzjOzzwU+2x8Oh1/m8/mt1+u95x3e7XbeZrPpx3E8CMPwkmf2eDx6Zman08kLw7Cf97vLzJeZjePYS9O0bcV3WZW9Z1n2x7/KfwJRdMm+a1aCHAAAAABJRU5ErkJggg==\"></img></td>\n",
       "      <td id=\"T_96705_row24_col5\" class=\"data row24 col5\" >1<br>(0.0%)</td>\n",
       "    </tr>\n",
       "    <tr>\n",
       "      <td id=\"T_96705_row25_col0\" class=\"data row25 col0\" >26</td>\n",
       "      <td id=\"T_96705_row25_col1\" class=\"data row25 col1\" ><strong>V25</strong><br>[float64]</td>\n",
       "      <td id=\"T_96705_row25_col2\" class=\"data row25 col2\" >Mean (sd) : 0.1 (0.4)<br>min < med < max:<br>-7.5 < 0.2 < 5.5<br>IQR (CV) : 0.5 (0.3)</td>\n",
       "      <td id=\"T_96705_row25_col3\" class=\"data row25 col3\" >34,905 distinct values</td>\n",
       "      <td id=\"T_96705_row25_col4\" class=\"data row25 col4\" ><img src = \"data:image/png;base64, iVBORw0KGgoAAAANSUhEUgAAAKoAAABGCAYAAABc8A97AAAAOXRFWHRTb2Z0d2FyZQBNYXRwbG90bGliIHZlcnNpb24zLjcuMSwgaHR0cHM6Ly9tYXRwbG90bGliLm9yZy/bCgiHAAAACXBIWXMAAA9hAAAPYQGoP6dpAAAB9klEQVR4nO3dvY7aUBCG4Znwk8MS+QiQoOMGVkpBSZ82F5uLoMilINDKCGdZLHNSRUqKVWLHCf6879OPNcXbuJnjKSUDuu7dvRcA/sTw3gv0kbtPzGzccPyaUnpuc58+INSWuftksVh8zrJs1mT+dDo9ufsXYv0VobZvnGXZbLvdPscYL3UG8zwPu91udjwex2ZGqD8h1H8kxnhZLpffGoxOWl+mB/iZggRChQRChQRChQRChQRChQRChQRChQRChQRChQRChQRChQRChQRChQRChQRChQRChQRChQRChQRChQRChQRChQRChQRChQRChQQupXRMVVUjM8vcveknenlkjVA7pCiKUVmWH9fr9WAwGNS6W/VDX4+sEWqHXK/XYQjhYbPZXFar1VPd+T4fWSPUDppOp00PrJn19MgaP1OQQKiQQKiQQKiQQKiQQKiQQKiQQKiQQKiQQKiQQKiQQKiQQKiQQKiQQKiQQKiQQKiQQKiQQKiQQKiQQKiQQKiQQKiQQKiQQKiQQKiQQKiQQKiQQKiQQKiQQKiQQKiQQKiQwMXpV7j7xMzGDUaz2+02anuft+63obp7MLP3/2GXLgnz+fxTjPFD3cGyLENVVY+Hw+Fr3dnz+RzMzIqiCPv9/qHufJ7noaqqof3dqyr38pJSevWBje/y5mpGgwT7WwAAAABJRU5ErkJggg==\"></img></td>\n",
       "      <td id=\"T_96705_row25_col5\" class=\"data row25 col5\" >1<br>(0.0%)</td>\n",
       "    </tr>\n",
       "    <tr>\n",
       "      <td id=\"T_96705_row26_col0\" class=\"data row26 col0\" >27</td>\n",
       "      <td id=\"T_96705_row26_col1\" class=\"data row26 col1\" ><strong>V26</strong><br>[float64]</td>\n",
       "      <td id=\"T_96705_row26_col2\" class=\"data row26 col2\" >Mean (sd) : 0.0 (0.5)<br>min < med < max:<br>-1.4 < -0.1 < 3.5<br>IQR (CV) : 0.6 (0.0)</td>\n",
       "      <td id=\"T_96705_row26_col3\" class=\"data row26 col3\" >34,905 distinct values</td>\n",
       "      <td id=\"T_96705_row26_col4\" class=\"data row26 col4\" ><img src = \"data:image/png;base64, iVBORw0KGgoAAAANSUhEUgAAAKoAAABGCAYAAABc8A97AAAAOXRFWHRTb2Z0d2FyZQBNYXRwbG90bGliIHZlcnNpb24zLjcuMSwgaHR0cHM6Ly9tYXRwbG90bGliLm9yZy/bCgiHAAAACXBIWXMAAA9hAAAPYQGoP6dpAAACVklEQVR4nO3dP47aQBiG8W/CHxmQbCEk6LhApC0oOcQeNkdIQZGaG9AhEDLCuw7GOBVdQsLYjv1az6+f3Ske7crWfGNXFIUBbfel6Q0A/6Lf9Aaecc6NzGzoufxaFMVnlftBc1obqnNuNJvN3sMwnPqsP5/PJ+fcN2LthtaGambDMAyn6/X6M4qi9JWFcRwHm81mejweh2ZGqB3Q5lDNzCyKonQ+n394LB1Vvhk0hocpSCBUSCBUSCBUSCBUSCBUSCBUSCBUSCBUSCBUSCBUSCBUSCBUSCBUSCBUSCBUSCBUSCBUSCBUSCBUSCBUSCBUSCBUSCBUSGj9BRS+8jwfmFnonPP9Edxd1SKdDDVJkkGWZW/L5bLX6/Veug7ogbur2qWToV6v134QBOPVapUuFovTq+u5u6p9Ohnqw2Qy8b23yoy7q1qFhylIIFRIIFRIIFRIIFRIIFRIIFRIIFRIIFRIIFRIIFRIIFRIIFRIqPX0VMmP7ob3+31Q5X6gq7ZQy350N8uyIM/zr2mafjcz36N66Ig6/6J6f3TXzGy320232+34drv16tgctNR+cNr3o7un06nRg8slZ66Yt6pYp0/4+yo7c8W8VfUI9TfKzFwxb1UPQn2ixMwV81YV4z0qJBAqJBAqJBAqJBAqJBAqJBAqJBAqJPDCvwacE6geoVaMcwL1INSKcU6gHoRaE84JVIuHKUggVEj467/+EgN6DOehMk9DLTOg9xjOOxwOP3w2drlcAjOzJEmC/X4//l9rm/zdcRwHeZ73rdxnh1T9LIrij29JfgENh/UqFL9UFAAAAABJRU5ErkJggg==\"></img></td>\n",
       "      <td id=\"T_96705_row26_col5\" class=\"data row26 col5\" >1<br>(0.0%)</td>\n",
       "    </tr>\n",
       "    <tr>\n",
       "      <td id=\"T_96705_row27_col0\" class=\"data row27 col0\" >28</td>\n",
       "      <td id=\"T_96705_row27_col1\" class=\"data row27 col1\" ><strong>V27</strong><br>[float64]</td>\n",
       "      <td id=\"T_96705_row27_col2\" class=\"data row27 col2\" >Mean (sd) : 0.0 (0.4)<br>min < med < max:<br>-8.6 < 0.0 < 11.1<br>IQR (CV) : 0.1 (0.0)</td>\n",
       "      <td id=\"T_96705_row27_col3\" class=\"data row27 col3\" >34,905 distinct values</td>\n",
       "      <td id=\"T_96705_row27_col4\" class=\"data row27 col4\" ><img src = \"data:image/png;base64, iVBORw0KGgoAAAANSUhEUgAAAKoAAABGCAYAAABc8A97AAAAOXRFWHRTb2Z0d2FyZQBNYXRwbG90bGliIHZlcnNpb24zLjcuMSwgaHR0cHM6Ly9tYXRwbG90bGliLm9yZy/bCgiHAAAACXBIWXMAAA9hAAAPYQGoP6dpAAABnElEQVR4nO3XQY4SURiF0fcMIiSmKkDCJtwBc6cu1kUwcC0QUwxsWlKUG+hu7bKUvuGcaeXPu4NvUnUYhgJv3btbD4A/Mbv1gLeq1rospcxHnv8chuFhyj33TqhPqLUuN5vNl6ZpVmPuT6fT91rrV7FOR6hPmzdNs9rtdg9t255fc9h13WK/36+Ox+O8lCLUiQj1BW3bnrfb7Y8Rp8vJx9w5P1NEECoRhEoEoRJBqEQQKhGESgShEkGoRBAqEYRKBKESQahEECoRhEoEoRJBqEQQKhGESgShEkGoRBAqEYRKBKESQahEECoRhEoEoRJBqEQQKhGESgShEkGoRBAqEYRKBKESQahEECoRhEoEoRJBqEQQKhGESgShEkGoRBAqEYRKBKESQahEECoRhEoEoRJBqEQQKhGESgShEkGoRBAqEYRKBKESQahEECoRZrce8K/UWpellPnI8+Z6vb6fcg9/57eh1loXpZQP/2HLlBbr9fpz27YfxxxfLpdF3/efDofDt9fedl236Pt+Vkppaq1jnr9Xj8MwnJ/7+AuRtDivByrNOgAAAABJRU5ErkJggg==\"></img></td>\n",
       "      <td id=\"T_96705_row27_col5\" class=\"data row27 col5\" >1<br>(0.0%)</td>\n",
       "    </tr>\n",
       "    <tr>\n",
       "      <td id=\"T_96705_row28_col0\" class=\"data row28 col0\" >29</td>\n",
       "      <td id=\"T_96705_row28_col1\" class=\"data row28 col1\" ><strong>V28</strong><br>[float64]</td>\n",
       "      <td id=\"T_96705_row28_col2\" class=\"data row28 col2\" >Mean (sd) : 0.0 (0.3)<br>min < med < max:<br>-9.6 < 0.0 < 5.7<br>IQR (CV) : 0.1 (0.0)</td>\n",
       "      <td id=\"T_96705_row28_col3\" class=\"data row28 col3\" >34,905 distinct values</td>\n",
       "      <td id=\"T_96705_row28_col4\" class=\"data row28 col4\" ><img src = \"data:image/png;base64, iVBORw0KGgoAAAANSUhEUgAAAKoAAABGCAYAAABc8A97AAAAOXRFWHRTb2Z0d2FyZQBNYXRwbG90bGliIHZlcnNpb24zLjcuMSwgaHR0cHM6Ly9tYXRwbG90bGliLm9yZy/bCgiHAAAACXBIWXMAAA9hAAAPYQGoP6dpAAABwElEQVR4nO3XQU7CUBSF4XsN1lbJa0gjmzBhASyCxboEB+yCDRCIeQyggOU5dmC0WKSH/N+0ue0Z/JN6SsmAvru79gDgNwbXHoCv3L0ws+wPrziklHZd7ekLQu0Rdy+qqpqFEEbnvmOz2by7++utxUqo/ZKFEEbT6XRXlmXd9jjGmM/n89F6vc7MjFBxWWVZ1uPxeHvmedHpmJ7gZwoSCBUSCBUSCBUSCBUSCBUSCBUSCBUSCBUSCBUSCBUSCBUSCBUSCBUSCBUSCBUSCBUSCBUSCBUSCBUSCBUSCBUSCBUSCBUSCBUSCBUSCBUSCBUSCBUSCBUSCBUSCBUSCBUSCBUSCBUSCBUSCBUSCBUSCBUSCBUSCBUSCBUSCBUSCBUSCBUSCBUSCBUSCBUSCBUSCBUSCBUSCBUSCBUSCBUSCBUSCBUSCBUSCBUSCBUSCBUSCBUSBtcecIvcvTCz7IzTcDqd7rvecwsItWPuXlRVNQshjNreHo/HvGmal7qu38xse4F5sn4M1d1zM3v4hy23IgyHw+fJZPJRFMW+zeFqtcoXi8VjjPFpuVwe2n44xpg3TTMws+Dubc+vbZ9Sqr97+AmMpEi5Ux720wAAAABJRU5ErkJggg==\"></img></td>\n",
       "      <td id=\"T_96705_row28_col5\" class=\"data row28 col5\" >1<br>(0.0%)</td>\n",
       "    </tr>\n",
       "    <tr>\n",
       "      <td id=\"T_96705_row29_col0\" class=\"data row29 col0\" >30</td>\n",
       "      <td id=\"T_96705_row29_col1\" class=\"data row29 col1\" ><strong>Amount</strong><br>[float64]</td>\n",
       "      <td id=\"T_96705_row29_col2\" class=\"data row29 col2\" >Mean (sd) : 84.2 (227.3)<br>min < med < max:<br>0.0 < 22.0 < 7879.4<br>IQR (CV) : 69.0 (0.4)</td>\n",
       "      <td id=\"T_96705_row29_col3\" class=\"data row29 col3\" >9,854 distinct values</td>\n",
       "      <td id=\"T_96705_row29_col4\" class=\"data row29 col4\" ><img src = \"data:image/png;base64, iVBORw0KGgoAAAANSUhEUgAAAKoAAABGCAYAAABc8A97AAAAOXRFWHRTb2Z0d2FyZQBNYXRwbG90bGliIHZlcnNpb24zLjcuMSwgaHR0cHM6Ly9tYXRwbG90bGliLm9yZy/bCgiHAAAACXBIWXMAAA9hAAAPYQGoP6dpAAABk0lEQVR4nO3XwWoaUQCF4XtrKnHRGURw6SP0AXyIPGy23fssbqSOlGojcrPLJqTGSUt74PvWcw8X5mfE2lor8L/79K8vAO9xd+2BWuuslDIduf/UWjuOPAsvfhtqrXW2WCweuq6bjxk/HA7fa62PYuWjrn1Rp13Xzdfr9bHv+9Mtw8Mw3G82m/lut5uWUoTKh1z96S+llL7vT8vl8ueI/dmIM/CKP1NEECoRhEoEoRJBqEQQKhGESgShEkGoRBAqEYRKBKESQahEECoRhEoEoRJBqEQQKhGESgShEkGoRBAqEYRKBKESQahEECoRhEoEoRJBqEQQKhGESgShEkGoRBAqEYRKBKESQahEECoRhEoEoRJBqEQQKhGESgShEkGoRBAqEYRKBKESQahEECoRhEoEoRJBqEQQKhGESgShEkGoRBAqEYRKBKESQahEECoR7v7m+OVy+VxK6WqtYyeeWmvHP3glQr0r1GEY7m8d3m63X87n89fVajWZTCan269Wyn6//1Fr/VZKGXWeKL9aa2++52fxYDzEnB/1ZAAAAABJRU5ErkJggg==\"></img></td>\n",
       "      <td id=\"T_96705_row29_col5\" class=\"data row29 col5\" >1<br>(0.0%)</td>\n",
       "    </tr>\n",
       "    <tr>\n",
       "      <td id=\"T_96705_row30_col0\" class=\"data row30 col0\" >31</td>\n",
       "      <td id=\"T_96705_row30_col1\" class=\"data row30 col1\" ><strong>Class</strong><br>[float64]</td>\n",
       "      <td id=\"T_96705_row30_col2\" class=\"data row30 col2\" >1. 0.0<br>2. 1.0<br>3. nan</td>\n",
       "      <td id=\"T_96705_row30_col3\" class=\"data row30 col3\" >35,638 (99.7%)<br>103 (0.3%)<br>1 (0.0%)</td>\n",
       "      <td id=\"T_96705_row30_col4\" class=\"data row30 col4\" ><img src = \"data:image/png;base64, iVBORw0KGgoAAAANSUhEUgAAAJsAAABFCAYAAABdVZTTAAAAOXRFWHRTb2Z0d2FyZQBNYXRwbG90bGliIHZlcnNpb24zLjcuMSwgaHR0cHM6Ly9tYXRwbG90bGliLm9yZy/bCgiHAAAACXBIWXMAAA9hAAAPYQGoP6dpAAABQUlEQVR4nO3bsU3EQBCG0VnLgiOxdbLkEqCHK4KU3unCCRyRCaiBf6W99yqY4JNGK+208zwLEqbeA/A4WlW9VNVT70EY37xt2/uyLNfegzC+eVmW6+12+17X9d57GMZ1HMdlrqpa1/W+7/tX74EYmwcCMWIjRmzEiI0YsREjNmLERozYiBEbMWIjRmzEiI0YsREjNmLmqr+/Rr0HYWzHcVzatm0ffuqS4AaBmOaUjxQPBGKm1tpba80DgX83VdVrVT33HoTxWaPEiI0YsREjNmLERozYiBEbMWIjRmzEiI0YsREjNmLERozYiBEbMWIjZqqqz6r66T0I43PwQow1SozYiBEbMU75iHHKR4w1SozYiBEbMWIjRmzEiI0YsREjNmLERozYiBEbMWIjRmzEiI0YsREjNmKc8hHjlI8Ya5SYX8x1IIgKwWYlAAAAAElFTkSuQmCC\"></img></td>\n",
       "      <td id=\"T_96705_row30_col5\" class=\"data row30 col5\" >1<br>(0.0%)</td>\n",
       "    </tr>\n",
       "  </tbody>\n",
       "</table>\n"
      ],
      "text/plain": [
       "<pandas.io.formats.style.Styler at 0x7e646f028760>"
      ]
     },
     "execution_count": 16,
     "metadata": {},
     "output_type": "execute_result"
    }
   ],
   "source": [
    "dfSummary(data)"
   ]
  },
  {
   "cell_type": "code",
   "execution_count": 17,
   "metadata": {
    "colab": {
     "base_uri": "https://localhost:8080/",
     "height": 870
    },
    "id": "0AXau7_BA4b5",
    "outputId": "fc44ea92-8517-4333-ee43-465ad9f93948"
   },
   "outputs": [
    {
     "data": {
      "text/html": [
       "<pre style=\"white-space:pre;overflow-x:auto;line-height:normal;font-family:Menlo,'DejaVu Sans Mono',consolas,'Courier New',monospace\">╭──────────────────────────────────────────────── skimpy summary ─────────────────────────────────────────────────╮\n",
       "│ <span style=\"font-style: italic\">         Data Summary         </span> <span style=\"font-style: italic\">      Data Types       </span>                                                          │\n",
       "│ ┏━━━━━━━━━━━━━━━━━━━┳━━━━━━━━┓ ┏━━━━━━━━━━━━━┳━━━━━━━┓                                                          │\n",
       "│ ┃<span style=\"color: #008080; text-decoration-color: #008080; font-weight: bold\"> dataframe         </span>┃<span style=\"color: #008080; text-decoration-color: #008080; font-weight: bold\"> Values </span>┃ ┃<span style=\"color: #008080; text-decoration-color: #008080; font-weight: bold\"> Column Type </span>┃<span style=\"color: #008080; text-decoration-color: #008080; font-weight: bold\"> Count </span>┃                                                          │\n",
       "│ ┡━━━━━━━━━━━━━━━━━━━╇━━━━━━━━┩ ┡━━━━━━━━━━━━━╇━━━━━━━┩                                                          │\n",
       "│ │ Number of rows    │ 35742  │ │ float64     │ 30    │                                                          │\n",
       "│ │ Number of columns │ 31     │ │ int64       │ 1     │                                                          │\n",
       "│ └───────────────────┴────────┘ └─────────────┴───────┘                                                          │\n",
       "│ <span style=\"font-style: italic\">                                                    number                                                    </span>  │\n",
       "│ ┏━━━━━━━━━━━━━━┳━━━━━┳━━━━━━┳━━━━━━━━━━━┳━━━━━━━━━┳━━━━━━━━┳━━━━━━━━━━━┳━━━━━━━━━━┳━━━━━━━━━┳━━━━━━━┳━━━━━━━━┓  │\n",
       "│ ┃<span style=\"font-weight: bold\"> column_name  </span>┃<span style=\"font-weight: bold\"> NA  </span>┃<span style=\"font-weight: bold\"> NA % </span>┃<span style=\"font-weight: bold\"> mean      </span>┃<span style=\"font-weight: bold\"> sd      </span>┃<span style=\"font-weight: bold\"> p0     </span>┃<span style=\"font-weight: bold\"> p25       </span>┃<span style=\"font-weight: bold\"> p50      </span>┃<span style=\"font-weight: bold\"> p75     </span>┃<span style=\"font-weight: bold\"> p100  </span>┃<span style=\"font-weight: bold\"> hist   </span>┃  │\n",
       "│ ┡━━━━━━━━━━━━━━╇━━━━━╇━━━━━━╇━━━━━━━━━━━╇━━━━━━━━━╇━━━━━━━━╇━━━━━━━━━━━╇━━━━━━━━━━╇━━━━━━━━━╇━━━━━━━╇━━━━━━━━┩  │\n",
       "│ │ <span style=\"color: #af87ff; text-decoration-color: #af87ff\">Time        </span> │ <span style=\"color: #008080; text-decoration-color: #008080\">  0</span> │ <span style=\"color: #008080; text-decoration-color: #008080\">   0</span> │ <span style=\"color: #008080; text-decoration-color: #008080\">    24000</span> │ <span style=\"color: #008080; text-decoration-color: #008080\">  12420</span> │ <span style=\"color: #008080; text-decoration-color: #008080\">     0</span> │ <span style=\"color: #008080; text-decoration-color: #008080\">    12280</span> │ <span style=\"color: #008080; text-decoration-color: #008080\">   28990</span> │ <span style=\"color: #008080; text-decoration-color: #008080\">  34260</span> │ <span style=\"color: #008080; text-decoration-color: #008080\">38240</span> │ <span style=\"color: #008000; text-decoration-color: #008000\">▃▂▁▂▅▇</span> │  │\n",
       "│ │ <span style=\"color: #af87ff; text-decoration-color: #af87ff\">V1          </span> │ <span style=\"color: #008080; text-decoration-color: #008080\">  0</span> │ <span style=\"color: #008080; text-decoration-color: #008080\">   0</span> │ <span style=\"color: #008080; text-decoration-color: #008080\">  -0.2084</span> │ <span style=\"color: #008080; text-decoration-color: #008080\">  1.837</span> │ <span style=\"color: #008080; text-decoration-color: #008080\">-30.55</span> │ <span style=\"color: #008080; text-decoration-color: #008080\">  -0.9601</span> │ <span style=\"color: #008080; text-decoration-color: #008080\"> -0.2345</span> │ <span style=\"color: #008080; text-decoration-color: #008080\">  1.162</span> │ <span style=\"color: #008080; text-decoration-color: #008080\"> 1.96</span> │ <span style=\"color: #008000; text-decoration-color: #008000\">     ▇</span> │  │\n",
       "│ │ <span style=\"color: #af87ff; text-decoration-color: #af87ff\">V2          </span> │ <span style=\"color: #008080; text-decoration-color: #008080\">  0</span> │ <span style=\"color: #008080; text-decoration-color: #008080\">   0</span> │ <span style=\"color: #008080; text-decoration-color: #008080\">  0.07258</span> │ <span style=\"color: #008080; text-decoration-color: #008080\">  1.541</span> │ <span style=\"color: #008080; text-decoration-color: #008080\">-40.98</span> │ <span style=\"color: #008080; text-decoration-color: #008080\">  -0.4993</span> │ <span style=\"color: #008080; text-decoration-color: #008080\">   0.114</span> │ <span style=\"color: #008080; text-decoration-color: #008080\">  0.755</span> │ <span style=\"color: #008080; text-decoration-color: #008080\">16.71</span> │ <span style=\"color: #008000; text-decoration-color: #008000\">    ▇ </span> │  │\n",
       "│ │ <span style=\"color: #af87ff; text-decoration-color: #af87ff\">V3          </span> │ <span style=\"color: #008080; text-decoration-color: #008080\">  0</span> │ <span style=\"color: #008080; text-decoration-color: #008080\">   0</span> │ <span style=\"color: #008080; text-decoration-color: #008080\">   0.7183</span> │ <span style=\"color: #008080; text-decoration-color: #008080\">  1.541</span> │ <span style=\"color: #008080; text-decoration-color: #008080\"> -31.1</span> │ <span style=\"color: #008080; text-decoration-color: #008080\">   0.2447</span> │ <span style=\"color: #008080; text-decoration-color: #008080\">  0.8276</span> │ <span style=\"color: #008080; text-decoration-color: #008080\">  1.456</span> │ <span style=\"color: #008080; text-decoration-color: #008080\">4.102</span> │ <span style=\"color: #008000; text-decoration-color: #008000\">     ▇</span> │  │\n",
       "│ │ <span style=\"color: #af87ff; text-decoration-color: #af87ff\">V4          </span> │ <span style=\"color: #008080; text-decoration-color: #008080\">  0</span> │ <span style=\"color: #008080; text-decoration-color: #008080\">   0</span> │ <span style=\"color: #008080; text-decoration-color: #008080\">   0.1957</span> │ <span style=\"color: #008080; text-decoration-color: #008080\">  1.409</span> │ <span style=\"color: #008080; text-decoration-color: #008080\">-5.173</span> │ <span style=\"color: #008080; text-decoration-color: #008080\">  -0.7145</span> │ <span style=\"color: #008080; text-decoration-color: #008080\">  0.1886</span> │ <span style=\"color: #008080; text-decoration-color: #008080\">  1.079</span> │ <span style=\"color: #008080; text-decoration-color: #008080\">13.14</span> │ <span style=\"color: #008000; text-decoration-color: #008000\"> ▁▇▃  </span> │  │\n",
       "│ │ <span style=\"color: #af87ff; text-decoration-color: #af87ff\">V5          </span> │ <span style=\"color: #008080; text-decoration-color: #008080\">  0</span> │ <span style=\"color: #008080; text-decoration-color: #008080\">   0</span> │ <span style=\"color: #008080; text-decoration-color: #008080\">  -0.2167</span> │ <span style=\"color: #008080; text-decoration-color: #008080\">  1.389</span> │ <span style=\"color: #008080; text-decoration-color: #008080\">-42.15</span> │ <span style=\"color: #008080; text-decoration-color: #008080\">  -0.8182</span> │ <span style=\"color: #008080; text-decoration-color: #008080\">  -0.255</span> │ <span style=\"color: #008080; text-decoration-color: #008080\">  0.303</span> │ <span style=\"color: #008080; text-decoration-color: #008080\"> 34.1</span> │ <span style=\"color: #008000; text-decoration-color: #008000\">    ▇ </span> │  │\n",
       "│ │ <span style=\"color: #af87ff; text-decoration-color: #af87ff\">V6          </span> │ <span style=\"color: #008080; text-decoration-color: #008080\">  1</span> │ <span style=\"color: #008080; text-decoration-color: #008080\">   0</span> │ <span style=\"color: #008080; text-decoration-color: #008080\">  0.09557</span> │ <span style=\"color: #008080; text-decoration-color: #008080\">  1.311</span> │ <span style=\"color: #008080; text-decoration-color: #008080\"> -23.5</span> │ <span style=\"color: #008080; text-decoration-color: #008080\">   -0.645</span> │ <span style=\"color: #008080; text-decoration-color: #008080\"> -0.1631</span> │ <span style=\"color: #008080; text-decoration-color: #008080\"> 0.4852</span> │ <span style=\"color: #008080; text-decoration-color: #008080\">22.53</span> │ <span style=\"color: #008000; text-decoration-color: #008000\">   ▃▇ </span> │  │\n",
       "│ │ <span style=\"color: #af87ff; text-decoration-color: #af87ff\">V7          </span> │ <span style=\"color: #008080; text-decoration-color: #008080\">  1</span> │ <span style=\"color: #008080; text-decoration-color: #008080\">   0</span> │ <span style=\"color: #008080; text-decoration-color: #008080\">  -0.1168</span> │ <span style=\"color: #008080; text-decoration-color: #008080\">  1.258</span> │ <span style=\"color: #008080; text-decoration-color: #008080\">-26.55</span> │ <span style=\"color: #008080; text-decoration-color: #008080\">  -0.5981</span> │ <span style=\"color: #008080; text-decoration-color: #008080\">-0.07307</span> │ <span style=\"color: #008080; text-decoration-color: #008080\"> 0.4366</span> │ <span style=\"color: #008080; text-decoration-color: #008080\">36.68</span> │ <span style=\"color: #008000; text-decoration-color: #008000\">   ▇  </span> │  │\n",
       "│ │ <span style=\"color: #af87ff; text-decoration-color: #af87ff\">V8          </span> │ <span style=\"color: #008080; text-decoration-color: #008080\">  1</span> │ <span style=\"color: #008080; text-decoration-color: #008080\">   0</span> │ <span style=\"color: #008080; text-decoration-color: #008080\">  0.03276</span> │ <span style=\"color: #008080; text-decoration-color: #008080\">  1.242</span> │ <span style=\"color: #008080; text-decoration-color: #008080\">-41.48</span> │ <span style=\"color: #008080; text-decoration-color: #008080\">  -0.1556</span> │ <span style=\"color: #008080; text-decoration-color: #008080\"> 0.04346</span> │ <span style=\"color: #008080; text-decoration-color: #008080\"> 0.3076</span> │ <span style=\"color: #008080; text-decoration-color: #008080\">20.01</span> │ <span style=\"color: #008000; text-decoration-color: #008000\">   ▁▇ </span> │  │\n",
       "│ │ <span style=\"color: #af87ff; text-decoration-color: #af87ff\">V9          </span> │ <span style=\"color: #008080; text-decoration-color: #008080\">  1</span> │ <span style=\"color: #008080; text-decoration-color: #008080\">   0</span> │ <span style=\"color: #008080; text-decoration-color: #008080\">   0.2595</span> │ <span style=\"color: #008080; text-decoration-color: #008080\">  1.238</span> │ <span style=\"color: #008080; text-decoration-color: #008080\">-7.175</span> │ <span style=\"color: #008080; text-decoration-color: #008080\">  -0.5234</span> │ <span style=\"color: #008080; text-decoration-color: #008080\">  0.1352</span> │ <span style=\"color: #008080; text-decoration-color: #008080\"> 0.9917</span> │ <span style=\"color: #008080; text-decoration-color: #008080\">10.39</span> │ <span style=\"color: #008000; text-decoration-color: #008000\">  ▁▇▁ </span> │  │\n",
       "│ │ <span style=\"color: #af87ff; text-decoration-color: #af87ff\">V10         </span> │ <span style=\"color: #008080; text-decoration-color: #008080\">  1</span> │ <span style=\"color: #008080; text-decoration-color: #008080\">   0</span> │ <span style=\"color: #008080; text-decoration-color: #008080\">  -0.0868</span> │ <span style=\"color: #008080; text-decoration-color: #008080\">  1.137</span> │ <span style=\"color: #008080; text-decoration-color: #008080\">-14.17</span> │ <span style=\"color: #008080; text-decoration-color: #008080\">   -0.566</span> │ <span style=\"color: #008080; text-decoration-color: #008080\"> -0.1422</span> │ <span style=\"color: #008080; text-decoration-color: #008080\"> 0.3579</span> │ <span style=\"color: #008080; text-decoration-color: #008080\"> 12.7</span> │ <span style=\"color: #008000; text-decoration-color: #008000\">   ▂▇ </span> │  │\n",
       "│ │ <span style=\"color: #af87ff; text-decoration-color: #af87ff\">V11         </span> │ <span style=\"color: #008080; text-decoration-color: #008080\">  1</span> │ <span style=\"color: #008080; text-decoration-color: #008080\">   0</span> │ <span style=\"color: #008080; text-decoration-color: #008080\">   0.4563</span> │ <span style=\"color: #008080; text-decoration-color: #008080\">  1.137</span> │ <span style=\"color: #008080; text-decoration-color: #008080\">-2.985</span> │ <span style=\"color: #008080; text-decoration-color: #008080\">  -0.3622</span> │ <span style=\"color: #008080; text-decoration-color: #008080\">  0.4292</span> │ <span style=\"color: #008080; text-decoration-color: #008080\">  1.236</span> │ <span style=\"color: #008080; text-decoration-color: #008080\">12.02</span> │ <span style=\"color: #008000; text-decoration-color: #008000\"> ▂▇▁  </span> │  │\n",
       "│ │ <span style=\"color: #af87ff; text-decoration-color: #af87ff\">V12         </span> │ <span style=\"color: #008080; text-decoration-color: #008080\">  1</span> │ <span style=\"color: #008080; text-decoration-color: #008080\">   0</span> │ <span style=\"color: #008080; text-decoration-color: #008080\">  -0.5394</span> │ <span style=\"color: #008080; text-decoration-color: #008080\">  1.418</span> │ <span style=\"color: #008080; text-decoration-color: #008080\">-17.77</span> │ <span style=\"color: #008080; text-decoration-color: #008080\">   -1.533</span> │ <span style=\"color: #008080; text-decoration-color: #008080\">  -0.171</span> │ <span style=\"color: #008080; text-decoration-color: #008080\"> 0.4612</span> │ <span style=\"color: #008080; text-decoration-color: #008080\">4.846</span> │ <span style=\"color: #008000; text-decoration-color: #008000\">   ▁▇▁</span> │  │\n",
       "│ │ <span style=\"color: #af87ff; text-decoration-color: #af87ff\">V13         </span> │ <span style=\"color: #008080; text-decoration-color: #008080\">  1</span> │ <span style=\"color: #008080; text-decoration-color: #008080\">   0</span> │ <span style=\"color: #008080; text-decoration-color: #008080\">   0.2951</span> │ <span style=\"color: #008080; text-decoration-color: #008080\">   1.16</span> │ <span style=\"color: #008080; text-decoration-color: #008080\">-3.809</span> │ <span style=\"color: #008080; text-decoration-color: #008080\">  -0.4922</span> │ <span style=\"color: #008080; text-decoration-color: #008080\">  0.2182</span> │ <span style=\"color: #008080; text-decoration-color: #008080\">   1.06</span> │ <span style=\"color: #008080; text-decoration-color: #008080\">4.465</span> │ <span style=\"color: #008000; text-decoration-color: #008000\"> ▂▇▇▂ </span> │  │\n",
       "│ │ <span style=\"color: #af87ff; text-decoration-color: #af87ff\">V14         </span> │ <span style=\"color: #008080; text-decoration-color: #008080\">  1</span> │ <span style=\"color: #008080; text-decoration-color: #008080\">   0</span> │ <span style=\"color: #008080; text-decoration-color: #008080\">   0.2691</span> │ <span style=\"color: #008080; text-decoration-color: #008080\">  1.167</span> │ <span style=\"color: #008080; text-decoration-color: #008080\">-19.21</span> │ <span style=\"color: #008080; text-decoration-color: #008080\">  -0.2458</span> │ <span style=\"color: #008080; text-decoration-color: #008080\">  0.2212</span> │ <span style=\"color: #008080; text-decoration-color: #008080\"> 0.9141</span> │ <span style=\"color: #008080; text-decoration-color: #008080\">7.692</span> │ <span style=\"color: #008000; text-decoration-color: #008000\">    ▇ </span> │  │\n",
       "│ │ <span style=\"color: #af87ff; text-decoration-color: #af87ff\">V15         </span> │ <span style=\"color: #008080; text-decoration-color: #008080\">  1</span> │ <span style=\"color: #008080; text-decoration-color: #008080\">   0</span> │ <span style=\"color: #008080; text-decoration-color: #008080\">  0.08256</span> │ <span style=\"color: #008080; text-decoration-color: #008080\">  0.958</span> │ <span style=\"color: #008080; text-decoration-color: #008080\">-4.153</span> │ <span style=\"color: #008080; text-decoration-color: #008080\">   -0.479</span> │ <span style=\"color: #008080; text-decoration-color: #008080\">  0.2051</span> │ <span style=\"color: #008080; text-decoration-color: #008080\"> 0.7627</span> │ <span style=\"color: #008080; text-decoration-color: #008080\">3.833</span> │ <span style=\"color: #008000; text-decoration-color: #008000\"> ▁▅▇▂ </span> │  │\n",
       "│ │ <span style=\"color: #af87ff; text-decoration-color: #af87ff\">V16         </span> │ <span style=\"color: #008080; text-decoration-color: #008080\">  1</span> │ <span style=\"color: #008080; text-decoration-color: #008080\">   0</span> │ <span style=\"color: #008080; text-decoration-color: #008080\">-0.000769</span> │ <span style=\"color: #008080; text-decoration-color: #008080\"> 0.9334</span> │ <span style=\"color: #008080; text-decoration-color: #008080\">-12.23</span> │ <span style=\"color: #008080; text-decoration-color: #008080\">  -0.4901</span> │ <span style=\"color: #008080; text-decoration-color: #008080\"> 0.06378</span> │ <span style=\"color: #008080; text-decoration-color: #008080\"> 0.5605</span> │ <span style=\"color: #008080; text-decoration-color: #008080\">6.099</span> │ <span style=\"color: #008000; text-decoration-color: #008000\">   ▇▇ </span> │  │\n",
       "│ │ <span style=\"color: #af87ff; text-decoration-color: #af87ff\">V17         </span> │ <span style=\"color: #008080; text-decoration-color: #008080\">  1</span> │ <span style=\"color: #008080; text-decoration-color: #008080\">   0</span> │ <span style=\"color: #008080; text-decoration-color: #008080\">   0.1656</span> │ <span style=\"color: #008080; text-decoration-color: #008080\">  1.071</span> │ <span style=\"color: #008080; text-decoration-color: #008080\">-18.59</span> │ <span style=\"color: #008080; text-decoration-color: #008080\">  -0.3315</span> │ <span style=\"color: #008080; text-decoration-color: #008080\">  0.1086</span> │ <span style=\"color: #008080; text-decoration-color: #008080\"> 0.6021</span> │ <span style=\"color: #008080; text-decoration-color: #008080\">9.254</span> │ <span style=\"color: #008000; text-decoration-color: #008000\">   ▆▇ </span> │  │\n",
       "│ │ <span style=\"color: #af87ff; text-decoration-color: #af87ff\">V18         </span> │ <span style=\"color: #008080; text-decoration-color: #008080\">  1</span> │ <span style=\"color: #008080; text-decoration-color: #008080\">   0</span> │ <span style=\"color: #008080; text-decoration-color: #008080\"> -0.08744</span> │ <span style=\"color: #008080; text-decoration-color: #008080\"> 0.8583</span> │ <span style=\"color: #008080; text-decoration-color: #008080\">-8.061</span> │ <span style=\"color: #008080; text-decoration-color: #008080\">  -0.5632</span> │ <span style=\"color: #008080; text-decoration-color: #008080\">-0.06912</span> │ <span style=\"color: #008080; text-decoration-color: #008080\">  0.409</span> │ <span style=\"color: #008080; text-decoration-color: #008080\">4.296</span> │ <span style=\"color: #008000; text-decoration-color: #008000\">   ▇▅ </span> │  │\n",
       "│ │ <span style=\"color: #af87ff; text-decoration-color: #af87ff\">V19         </span> │ <span style=\"color: #008080; text-decoration-color: #008080\">  1</span> │ <span style=\"color: #008080; text-decoration-color: #008080\">   0</span> │ <span style=\"color: #008080; text-decoration-color: #008080\"> -0.03687</span> │ <span style=\"color: #008080; text-decoration-color: #008080\"> 0.8159</span> │ <span style=\"color: #008080; text-decoration-color: #008080\">-4.933</span> │ <span style=\"color: #008080; text-decoration-color: #008080\">  -0.5275</span> │ <span style=\"color: #008080; text-decoration-color: #008080\">-0.03527</span> │ <span style=\"color: #008080; text-decoration-color: #008080\"> 0.4722</span> │ <span style=\"color: #008080; text-decoration-color: #008080\">4.555</span> │ <span style=\"color: #008000; text-decoration-color: #008000\">  ▆▇▁ </span> │  │\n",
       "│ │ <span style=\"color: #af87ff; text-decoration-color: #af87ff\">V20         </span> │ <span style=\"color: #008080; text-decoration-color: #008080\">  1</span> │ <span style=\"color: #008080; text-decoration-color: #008080\">   0</span> │ <span style=\"color: #008080; text-decoration-color: #008080\">  0.04481</span> │ <span style=\"color: #008080; text-decoration-color: #008080\"> 0.6744</span> │ <span style=\"color: #008080; text-decoration-color: #008080\">-13.69</span> │ <span style=\"color: #008080; text-decoration-color: #008080\">  -0.1617</span> │ <span style=\"color: #008080; text-decoration-color: #008080\">-0.02226</span> │ <span style=\"color: #008080; text-decoration-color: #008080\"> 0.1664</span> │ <span style=\"color: #008080; text-decoration-color: #008080\">17.28</span> │ <span style=\"color: #008000; text-decoration-color: #008000\">   ▇  </span> │  │\n",
       "│ │ <span style=\"color: #af87ff; text-decoration-color: #af87ff\">V21         </span> │ <span style=\"color: #008080; text-decoration-color: #008080\">  1</span> │ <span style=\"color: #008080; text-decoration-color: #008080\">   0</span> │ <span style=\"color: #008080; text-decoration-color: #008080\"> -0.03088</span> │ <span style=\"color: #008080; text-decoration-color: #008080\"> 0.7698</span> │ <span style=\"color: #008080; text-decoration-color: #008080\">-20.26</span> │ <span style=\"color: #008080; text-decoration-color: #008080\">  -0.2396</span> │ <span style=\"color: #008080; text-decoration-color: #008080\">-0.08161</span> │ <span style=\"color: #008080; text-decoration-color: #008080\">0.09499</span> │ <span style=\"color: #008080; text-decoration-color: #008080\">22.61</span> │ <span style=\"color: #008000; text-decoration-color: #008000\">   ▇  </span> │  │\n",
       "│ │ <span style=\"color: #af87ff; text-decoration-color: #af87ff\">V22         </span> │ <span style=\"color: #008080; text-decoration-color: #008080\">  1</span> │ <span style=\"color: #008080; text-decoration-color: #008080\">   0</span> │ <span style=\"color: #008080; text-decoration-color: #008080\">  -0.1136</span> │ <span style=\"color: #008080; text-decoration-color: #008080\"> 0.6404</span> │ <span style=\"color: #008080; text-decoration-color: #008080\">-8.594</span> │ <span style=\"color: #008080; text-decoration-color: #008080\">  -0.5365</span> │ <span style=\"color: #008080; text-decoration-color: #008080\">-0.08752</span> │ <span style=\"color: #008080; text-decoration-color: #008080\"> 0.2967</span> │ <span style=\"color: #008080; text-decoration-color: #008080\">5.806</span> │ <span style=\"color: #008000; text-decoration-color: #008000\">    ▇ </span> │  │\n",
       "│ │ <span style=\"color: #af87ff; text-decoration-color: #af87ff\">V23         </span> │ <span style=\"color: #008080; text-decoration-color: #008080\">  1</span> │ <span style=\"color: #008080; text-decoration-color: #008080\">   0</span> │ <span style=\"color: #008080; text-decoration-color: #008080\"> -0.04157</span> │ <span style=\"color: #008080; text-decoration-color: #008080\"> 0.5452</span> │ <span style=\"color: #008080; text-decoration-color: #008080\">-26.75</span> │ <span style=\"color: #008080; text-decoration-color: #008080\">  -0.1785</span> │ <span style=\"color: #008080; text-decoration-color: #008080\">  -0.052</span> │ <span style=\"color: #008080; text-decoration-color: #008080\">0.07621</span> │ <span style=\"color: #008080; text-decoration-color: #008080\">13.88</span> │ <span style=\"color: #008000; text-decoration-color: #008000\">   ▇▁ </span> │  │\n",
       "│ │ <span style=\"color: #af87ff; text-decoration-color: #af87ff\">V24         </span> │ <span style=\"color: #008080; text-decoration-color: #008080\">  1</span> │ <span style=\"color: #008080; text-decoration-color: #008080\">   0</span> │ <span style=\"color: #008080; text-decoration-color: #008080\"> 0.007469</span> │ <span style=\"color: #008080; text-decoration-color: #008080\"> 0.5933</span> │ <span style=\"color: #008080; text-decoration-color: #008080\">-2.837</span> │ <span style=\"color: #008080; text-decoration-color: #008080\">  -0.3269</span> │ <span style=\"color: #008080; text-decoration-color: #008080\"> 0.06182</span> │ <span style=\"color: #008080; text-decoration-color: #008080\"> 0.3988</span> │ <span style=\"color: #008080; text-decoration-color: #008080\">4.014</span> │ <span style=\"color: #008000; text-decoration-color: #008000\">  ▂▇▁ </span> │  │\n",
       "│ │ <span style=\"color: #af87ff; text-decoration-color: #af87ff\">V25         </span> │ <span style=\"color: #008080; text-decoration-color: #008080\">  1</span> │ <span style=\"color: #008080; text-decoration-color: #008080\">   0</span> │ <span style=\"color: #008080; text-decoration-color: #008080\">    0.136</span> │ <span style=\"color: #008080; text-decoration-color: #008080\"> 0.4359</span> │ <span style=\"color: #008080; text-decoration-color: #008080\">-7.496</span> │ <span style=\"color: #008080; text-decoration-color: #008080\">  -0.1273</span> │ <span style=\"color: #008080; text-decoration-color: #008080\">  0.1757</span> │ <span style=\"color: #008080; text-decoration-color: #008080\"> 0.4211</span> │ <span style=\"color: #008080; text-decoration-color: #008080\">5.525</span> │ <span style=\"color: #008000; text-decoration-color: #008000\">    ▇ </span> │  │\n",
       "│ │ <span style=\"color: #af87ff; text-decoration-color: #af87ff\">V26         </span> │ <span style=\"color: #008080; text-decoration-color: #008080\">  1</span> │ <span style=\"color: #008080; text-decoration-color: #008080\">   0</span> │ <span style=\"color: #008080; text-decoration-color: #008080\">  0.02181</span> │ <span style=\"color: #008080; text-decoration-color: #008080\"> 0.5066</span> │ <span style=\"color: #008080; text-decoration-color: #008080\">-1.439</span> │ <span style=\"color: #008080; text-decoration-color: #008080\">  -0.3317</span> │ <span style=\"color: #008080; text-decoration-color: #008080\">-0.06327</span> │ <span style=\"color: #008080; text-decoration-color: #008080\"> 0.3012</span> │ <span style=\"color: #008080; text-decoration-color: #008080\">3.517</span> │ <span style=\"color: #008000; text-decoration-color: #008000\"> ▁▇▃▁ </span> │  │\n",
       "│ │ <span style=\"color: #af87ff; text-decoration-color: #af87ff\">V27         </span> │ <span style=\"color: #008080; text-decoration-color: #008080\">  1</span> │ <span style=\"color: #008080; text-decoration-color: #008080\">   0</span> │ <span style=\"color: #008080; text-decoration-color: #008080\">  0.01084</span> │ <span style=\"color: #008080; text-decoration-color: #008080\"> 0.3883</span> │ <span style=\"color: #008080; text-decoration-color: #008080\">-8.568</span> │ <span style=\"color: #008080; text-decoration-color: #008080\">  -0.0632</span> │ <span style=\"color: #008080; text-decoration-color: #008080\">0.008848</span> │ <span style=\"color: #008080; text-decoration-color: #008080\">0.08677</span> │ <span style=\"color: #008080; text-decoration-color: #008080\">11.14</span> │ <span style=\"color: #008000; text-decoration-color: #008000\">   ▇  </span> │  │\n",
       "│ │ <span style=\"color: #af87ff; text-decoration-color: #af87ff\">V28         </span> │ <span style=\"color: #008080; text-decoration-color: #008080\">  1</span> │ <span style=\"color: #008080; text-decoration-color: #008080\">   0</span> │ <span style=\"color: #008080; text-decoration-color: #008080\"> 0.003834</span> │ <span style=\"color: #008080; text-decoration-color: #008080\">  0.302</span> │ <span style=\"color: #008080; text-decoration-color: #008080\">-9.618</span> │ <span style=\"color: #008080; text-decoration-color: #008080\">-0.007248</span> │ <span style=\"color: #008080; text-decoration-color: #008080\"> 0.02109</span> │ <span style=\"color: #008080; text-decoration-color: #008080\">0.07601</span> │ <span style=\"color: #008080; text-decoration-color: #008080\">5.679</span> │ <span style=\"color: #008000; text-decoration-color: #008000\">    ▇ </span> │  │\n",
       "│ │ <span style=\"color: #af87ff; text-decoration-color: #af87ff\">Amount      </span> │ <span style=\"color: #008080; text-decoration-color: #008080\">  1</span> │ <span style=\"color: #008080; text-decoration-color: #008080\">   0</span> │ <span style=\"color: #008080; text-decoration-color: #008080\">     84.2</span> │ <span style=\"color: #008080; text-decoration-color: #008080\">  227.3</span> │ <span style=\"color: #008080; text-decoration-color: #008080\">     0</span> │ <span style=\"color: #008080; text-decoration-color: #008080\">     6.99</span> │ <span style=\"color: #008080; text-decoration-color: #008080\">      22</span> │ <span style=\"color: #008080; text-decoration-color: #008080\">     76</span> │ <span style=\"color: #008080; text-decoration-color: #008080\"> 7879</span> │ <span style=\"color: #008000; text-decoration-color: #008000\">  ▇   </span> │  │\n",
       "│ │ <span style=\"color: #af87ff; text-decoration-color: #af87ff\">Class       </span> │ <span style=\"color: #008080; text-decoration-color: #008080\">  1</span> │ <span style=\"color: #008080; text-decoration-color: #008080\">   0</span> │ <span style=\"color: #008080; text-decoration-color: #008080\"> 0.002882</span> │ <span style=\"color: #008080; text-decoration-color: #008080\">0.05361</span> │ <span style=\"color: #008080; text-decoration-color: #008080\">     0</span> │ <span style=\"color: #008080; text-decoration-color: #008080\">        0</span> │ <span style=\"color: #008080; text-decoration-color: #008080\">       0</span> │ <span style=\"color: #008080; text-decoration-color: #008080\">      0</span> │ <span style=\"color: #008080; text-decoration-color: #008080\">    1</span> │ <span style=\"color: #008000; text-decoration-color: #008000\">  ▇   </span> │  │\n",
       "│ └──────────────┴─────┴──────┴───────────┴─────────┴────────┴───────────┴──────────┴─────────┴───────┴────────┘  │\n",
       "╰────────────────────────────────────────────────────── End ──────────────────────────────────────────────────────╯\n",
       "</pre>\n"
      ],
      "text/plain": [
       "╭──────────────────────────────────────────────── skimpy summary ─────────────────────────────────────────────────╮\n",
       "│ \u001b[3m         Data Summary         \u001b[0m \u001b[3m      Data Types       \u001b[0m                                                          │\n",
       "│ ┏━━━━━━━━━━━━━━━━━━━┳━━━━━━━━┓ ┏━━━━━━━━━━━━━┳━━━━━━━┓                                                          │\n",
       "│ ┃\u001b[1;36m \u001b[0m\u001b[1;36mdataframe        \u001b[0m\u001b[1;36m \u001b[0m┃\u001b[1;36m \u001b[0m\u001b[1;36mValues\u001b[0m\u001b[1;36m \u001b[0m┃ ┃\u001b[1;36m \u001b[0m\u001b[1;36mColumn Type\u001b[0m\u001b[1;36m \u001b[0m┃\u001b[1;36m \u001b[0m\u001b[1;36mCount\u001b[0m\u001b[1;36m \u001b[0m┃                                                          │\n",
       "│ ┡━━━━━━━━━━━━━━━━━━━╇━━━━━━━━┩ ┡━━━━━━━━━━━━━╇━━━━━━━┩                                                          │\n",
       "│ │ Number of rows    │ 35742  │ │ float64     │ 30    │                                                          │\n",
       "│ │ Number of columns │ 31     │ │ int64       │ 1     │                                                          │\n",
       "│ └───────────────────┴────────┘ └─────────────┴───────┘                                                          │\n",
       "│ \u001b[3m                                                    number                                                    \u001b[0m  │\n",
       "│ ┏━━━━━━━━━━━━━━┳━━━━━┳━━━━━━┳━━━━━━━━━━━┳━━━━━━━━━┳━━━━━━━━┳━━━━━━━━━━━┳━━━━━━━━━━┳━━━━━━━━━┳━━━━━━━┳━━━━━━━━┓  │\n",
       "│ ┃\u001b[1m \u001b[0m\u001b[1mcolumn_name \u001b[0m\u001b[1m \u001b[0m┃\u001b[1m \u001b[0m\u001b[1mNA \u001b[0m\u001b[1m \u001b[0m┃\u001b[1m \u001b[0m\u001b[1mNA %\u001b[0m\u001b[1m \u001b[0m┃\u001b[1m \u001b[0m\u001b[1mmean     \u001b[0m\u001b[1m \u001b[0m┃\u001b[1m \u001b[0m\u001b[1msd     \u001b[0m\u001b[1m \u001b[0m┃\u001b[1m \u001b[0m\u001b[1mp0    \u001b[0m\u001b[1m \u001b[0m┃\u001b[1m \u001b[0m\u001b[1mp25      \u001b[0m\u001b[1m \u001b[0m┃\u001b[1m \u001b[0m\u001b[1mp50     \u001b[0m\u001b[1m \u001b[0m┃\u001b[1m \u001b[0m\u001b[1mp75    \u001b[0m\u001b[1m \u001b[0m┃\u001b[1m \u001b[0m\u001b[1mp100 \u001b[0m\u001b[1m \u001b[0m┃\u001b[1m \u001b[0m\u001b[1mhist  \u001b[0m\u001b[1m \u001b[0m┃  │\n",
       "│ ┡━━━━━━━━━━━━━━╇━━━━━╇━━━━━━╇━━━━━━━━━━━╇━━━━━━━━━╇━━━━━━━━╇━━━━━━━━━━━╇━━━━━━━━━━╇━━━━━━━━━╇━━━━━━━╇━━━━━━━━┩  │\n",
       "│ │ \u001b[38;5;141mTime        \u001b[0m │ \u001b[36m  0\u001b[0m │ \u001b[36m   0\u001b[0m │ \u001b[36m    24000\u001b[0m │ \u001b[36m  12420\u001b[0m │ \u001b[36m     0\u001b[0m │ \u001b[36m    12280\u001b[0m │ \u001b[36m   28990\u001b[0m │ \u001b[36m  34260\u001b[0m │ \u001b[36m38240\u001b[0m │ \u001b[32m▃▂▁▂▅▇\u001b[0m │  │\n",
       "│ │ \u001b[38;5;141mV1          \u001b[0m │ \u001b[36m  0\u001b[0m │ \u001b[36m   0\u001b[0m │ \u001b[36m  -0.2084\u001b[0m │ \u001b[36m  1.837\u001b[0m │ \u001b[36m-30.55\u001b[0m │ \u001b[36m  -0.9601\u001b[0m │ \u001b[36m -0.2345\u001b[0m │ \u001b[36m  1.162\u001b[0m │ \u001b[36m 1.96\u001b[0m │ \u001b[32m     ▇\u001b[0m │  │\n",
       "│ │ \u001b[38;5;141mV2          \u001b[0m │ \u001b[36m  0\u001b[0m │ \u001b[36m   0\u001b[0m │ \u001b[36m  0.07258\u001b[0m │ \u001b[36m  1.541\u001b[0m │ \u001b[36m-40.98\u001b[0m │ \u001b[36m  -0.4993\u001b[0m │ \u001b[36m   0.114\u001b[0m │ \u001b[36m  0.755\u001b[0m │ \u001b[36m16.71\u001b[0m │ \u001b[32m    ▇ \u001b[0m │  │\n",
       "│ │ \u001b[38;5;141mV3          \u001b[0m │ \u001b[36m  0\u001b[0m │ \u001b[36m   0\u001b[0m │ \u001b[36m   0.7183\u001b[0m │ \u001b[36m  1.541\u001b[0m │ \u001b[36m -31.1\u001b[0m │ \u001b[36m   0.2447\u001b[0m │ \u001b[36m  0.8276\u001b[0m │ \u001b[36m  1.456\u001b[0m │ \u001b[36m4.102\u001b[0m │ \u001b[32m     ▇\u001b[0m │  │\n",
       "│ │ \u001b[38;5;141mV4          \u001b[0m │ \u001b[36m  0\u001b[0m │ \u001b[36m   0\u001b[0m │ \u001b[36m   0.1957\u001b[0m │ \u001b[36m  1.409\u001b[0m │ \u001b[36m-5.173\u001b[0m │ \u001b[36m  -0.7145\u001b[0m │ \u001b[36m  0.1886\u001b[0m │ \u001b[36m  1.079\u001b[0m │ \u001b[36m13.14\u001b[0m │ \u001b[32m ▁▇▃  \u001b[0m │  │\n",
       "│ │ \u001b[38;5;141mV5          \u001b[0m │ \u001b[36m  0\u001b[0m │ \u001b[36m   0\u001b[0m │ \u001b[36m  -0.2167\u001b[0m │ \u001b[36m  1.389\u001b[0m │ \u001b[36m-42.15\u001b[0m │ \u001b[36m  -0.8182\u001b[0m │ \u001b[36m  -0.255\u001b[0m │ \u001b[36m  0.303\u001b[0m │ \u001b[36m 34.1\u001b[0m │ \u001b[32m    ▇ \u001b[0m │  │\n",
       "│ │ \u001b[38;5;141mV6          \u001b[0m │ \u001b[36m  1\u001b[0m │ \u001b[36m   0\u001b[0m │ \u001b[36m  0.09557\u001b[0m │ \u001b[36m  1.311\u001b[0m │ \u001b[36m -23.5\u001b[0m │ \u001b[36m   -0.645\u001b[0m │ \u001b[36m -0.1631\u001b[0m │ \u001b[36m 0.4852\u001b[0m │ \u001b[36m22.53\u001b[0m │ \u001b[32m   ▃▇ \u001b[0m │  │\n",
       "│ │ \u001b[38;5;141mV7          \u001b[0m │ \u001b[36m  1\u001b[0m │ \u001b[36m   0\u001b[0m │ \u001b[36m  -0.1168\u001b[0m │ \u001b[36m  1.258\u001b[0m │ \u001b[36m-26.55\u001b[0m │ \u001b[36m  -0.5981\u001b[0m │ \u001b[36m-0.07307\u001b[0m │ \u001b[36m 0.4366\u001b[0m │ \u001b[36m36.68\u001b[0m │ \u001b[32m   ▇  \u001b[0m │  │\n",
       "│ │ \u001b[38;5;141mV8          \u001b[0m │ \u001b[36m  1\u001b[0m │ \u001b[36m   0\u001b[0m │ \u001b[36m  0.03276\u001b[0m │ \u001b[36m  1.242\u001b[0m │ \u001b[36m-41.48\u001b[0m │ \u001b[36m  -0.1556\u001b[0m │ \u001b[36m 0.04346\u001b[0m │ \u001b[36m 0.3076\u001b[0m │ \u001b[36m20.01\u001b[0m │ \u001b[32m   ▁▇ \u001b[0m │  │\n",
       "│ │ \u001b[38;5;141mV9          \u001b[0m │ \u001b[36m  1\u001b[0m │ \u001b[36m   0\u001b[0m │ \u001b[36m   0.2595\u001b[0m │ \u001b[36m  1.238\u001b[0m │ \u001b[36m-7.175\u001b[0m │ \u001b[36m  -0.5234\u001b[0m │ \u001b[36m  0.1352\u001b[0m │ \u001b[36m 0.9917\u001b[0m │ \u001b[36m10.39\u001b[0m │ \u001b[32m  ▁▇▁ \u001b[0m │  │\n",
       "│ │ \u001b[38;5;141mV10         \u001b[0m │ \u001b[36m  1\u001b[0m │ \u001b[36m   0\u001b[0m │ \u001b[36m  -0.0868\u001b[0m │ \u001b[36m  1.137\u001b[0m │ \u001b[36m-14.17\u001b[0m │ \u001b[36m   -0.566\u001b[0m │ \u001b[36m -0.1422\u001b[0m │ \u001b[36m 0.3579\u001b[0m │ \u001b[36m 12.7\u001b[0m │ \u001b[32m   ▂▇ \u001b[0m │  │\n",
       "│ │ \u001b[38;5;141mV11         \u001b[0m │ \u001b[36m  1\u001b[0m │ \u001b[36m   0\u001b[0m │ \u001b[36m   0.4563\u001b[0m │ \u001b[36m  1.137\u001b[0m │ \u001b[36m-2.985\u001b[0m │ \u001b[36m  -0.3622\u001b[0m │ \u001b[36m  0.4292\u001b[0m │ \u001b[36m  1.236\u001b[0m │ \u001b[36m12.02\u001b[0m │ \u001b[32m ▂▇▁  \u001b[0m │  │\n",
       "│ │ \u001b[38;5;141mV12         \u001b[0m │ \u001b[36m  1\u001b[0m │ \u001b[36m   0\u001b[0m │ \u001b[36m  -0.5394\u001b[0m │ \u001b[36m  1.418\u001b[0m │ \u001b[36m-17.77\u001b[0m │ \u001b[36m   -1.533\u001b[0m │ \u001b[36m  -0.171\u001b[0m │ \u001b[36m 0.4612\u001b[0m │ \u001b[36m4.846\u001b[0m │ \u001b[32m   ▁▇▁\u001b[0m │  │\n",
       "│ │ \u001b[38;5;141mV13         \u001b[0m │ \u001b[36m  1\u001b[0m │ \u001b[36m   0\u001b[0m │ \u001b[36m   0.2951\u001b[0m │ \u001b[36m   1.16\u001b[0m │ \u001b[36m-3.809\u001b[0m │ \u001b[36m  -0.4922\u001b[0m │ \u001b[36m  0.2182\u001b[0m │ \u001b[36m   1.06\u001b[0m │ \u001b[36m4.465\u001b[0m │ \u001b[32m ▂▇▇▂ \u001b[0m │  │\n",
       "│ │ \u001b[38;5;141mV14         \u001b[0m │ \u001b[36m  1\u001b[0m │ \u001b[36m   0\u001b[0m │ \u001b[36m   0.2691\u001b[0m │ \u001b[36m  1.167\u001b[0m │ \u001b[36m-19.21\u001b[0m │ \u001b[36m  -0.2458\u001b[0m │ \u001b[36m  0.2212\u001b[0m │ \u001b[36m 0.9141\u001b[0m │ \u001b[36m7.692\u001b[0m │ \u001b[32m    ▇ \u001b[0m │  │\n",
       "│ │ \u001b[38;5;141mV15         \u001b[0m │ \u001b[36m  1\u001b[0m │ \u001b[36m   0\u001b[0m │ \u001b[36m  0.08256\u001b[0m │ \u001b[36m  0.958\u001b[0m │ \u001b[36m-4.153\u001b[0m │ \u001b[36m   -0.479\u001b[0m │ \u001b[36m  0.2051\u001b[0m │ \u001b[36m 0.7627\u001b[0m │ \u001b[36m3.833\u001b[0m │ \u001b[32m ▁▅▇▂ \u001b[0m │  │\n",
       "│ │ \u001b[38;5;141mV16         \u001b[0m │ \u001b[36m  1\u001b[0m │ \u001b[36m   0\u001b[0m │ \u001b[36m-0.000769\u001b[0m │ \u001b[36m 0.9334\u001b[0m │ \u001b[36m-12.23\u001b[0m │ \u001b[36m  -0.4901\u001b[0m │ \u001b[36m 0.06378\u001b[0m │ \u001b[36m 0.5605\u001b[0m │ \u001b[36m6.099\u001b[0m │ \u001b[32m   ▇▇ \u001b[0m │  │\n",
       "│ │ \u001b[38;5;141mV17         \u001b[0m │ \u001b[36m  1\u001b[0m │ \u001b[36m   0\u001b[0m │ \u001b[36m   0.1656\u001b[0m │ \u001b[36m  1.071\u001b[0m │ \u001b[36m-18.59\u001b[0m │ \u001b[36m  -0.3315\u001b[0m │ \u001b[36m  0.1086\u001b[0m │ \u001b[36m 0.6021\u001b[0m │ \u001b[36m9.254\u001b[0m │ \u001b[32m   ▆▇ \u001b[0m │  │\n",
       "│ │ \u001b[38;5;141mV18         \u001b[0m │ \u001b[36m  1\u001b[0m │ \u001b[36m   0\u001b[0m │ \u001b[36m -0.08744\u001b[0m │ \u001b[36m 0.8583\u001b[0m │ \u001b[36m-8.061\u001b[0m │ \u001b[36m  -0.5632\u001b[0m │ \u001b[36m-0.06912\u001b[0m │ \u001b[36m  0.409\u001b[0m │ \u001b[36m4.296\u001b[0m │ \u001b[32m   ▇▅ \u001b[0m │  │\n",
       "│ │ \u001b[38;5;141mV19         \u001b[0m │ \u001b[36m  1\u001b[0m │ \u001b[36m   0\u001b[0m │ \u001b[36m -0.03687\u001b[0m │ \u001b[36m 0.8159\u001b[0m │ \u001b[36m-4.933\u001b[0m │ \u001b[36m  -0.5275\u001b[0m │ \u001b[36m-0.03527\u001b[0m │ \u001b[36m 0.4722\u001b[0m │ \u001b[36m4.555\u001b[0m │ \u001b[32m  ▆▇▁ \u001b[0m │  │\n",
       "│ │ \u001b[38;5;141mV20         \u001b[0m │ \u001b[36m  1\u001b[0m │ \u001b[36m   0\u001b[0m │ \u001b[36m  0.04481\u001b[0m │ \u001b[36m 0.6744\u001b[0m │ \u001b[36m-13.69\u001b[0m │ \u001b[36m  -0.1617\u001b[0m │ \u001b[36m-0.02226\u001b[0m │ \u001b[36m 0.1664\u001b[0m │ \u001b[36m17.28\u001b[0m │ \u001b[32m   ▇  \u001b[0m │  │\n",
       "│ │ \u001b[38;5;141mV21         \u001b[0m │ \u001b[36m  1\u001b[0m │ \u001b[36m   0\u001b[0m │ \u001b[36m -0.03088\u001b[0m │ \u001b[36m 0.7698\u001b[0m │ \u001b[36m-20.26\u001b[0m │ \u001b[36m  -0.2396\u001b[0m │ \u001b[36m-0.08161\u001b[0m │ \u001b[36m0.09499\u001b[0m │ \u001b[36m22.61\u001b[0m │ \u001b[32m   ▇  \u001b[0m │  │\n",
       "│ │ \u001b[38;5;141mV22         \u001b[0m │ \u001b[36m  1\u001b[0m │ \u001b[36m   0\u001b[0m │ \u001b[36m  -0.1136\u001b[0m │ \u001b[36m 0.6404\u001b[0m │ \u001b[36m-8.594\u001b[0m │ \u001b[36m  -0.5365\u001b[0m │ \u001b[36m-0.08752\u001b[0m │ \u001b[36m 0.2967\u001b[0m │ \u001b[36m5.806\u001b[0m │ \u001b[32m    ▇ \u001b[0m │  │\n",
       "│ │ \u001b[38;5;141mV23         \u001b[0m │ \u001b[36m  1\u001b[0m │ \u001b[36m   0\u001b[0m │ \u001b[36m -0.04157\u001b[0m │ \u001b[36m 0.5452\u001b[0m │ \u001b[36m-26.75\u001b[0m │ \u001b[36m  -0.1785\u001b[0m │ \u001b[36m  -0.052\u001b[0m │ \u001b[36m0.07621\u001b[0m │ \u001b[36m13.88\u001b[0m │ \u001b[32m   ▇▁ \u001b[0m │  │\n",
       "│ │ \u001b[38;5;141mV24         \u001b[0m │ \u001b[36m  1\u001b[0m │ \u001b[36m   0\u001b[0m │ \u001b[36m 0.007469\u001b[0m │ \u001b[36m 0.5933\u001b[0m │ \u001b[36m-2.837\u001b[0m │ \u001b[36m  -0.3269\u001b[0m │ \u001b[36m 0.06182\u001b[0m │ \u001b[36m 0.3988\u001b[0m │ \u001b[36m4.014\u001b[0m │ \u001b[32m  ▂▇▁ \u001b[0m │  │\n",
       "│ │ \u001b[38;5;141mV25         \u001b[0m │ \u001b[36m  1\u001b[0m │ \u001b[36m   0\u001b[0m │ \u001b[36m    0.136\u001b[0m │ \u001b[36m 0.4359\u001b[0m │ \u001b[36m-7.496\u001b[0m │ \u001b[36m  -0.1273\u001b[0m │ \u001b[36m  0.1757\u001b[0m │ \u001b[36m 0.4211\u001b[0m │ \u001b[36m5.525\u001b[0m │ \u001b[32m    ▇ \u001b[0m │  │\n",
       "│ │ \u001b[38;5;141mV26         \u001b[0m │ \u001b[36m  1\u001b[0m │ \u001b[36m   0\u001b[0m │ \u001b[36m  0.02181\u001b[0m │ \u001b[36m 0.5066\u001b[0m │ \u001b[36m-1.439\u001b[0m │ \u001b[36m  -0.3317\u001b[0m │ \u001b[36m-0.06327\u001b[0m │ \u001b[36m 0.3012\u001b[0m │ \u001b[36m3.517\u001b[0m │ \u001b[32m ▁▇▃▁ \u001b[0m │  │\n",
       "│ │ \u001b[38;5;141mV27         \u001b[0m │ \u001b[36m  1\u001b[0m │ \u001b[36m   0\u001b[0m │ \u001b[36m  0.01084\u001b[0m │ \u001b[36m 0.3883\u001b[0m │ \u001b[36m-8.568\u001b[0m │ \u001b[36m  -0.0632\u001b[0m │ \u001b[36m0.008848\u001b[0m │ \u001b[36m0.08677\u001b[0m │ \u001b[36m11.14\u001b[0m │ \u001b[32m   ▇  \u001b[0m │  │\n",
       "│ │ \u001b[38;5;141mV28         \u001b[0m │ \u001b[36m  1\u001b[0m │ \u001b[36m   0\u001b[0m │ \u001b[36m 0.003834\u001b[0m │ \u001b[36m  0.302\u001b[0m │ \u001b[36m-9.618\u001b[0m │ \u001b[36m-0.007248\u001b[0m │ \u001b[36m 0.02109\u001b[0m │ \u001b[36m0.07601\u001b[0m │ \u001b[36m5.679\u001b[0m │ \u001b[32m    ▇ \u001b[0m │  │\n",
       "│ │ \u001b[38;5;141mAmount      \u001b[0m │ \u001b[36m  1\u001b[0m │ \u001b[36m   0\u001b[0m │ \u001b[36m     84.2\u001b[0m │ \u001b[36m  227.3\u001b[0m │ \u001b[36m     0\u001b[0m │ \u001b[36m     6.99\u001b[0m │ \u001b[36m      22\u001b[0m │ \u001b[36m     76\u001b[0m │ \u001b[36m 7879\u001b[0m │ \u001b[32m  ▇   \u001b[0m │  │\n",
       "│ │ \u001b[38;5;141mClass       \u001b[0m │ \u001b[36m  1\u001b[0m │ \u001b[36m   0\u001b[0m │ \u001b[36m 0.002882\u001b[0m │ \u001b[36m0.05361\u001b[0m │ \u001b[36m     0\u001b[0m │ \u001b[36m        0\u001b[0m │ \u001b[36m       0\u001b[0m │ \u001b[36m      0\u001b[0m │ \u001b[36m    1\u001b[0m │ \u001b[32m  ▇   \u001b[0m │  │\n",
       "│ └──────────────┴─────┴──────┴───────────┴─────────┴────────┴───────────┴──────────┴─────────┴───────┴────────┘  │\n",
       "╰────────────────────────────────────────────────────── End ──────────────────────────────────────────────────────╯\n"
      ]
     },
     "metadata": {},
     "output_type": "display_data"
    }
   ],
   "source": [
    "skim(data)"
   ]
  },
  {
   "cell_type": "code",
   "execution_count": 7,
   "metadata": {
    "id": "7VVyV5VPPCan"
   },
   "outputs": [],
   "source": [
    "# Removing Dupicates value\n",
    "data.drop_duplicates(inplace=True)"
   ]
  },
  {
   "cell_type": "code",
   "execution_count": 18,
   "metadata": {
    "id": "AJffSZ8Cw3K-"
   },
   "outputs": [],
   "source": [
    "# Removing NAN values\n",
    "data.dropna(inplace=True)"
   ]
  },
  {
   "cell_type": "markdown",
   "metadata": {
    "id": "w0AsuEG7NTxq"
   },
   "source": [
    "# EDA"
   ]
  },
  {
   "cell_type": "code",
   "execution_count": 19,
   "metadata": {
    "colab": {
     "base_uri": "https://localhost:8080/",
     "height": 512
    },
    "id": "jp98LJ6GNAdY",
    "outputId": "66d6ca83-7c40-4c07-b491-54256643eba0"
   },
   "outputs": [
    {
     "data": {
      "text/plain": [
       "Text(0.5, 1.0, 'Class Distributions \\n (0: No Fraud || 1: Fraud)')"
      ]
     },
     "execution_count": 19,
     "metadata": {},
     "output_type": "execute_result"
    },
    {
     "data": {
      "image/png": "[encoded data removed]",
      "text/plain": [
       "<Figure size 640x480 with 1 Axes>"
      ]
     },
     "metadata": {},
     "output_type": "display_data"
    }
   ],
   "source": [
    "sns.countplot(x='Class',data = data)\n",
    "plt.title('Class Distributions \\n (0: No Fraud || 1: Fraud)', fontsize=14)"
   ]
  },
  {
   "cell_type": "code",
   "execution_count": 20,
   "metadata": {
    "id": "rwtMwfpREOEd"
   },
   "outputs": [],
   "source": [
    "df = data[['Amount','Class']].copy()\n",
    "class_0 = df.loc[df['Class'] == 0]['Amount']\n",
    "class_1 = df.loc[df['Class'] == 1]['Amount']"
   ]
  },
  {
   "cell_type": "code",
   "execution_count": 21,
   "metadata": {
    "colab": {
     "base_uri": "https://localhost:8080/"
    },
    "id": "sUuQDWylMaY7",
    "outputId": "96d72e85-fe47-4849-e21a-c025cc792cc8"
   },
   "outputs": [
    {
     "data": {
      "text/plain": [
       "count    35638.000000\n",
       "mean        84.185241\n",
       "std        227.223359\n",
       "min          0.000000\n",
       "25%          7.000000\n",
       "50%         22.000000\n",
       "75%         76.000000\n",
       "max       7879.420000\n",
       "Name: Amount, dtype: float64"
      ]
     },
     "execution_count": 21,
     "metadata": {},
     "output_type": "execute_result"
    }
   ],
   "source": [
    "#Summary of No Fraud\n",
    "class_0.describe()"
   ]
  },
  {
   "cell_type": "code",
   "execution_count": 22,
   "metadata": {
    "colab": {
     "base_uri": "https://localhost:8080/"
    },
    "id": "IRSsBAU_Mfzg",
    "outputId": "e968251d-9dd9-4763-c979-6a13b5120dab"
   },
   "outputs": [
    {
     "data": {
      "text/plain": [
       "count     103.000000\n",
       "mean       90.471165\n",
       "std       247.173335\n",
       "min         0.000000\n",
       "25%         1.000000\n",
       "50%         3.760000\n",
       "75%        99.990000\n",
       "max      1809.680000\n",
       "Name: Amount, dtype: float64"
      ]
     },
     "execution_count": 22,
     "metadata": {},
     "output_type": "execute_result"
    }
   ],
   "source": [
    "# Summary of Fraud\n",
    "class_1.describe()"
   ]
  },
  {
   "cell_type": "code",
   "execution_count": 23,
   "metadata": {
    "id": "rnhD_lmfMrf6"
   },
   "outputs": [],
   "source": [
    "# Model Building and Model Evaluatiom\n",
    "X = data.drop(\"Class\", axis=1)\n",
    "y = data['Class']"
   ]
  },
  {
   "cell_type": "code",
   "execution_count": 24,
   "metadata": {
    "id": "VJOuW20LN976"
   },
   "outputs": [],
   "source": [
    "# Scaling the data\n",
    "from sklearn.preprocessing import StandardScaler\n",
    "scaler = StandardScaler()\n",
    "X = scaler.fit_transform(X)"
   ]
  },
  {
   "cell_type": "code",
   "execution_count": 25,
   "metadata": {
    "id": "jNCkMUzrOu8H"
   },
   "outputs": [],
   "source": [
    "#Spliting the dataset\n",
    "from sklearn.model_selection import train_test_split\n",
    "X_train, X_test, y_train, y_test = train_test_split(X, y, test_size=0.2, random_state=42)"
   ]
  },
  {
   "cell_type": "code",
   "execution_count": 26,
   "metadata": {
    "colab": {
     "base_uri": "https://localhost:8080/"
    },
    "id": "zsEBiUGyOLLb",
    "outputId": "645bdb2a-9be1-4286-ed30-9ddff097bdf4"
   },
   "outputs": [
    {
     "data": {
      "text/plain": [
       "Class\n",
       "0.0    28520\n",
       "1.0       72\n",
       "Name: count, dtype: int64"
      ]
     },
     "execution_count": 26,
     "metadata": {},
     "output_type": "execute_result"
    }
   ],
   "source": [
    "\n",
    "y_train.value_counts()"
   ]
  },
  {
   "cell_type": "code",
   "execution_count": 27,
   "metadata": {
    "id": "Wn_FxUaYOzuN"
   },
   "outputs": [],
   "source": [
    "import imblearn\n",
    "from imblearn.over_sampling import SMOTE\n",
    "smote = SMOTE(random_state=0)\n",
    "\n",
    "X_train, y_train = smote.fit_resample(X_train,y_train)\n",
    "X_test, y_test = smote.fit_resample(X_test,y_test)"
   ]
  },
  {
   "cell_type": "code",
   "execution_count": 28,
   "metadata": {
    "colab": {
     "base_uri": "https://localhost:8080/"
    },
    "id": "sqhnbzdCQnaY",
    "outputId": "f1d8b0e6-02d9-4cef-adee-825c6a70c122"
   },
   "outputs": [
    {
     "data": {
      "text/plain": [
       "Class\n",
       "0.0    28520\n",
       "1.0    28520\n",
       "Name: count, dtype: int64"
      ]
     },
     "execution_count": 28,
     "metadata": {},
     "output_type": "execute_result"
    }
   ],
   "source": [
    "y_train.value_counts()"
   ]
  },
  {
   "cell_type": "code",
   "execution_count": 29,
   "metadata": {
    "colab": {
     "base_uri": "https://localhost:8080/"
    },
    "id": "ZkVYLJ8gSU_-",
    "outputId": "02b5a9d8-bff1-4cd6-85ba-747acd60b062"
   },
   "outputs": [
    {
     "data": {
      "text/plain": [
       "Counter({0.0: 28520, 1.0: 28520})"
      ]
     },
     "execution_count": 29,
     "metadata": {},
     "output_type": "execute_result"
    }
   ],
   "source": [
    "from collections import Counter\n",
    "Counter(y_train)"
   ]
  },
  {
   "cell_type": "code",
   "execution_count": 30,
   "metadata": {
    "colab": {
     "base_uri": "https://localhost:8080/"
    },
    "id": "bvTt2DLkSWwd",
    "outputId": "2862f9c4-6235-44c2-ba47-cf58cab18838"
   },
   "outputs": [
    {
     "data": {
      "text/plain": [
       "Counter({0.0: 7118, 1.0: 7118})"
      ]
     },
     "execution_count": 30,
     "metadata": {},
     "output_type": "execute_result"
    }
   ],
   "source": [
    "Counter(y_test)"
   ]
  },
  {
   "cell_type": "markdown",
   "metadata": {
    "id": "RB6HO-w_QqmQ"
   },
   "source": [
    "# Model Creation"
   ]
  },
  {
   "cell_type": "code",
   "execution_count": 31,
   "metadata": {
    "colab": {
     "base_uri": "https://localhost:8080/",
     "height": 74
    },
    "id": "AMx5xetdRw6g",
    "outputId": "5cbda70c-7ecf-419e-e806-be10d726a70b"
   },
   "outputs": [
    {
     "data": {
      "text/html": [
       "<style>#sk-container-id-1 {color: black;background-color: white;}#sk-container-id-1 pre{padding: 0;}#sk-container-id-1 div.sk-toggleable {background-color: white;}#sk-container-id-1 label.sk-toggleable__label {cursor: pointer;display: block;width: 100%;margin-bottom: 0;padding: 0.3em;box-sizing: border-box;text-align: center;}#sk-container-id-1 label.sk-toggleable__label-arrow:before {content: \"▸\";float: left;margin-right: 0.25em;color: #696969;}#sk-container-id-1 label.sk-toggleable__label-arrow:hover:before {color: black;}#sk-container-id-1 div.sk-estimator:hover label.sk-toggleable__label-arrow:before {color: black;}#sk-container-id-1 div.sk-toggleable__content {max-height: 0;max-width: 0;overflow: hidden;text-align: left;background-color: #f0f8ff;}#sk-container-id-1 div.sk-toggleable__content pre {margin: 0.2em;color: black;border-radius: 0.25em;background-color: #f0f8ff;}#sk-container-id-1 input.sk-toggleable__control:checked~div.sk-toggleable__content {max-height: 200px;max-width: 100%;overflow: auto;}#sk-container-id-1 input.sk-toggleable__control:checked~label.sk-toggleable__label-arrow:before {content: \"▾\";}#sk-container-id-1 div.sk-estimator input.sk-toggleable__control:checked~label.sk-toggleable__label {background-color: #d4ebff;}#sk-container-id-1 div.sk-label input.sk-toggleable__control:checked~label.sk-toggleable__label {background-color: #d4ebff;}#sk-container-id-1 input.sk-hidden--visually {border: 0;clip: rect(1px 1px 1px 1px);clip: rect(1px, 1px, 1px, 1px);height: 1px;margin: -1px;overflow: hidden;padding: 0;position: absolute;width: 1px;}#sk-container-id-1 div.sk-estimator {font-family: monospace;background-color: #f0f8ff;border: 1px dotted black;border-radius: 0.25em;box-sizing: border-box;margin-bottom: 0.5em;}#sk-container-id-1 div.sk-estimator:hover {background-color: #d4ebff;}#sk-container-id-1 div.sk-parallel-item::after {content: \"\";width: 100%;border-bottom: 1px solid gray;flex-grow: 1;}#sk-container-id-1 div.sk-label:hover label.sk-toggleable__label {background-color: #d4ebff;}#sk-container-id-1 div.sk-serial::before {content: \"\";position: absolute;border-left: 1px solid gray;box-sizing: border-box;top: 0;bottom: 0;left: 50%;z-index: 0;}#sk-container-id-1 div.sk-serial {display: flex;flex-direction: column;align-items: center;background-color: white;padding-right: 0.2em;padding-left: 0.2em;position: relative;}#sk-container-id-1 div.sk-item {position: relative;z-index: 1;}#sk-container-id-1 div.sk-parallel {display: flex;align-items: stretch;justify-content: center;background-color: white;position: relative;}#sk-container-id-1 div.sk-item::before, #sk-container-id-1 div.sk-parallel-item::before {content: \"\";position: absolute;border-left: 1px solid gray;box-sizing: border-box;top: 0;bottom: 0;left: 50%;z-index: -1;}#sk-container-id-1 div.sk-parallel-item {display: flex;flex-direction: column;z-index: 1;position: relative;background-color: white;}#sk-container-id-1 div.sk-parallel-item:first-child::after {align-self: flex-end;width: 50%;}#sk-container-id-1 div.sk-parallel-item:last-child::after {align-self: flex-start;width: 50%;}#sk-container-id-1 div.sk-parallel-item:only-child::after {width: 0;}#sk-container-id-1 div.sk-dashed-wrapped {border: 1px dashed gray;margin: 0 0.4em 0.5em 0.4em;box-sizing: border-box;padding-bottom: 0.4em;background-color: white;}#sk-container-id-1 div.sk-label label {font-family: monospace;font-weight: bold;display: inline-block;line-height: 1.2em;}#sk-container-id-1 div.sk-label-container {text-align: center;}#sk-container-id-1 div.sk-container {/* jupyter's `normalize.less` sets `[hidden] { display: none; }` but bootstrap.min.css set `[hidden] { display: none !important; }` so we also need the `!important` here to be able to override the default hidden behavior on the sphinx rendered scikit-learn.org. See: https://github.com/scikit-learn/scikit-learn/issues/21755 */display: inline-block !important;position: relative;}#sk-container-id-1 div.sk-text-repr-fallback {display: none;}</style><div id=\"sk-container-id-1\" class=\"sk-top-container\"><div class=\"sk-text-repr-fallback\"><pre>LogisticRegression()</pre><b>In a Jupyter environment, please rerun this cell to show the HTML representation or trust the notebook. <br />On GitHub, the HTML representation is unable to render, please try loading this page with nbviewer.org.</b></div><div class=\"sk-container\" hidden><div class=\"sk-item\"><div class=\"sk-estimator sk-toggleable\"><input class=\"sk-toggleable__control sk-hidden--visually\" id=\"sk-estimator-id-1\" type=\"checkbox\" checked><label for=\"sk-estimator-id-1\" class=\"sk-toggleable__label sk-toggleable__label-arrow\">LogisticRegression</label><div class=\"sk-toggleable__content\"><pre>LogisticRegression()</pre></div></div></div></div></div>"
      ],
      "text/plain": [
       "LogisticRegression()"
      ]
     },
     "execution_count": 31,
     "metadata": {},
     "output_type": "execute_result"
    }
   ],
   "source": [
    "from sklearn.linear_model import LogisticRegression\n",
    "lr = LogisticRegression()\n",
    "lr.fit(X_train, y_train)"
   ]
  },
  {
   "cell_type": "code",
   "execution_count": 32,
   "metadata": {
    "id": "Ng0LbK67R2dF"
   },
   "outputs": [],
   "source": [
    "y_pred=lr.predict(X_test)"
   ]
  },
  {
   "cell_type": "code",
   "execution_count": 33,
   "metadata": {
    "id": "cFNXp15cS1sD"
   },
   "outputs": [],
   "source": [
    "from sklearn.metrics import confusion_matrix,accuracy_score,recall_score, precision_score,classification_report,f1_score"
   ]
  },
  {
   "cell_type": "code",
   "execution_count": 34,
   "metadata": {
    "colab": {
     "base_uri": "https://localhost:8080/"
    },
    "id": "s2t1mlauTPA2",
    "outputId": "89c1c644-e8b7-4feb-8411-92ace5286384"
   },
   "outputs": [
    {
     "name": "stdout",
     "output_type": "stream",
     "text": [
      "[[7026   92]\n",
      " [ 451 6667]]\n"
     ]
    }
   ],
   "source": [
    "cm=confusion_matrix(y_test,y_pred)\n",
    "print(cm)"
   ]
  },
  {
   "cell_type": "code",
   "execution_count": 35,
   "metadata": {
    "colab": {
     "base_uri": "https://localhost:8080/",
     "height": 143
    },
    "id": "Fxq0snXATUS0",
    "outputId": "d6e60312-d3d2-40a3-f249-9dfa579a76a8"
   },
   "outputs": [
    {
     "data": {
      "application/vnd.google.colaboratory.intrinsic+json": {
       "summary": "{\n  \"name\": \"pd\",\n  \"rows\": 2,\n  \"fields\": [\n    {\n      \"column\": \"Class\",\n      \"properties\": {\n        \"dtype\": \"number\",\n        \"std\": 0.7071067811865476,\n        \"min\": 0.0,\n        \"max\": 1.0,\n        \"num_unique_values\": 2,\n        \"samples\": [\n          1.0,\n          0.0\n        ],\n        \"semantic_type\": \"\",\n        \"description\": \"\"\n      }\n    },\n    {\n      \"column\": 0.0,\n      \"properties\": {\n        \"dtype\": \"number\",\n        \"std\": 4649,\n        \"min\": 451,\n        \"max\": 7026,\n        \"num_unique_values\": 2,\n        \"samples\": [\n          451,\n          7026\n        ],\n        \"semantic_type\": \"\",\n        \"description\": \"\"\n      }\n    },\n    {\n      \"column\": 1.0,\n      \"properties\": {\n        \"dtype\": \"number\",\n        \"std\": 4649,\n        \"min\": 92,\n        \"max\": 6667,\n        \"num_unique_values\": 2,\n        \"samples\": [\n          6667,\n          92\n        ],\n        \"semantic_type\": \"\",\n        \"description\": \"\"\n      }\n    }\n  ]\n}",
       "type": "dataframe"
      },
      "text/html": [
       "\n",
       "  <div id=\"df-5cd4dd44-0e49-43c7-83e1-abb4c3b7e47b\" class=\"colab-df-container\">\n",
       "    <div>\n",
       "<style scoped>\n",
       "    .dataframe tbody tr th:only-of-type {\n",
       "        vertical-align: middle;\n",
       "    }\n",
       "\n",
       "    .dataframe tbody tr th {\n",
       "        vertical-align: top;\n",
       "    }\n",
       "\n",
       "    .dataframe thead th {\n",
       "        text-align: right;\n",
       "    }\n",
       "</style>\n",
       "<table border=\"1\" class=\"dataframe\">\n",
       "  <thead>\n",
       "    <tr style=\"text-align: right;\">\n",
       "      <th>col_0</th>\n",
       "      <th>0.0</th>\n",
       "      <th>1.0</th>\n",
       "    </tr>\n",
       "    <tr>\n",
       "      <th>Class</th>\n",
       "      <th></th>\n",
       "      <th></th>\n",
       "    </tr>\n",
       "  </thead>\n",
       "  <tbody>\n",
       "    <tr>\n",
       "      <th>0.0</th>\n",
       "      <td>7026</td>\n",
       "      <td>92</td>\n",
       "    </tr>\n",
       "    <tr>\n",
       "      <th>1.0</th>\n",
       "      <td>451</td>\n",
       "      <td>6667</td>\n",
       "    </tr>\n",
       "  </tbody>\n",
       "</table>\n",
       "</div>\n",
       "    <div class=\"colab-df-buttons\">\n",
       "\n",
       "  <div class=\"colab-df-container\">\n",
       "    <button class=\"colab-df-convert\" onclick=\"convertToInteractive('df-5cd4dd44-0e49-43c7-83e1-abb4c3b7e47b')\"\n",
       "            title=\"Convert this dataframe to an interactive table.\"\n",
       "            style=\"display:none;\">\n",
       "\n",
       "  <svg xmlns=\"http://www.w3.org/2000/svg\" height=\"24px\" viewBox=\"0 -960 960 960\">\n",
       "    <path d=\"M120-120v-720h720v720H120Zm60-500h600v-160H180v160Zm220 220h160v-160H400v160Zm0 220h160v-160H400v160ZM180-400h160v-160H180v160Zm440 0h160v-160H620v160ZM180-180h160v-160H180v160Zm440 0h160v-160H620v160Z\"/>\n",
       "  </svg>\n",
       "    </button>\n",
       "\n",
       "  <style>\n",
       "    .colab-df-container {\n",
       "      display:flex;\n",
       "      gap: 12px;\n",
       "    }\n",
       "\n",
       "    .colab-df-convert {\n",
       "      background-color: #E8F0FE;\n",
       "      border: none;\n",
       "      border-radius: 50%;\n",
       "      cursor: pointer;\n",
       "      display: none;\n",
       "      fill: #1967D2;\n",
       "      height: 32px;\n",
       "      padding: 0 0 0 0;\n",
       "      width: 32px;\n",
       "    }\n",
       "\n",
       "    .colab-df-convert:hover {\n",
       "      background-color: #E2EBFA;\n",
       "      box-shadow: 0px 1px 2px rgba(60, 64, 67, 0.3), 0px 1px 3px 1px rgba(60, 64, 67, 0.15);\n",
       "      fill: #174EA6;\n",
       "    }\n",
       "\n",
       "    .colab-df-buttons div {\n",
       "      margin-bottom: 4px;\n",
       "    }\n",
       "\n",
       "    [theme=dark] .colab-df-convert {\n",
       "      background-color: #3B4455;\n",
       "      fill: #D2E3FC;\n",
       "    }\n",
       "\n",
       "    [theme=dark] .colab-df-convert:hover {\n",
       "      background-color: #434B5C;\n",
       "      box-shadow: 0px 1px 3px 1px rgba(0, 0, 0, 0.15);\n",
       "      filter: drop-shadow(0px 1px 2px rgba(0, 0, 0, 0.3));\n",
       "      fill: #FFFFFF;\n",
       "    }\n",
       "  </style>\n",
       "\n",
       "    <script>\n",
       "      const buttonEl =\n",
       "        document.querySelector('#df-5cd4dd44-0e49-43c7-83e1-abb4c3b7e47b button.colab-df-convert');\n",
       "      buttonEl.style.display =\n",
       "        google.colab.kernel.accessAllowed ? 'block' : 'none';\n",
       "\n",
       "      async function convertToInteractive(key) {\n",
       "        const element = document.querySelector('#df-5cd4dd44-0e49-43c7-83e1-abb4c3b7e47b');\n",
       "        const dataTable =\n",
       "          await google.colab.kernel.invokeFunction('convertToInteractive',\n",
       "                                                    [key], {});\n",
       "        if (!dataTable) return;\n",
       "\n",
       "        const docLinkHtml = 'Like what you see? Visit the ' +\n",
       "          '<a target=\"_blank\" href=https://colab.research.google.com/notebooks/data_table.ipynb>data table notebook</a>'\n",
       "          + ' to learn more about interactive tables.';\n",
       "        element.innerHTML = '';\n",
       "        dataTable['output_type'] = 'display_data';\n",
       "        await google.colab.output.renderOutput(dataTable, element);\n",
       "        const docLink = document.createElement('div');\n",
       "        docLink.innerHTML = docLinkHtml;\n",
       "        element.appendChild(docLink);\n",
       "      }\n",
       "    </script>\n",
       "  </div>\n",
       "\n",
       "\n",
       "<div id=\"df-66a20a3d-b7f5-487b-81fc-a9d47e21e944\">\n",
       "  <button class=\"colab-df-quickchart\" onclick=\"quickchart('df-66a20a3d-b7f5-487b-81fc-a9d47e21e944')\"\n",
       "            title=\"Suggest charts\"\n",
       "            style=\"display:none;\">\n",
       "\n",
       "<svg xmlns=\"http://www.w3.org/2000/svg\" height=\"24px\"viewBox=\"0 0 24 24\"\n",
       "     width=\"24px\">\n",
       "    <g>\n",
       "        <path d=\"M19 3H5c-1.1 0-2 .9-2 2v14c0 1.1.9 2 2 2h14c1.1 0 2-.9 2-2V5c0-1.1-.9-2-2-2zM9 17H7v-7h2v7zm4 0h-2V7h2v10zm4 0h-2v-4h2v4z\"/>\n",
       "    </g>\n",
       "</svg>\n",
       "  </button>\n",
       "\n",
       "<style>\n",
       "  .colab-df-quickchart {\n",
       "      --bg-color: #E8F0FE;\n",
       "      --fill-color: #1967D2;\n",
       "      --hover-bg-color: #E2EBFA;\n",
       "      --hover-fill-color: #174EA6;\n",
       "      --disabled-fill-color: #AAA;\n",
       "      --disabled-bg-color: #DDD;\n",
       "  }\n",
       "\n",
       "  [theme=dark] .colab-df-quickchart {\n",
       "      --bg-color: #3B4455;\n",
       "      --fill-color: #D2E3FC;\n",
       "      --hover-bg-color: #434B5C;\n",
       "      --hover-fill-color: #FFFFFF;\n",
       "      --disabled-bg-color: #3B4455;\n",
       "      --disabled-fill-color: #666;\n",
       "  }\n",
       "\n",
       "  .colab-df-quickchart {\n",
       "    background-color: var(--bg-color);\n",
       "    border: none;\n",
       "    border-radius: 50%;\n",
       "    cursor: pointer;\n",
       "    display: none;\n",
       "    fill: var(--fill-color);\n",
       "    height: 32px;\n",
       "    padding: 0;\n",
       "    width: 32px;\n",
       "  }\n",
       "\n",
       "  .colab-df-quickchart:hover {\n",
       "    background-color: var(--hover-bg-color);\n",
       "    box-shadow: 0 1px 2px rgba(60, 64, 67, 0.3), 0 1px 3px 1px rgba(60, 64, 67, 0.15);\n",
       "    fill: var(--button-hover-fill-color);\n",
       "  }\n",
       "\n",
       "  .colab-df-quickchart-complete:disabled,\n",
       "  .colab-df-quickchart-complete:disabled:hover {\n",
       "    background-color: var(--disabled-bg-color);\n",
       "    fill: var(--disabled-fill-color);\n",
       "    box-shadow: none;\n",
       "  }\n",
       "\n",
       "  .colab-df-spinner {\n",
       "    border: 2px solid var(--fill-color);\n",
       "    border-color: transparent;\n",
       "    border-bottom-color: var(--fill-color);\n",
       "    animation:\n",
       "      spin 1s steps(1) infinite;\n",
       "  }\n",
       "\n",
       "  @keyframes spin {\n",
       "    0% {\n",
       "      border-color: transparent;\n",
       "      border-bottom-color: var(--fill-color);\n",
       "      border-left-color: var(--fill-color);\n",
       "    }\n",
       "    20% {\n",
       "      border-color: transparent;\n",
       "      border-left-color: var(--fill-color);\n",
       "      border-top-color: var(--fill-color);\n",
       "    }\n",
       "    30% {\n",
       "      border-color: transparent;\n",
       "      border-left-color: var(--fill-color);\n",
       "      border-top-color: var(--fill-color);\n",
       "      border-right-color: var(--fill-color);\n",
       "    }\n",
       "    40% {\n",
       "      border-color: transparent;\n",
       "      border-right-color: var(--fill-color);\n",
       "      border-top-color: var(--fill-color);\n",
       "    }\n",
       "    60% {\n",
       "      border-color: transparent;\n",
       "      border-right-color: var(--fill-color);\n",
       "    }\n",
       "    80% {\n",
       "      border-color: transparent;\n",
       "      border-right-color: var(--fill-color);\n",
       "      border-bottom-color: var(--fill-color);\n",
       "    }\n",
       "    90% {\n",
       "      border-color: transparent;\n",
       "      border-bottom-color: var(--fill-color);\n",
       "    }\n",
       "  }\n",
       "</style>\n",
       "\n",
       "  <script>\n",
       "    async function quickchart(key) {\n",
       "      const quickchartButtonEl =\n",
       "        document.querySelector('#' + key + ' button');\n",
       "      quickchartButtonEl.disabled = true;  // To prevent multiple clicks.\n",
       "      quickchartButtonEl.classList.add('colab-df-spinner');\n",
       "      try {\n",
       "        const charts = await google.colab.kernel.invokeFunction(\n",
       "            'suggestCharts', [key], {});\n",
       "      } catch (error) {\n",
       "        console.error('Error during call to suggestCharts:', error);\n",
       "      }\n",
       "      quickchartButtonEl.classList.remove('colab-df-spinner');\n",
       "      quickchartButtonEl.classList.add('colab-df-quickchart-complete');\n",
       "    }\n",
       "    (() => {\n",
       "      let quickchartButtonEl =\n",
       "        document.querySelector('#df-66a20a3d-b7f5-487b-81fc-a9d47e21e944 button');\n",
       "      quickchartButtonEl.style.display =\n",
       "        google.colab.kernel.accessAllowed ? 'block' : 'none';\n",
       "    })();\n",
       "  </script>\n",
       "</div>\n",
       "\n",
       "    </div>\n",
       "  </div>\n"
      ],
      "text/plain": [
       "col_0   0.0   1.0\n",
       "Class            \n",
       "0.0    7026    92\n",
       "1.0     451  6667"
      ]
     },
     "execution_count": 35,
     "metadata": {},
     "output_type": "execute_result"
    }
   ],
   "source": [
    "pd.crosstab(y_test,y_pred)"
   ]
  },
  {
   "cell_type": "code",
   "execution_count": 36,
   "metadata": {
    "colab": {
     "base_uri": "https://localhost:8080/"
    },
    "id": "BMGS-9i3TfBf",
    "outputId": "1e0352b0-67a0-484c-d1c3-92eb4a11d8be"
   },
   "outputs": [
    {
     "name": "stdout",
     "output_type": "stream",
     "text": [
      "accuracy_score:  0.9618572632762011\n",
      "recall_score:  0.9366395054790672\n",
      "precision_score:  0.9863885190116881\n",
      "f1_score:  0.9608705051524106\n"
     ]
    }
   ],
   "source": [
    "print(\"accuracy_score: \",accuracy_score(y_test,y_pred))\n",
    "print(\"recall_score: \",recall_score(y_test,y_pred))\n",
    "print(\"precision_score: \",precision_score(y_test,y_pred))\n",
    "print(\"f1_score: \",f1_score(y_test,y_pred))"
   ]
  },
  {
   "cell_type": "markdown",
   "metadata": {
    "id": "_weAj69NT2rn"
   },
   "source": [
    "# SVC"
   ]
  },
  {
   "cell_type": "code",
   "execution_count": 37,
   "metadata": {
    "colab": {
     "base_uri": "https://localhost:8080/",
     "height": 74
    },
    "id": "x659-zzcVoY4",
    "outputId": "70f896e6-486b-4973-e503-013dabd433b9"
   },
   "outputs": [
    {
     "data": {
      "text/html": [
       "<style>#sk-container-id-2 {color: black;background-color: white;}#sk-container-id-2 pre{padding: 0;}#sk-container-id-2 div.sk-toggleable {background-color: white;}#sk-container-id-2 label.sk-toggleable__label {cursor: pointer;display: block;width: 100%;margin-bottom: 0;padding: 0.3em;box-sizing: border-box;text-align: center;}#sk-container-id-2 label.sk-toggleable__label-arrow:before {content: \"▸\";float: left;margin-right: 0.25em;color: #696969;}#sk-container-id-2 label.sk-toggleable__label-arrow:hover:before {color: black;}#sk-container-id-2 div.sk-estimator:hover label.sk-toggleable__label-arrow:before {color: black;}#sk-container-id-2 div.sk-toggleable__content {max-height: 0;max-width: 0;overflow: hidden;text-align: left;background-color: #f0f8ff;}#sk-container-id-2 div.sk-toggleable__content pre {margin: 0.2em;color: black;border-radius: 0.25em;background-color: #f0f8ff;}#sk-container-id-2 input.sk-toggleable__control:checked~div.sk-toggleable__content {max-height: 200px;max-width: 100%;overflow: auto;}#sk-container-id-2 input.sk-toggleable__control:checked~label.sk-toggleable__label-arrow:before {content: \"▾\";}#sk-container-id-2 div.sk-estimator input.sk-toggleable__control:checked~label.sk-toggleable__label {background-color: #d4ebff;}#sk-container-id-2 div.sk-label input.sk-toggleable__control:checked~label.sk-toggleable__label {background-color: #d4ebff;}#sk-container-id-2 input.sk-hidden--visually {border: 0;clip: rect(1px 1px 1px 1px);clip: rect(1px, 1px, 1px, 1px);height: 1px;margin: -1px;overflow: hidden;padding: 0;position: absolute;width: 1px;}#sk-container-id-2 div.sk-estimator {font-family: monospace;background-color: #f0f8ff;border: 1px dotted black;border-radius: 0.25em;box-sizing: border-box;margin-bottom: 0.5em;}#sk-container-id-2 div.sk-estimator:hover {background-color: #d4ebff;}#sk-container-id-2 div.sk-parallel-item::after {content: \"\";width: 100%;border-bottom: 1px solid gray;flex-grow: 1;}#sk-container-id-2 div.sk-label:hover label.sk-toggleable__label {background-color: #d4ebff;}#sk-container-id-2 div.sk-serial::before {content: \"\";position: absolute;border-left: 1px solid gray;box-sizing: border-box;top: 0;bottom: 0;left: 50%;z-index: 0;}#sk-container-id-2 div.sk-serial {display: flex;flex-direction: column;align-items: center;background-color: white;padding-right: 0.2em;padding-left: 0.2em;position: relative;}#sk-container-id-2 div.sk-item {position: relative;z-index: 1;}#sk-container-id-2 div.sk-parallel {display: flex;align-items: stretch;justify-content: center;background-color: white;position: relative;}#sk-container-id-2 div.sk-item::before, #sk-container-id-2 div.sk-parallel-item::before {content: \"\";position: absolute;border-left: 1px solid gray;box-sizing: border-box;top: 0;bottom: 0;left: 50%;z-index: -1;}#sk-container-id-2 div.sk-parallel-item {display: flex;flex-direction: column;z-index: 1;position: relative;background-color: white;}#sk-container-id-2 div.sk-parallel-item:first-child::after {align-self: flex-end;width: 50%;}#sk-container-id-2 div.sk-parallel-item:last-child::after {align-self: flex-start;width: 50%;}#sk-container-id-2 div.sk-parallel-item:only-child::after {width: 0;}#sk-container-id-2 div.sk-dashed-wrapped {border: 1px dashed gray;margin: 0 0.4em 0.5em 0.4em;box-sizing: border-box;padding-bottom: 0.4em;background-color: white;}#sk-container-id-2 div.sk-label label {font-family: monospace;font-weight: bold;display: inline-block;line-height: 1.2em;}#sk-container-id-2 div.sk-label-container {text-align: center;}#sk-container-id-2 div.sk-container {/* jupyter's `normalize.less` sets `[hidden] { display: none; }` but bootstrap.min.css set `[hidden] { display: none !important; }` so we also need the `!important` here to be able to override the default hidden behavior on the sphinx rendered scikit-learn.org. See: https://github.com/scikit-learn/scikit-learn/issues/21755 */display: inline-block !important;position: relative;}#sk-container-id-2 div.sk-text-repr-fallback {display: none;}</style><div id=\"sk-container-id-2\" class=\"sk-top-container\"><div class=\"sk-text-repr-fallback\"><pre>SVC()</pre><b>In a Jupyter environment, please rerun this cell to show the HTML representation or trust the notebook. <br />On GitHub, the HTML representation is unable to render, please try loading this page with nbviewer.org.</b></div><div class=\"sk-container\" hidden><div class=\"sk-item\"><div class=\"sk-estimator sk-toggleable\"><input class=\"sk-toggleable__control sk-hidden--visually\" id=\"sk-estimator-id-2\" type=\"checkbox\" checked><label for=\"sk-estimator-id-2\" class=\"sk-toggleable__label sk-toggleable__label-arrow\">SVC</label><div class=\"sk-toggleable__content\"><pre>SVC()</pre></div></div></div></div></div>"
      ],
      "text/plain": [
       "SVC()"
      ]
     },
     "execution_count": 37,
     "metadata": {},
     "output_type": "execute_result"
    }
   ],
   "source": [
    "# Algorithm\n",
    "from sklearn.svm import SVC\n",
    "\n",
    "model = SVC()\n",
    "\n",
    "model.fit(X_train,y_train)"
   ]
  },
  {
   "cell_type": "code",
   "execution_count": 38,
   "metadata": {
    "colab": {
     "base_uri": "https://localhost:8080/"
    },
    "id": "VQVIZ7b3WxnM",
    "outputId": "4b0fc933-893d-42f5-85f1-f0b16fb60b9a"
   },
   "outputs": [
    {
     "data": {
      "text/plain": [
       "array([0., 0., 0., ..., 1., 1., 0.])"
      ]
     },
     "execution_count": 38,
     "metadata": {},
     "output_type": "execute_result"
    }
   ],
   "source": [
    "y_pred = model.predict(X_test)\n",
    "y_pred"
   ]
  },
  {
   "cell_type": "code",
   "execution_count": 39,
   "metadata": {
    "colab": {
     "base_uri": "https://localhost:8080/"
    },
    "id": "LXDvnf6LXnn8",
    "outputId": "08d31103-6338-4201-bc02-9243c32ac238"
   },
   "outputs": [
    {
     "name": "stdout",
     "output_type": "stream",
     "text": [
      "accuracy_score:  0.9341107052542849\n",
      "recall_score:  0.8732790109581343\n",
      "precision_score:  0.9942418426103646\n",
      "f1_score:  0.9298429319371728\n"
     ]
    }
   ],
   "source": [
    "print(\"accuracy_score: \",accuracy_score(y_test,y_pred))\n",
    "print(\"recall_score: \",recall_score(y_test,y_pred))\n",
    "print(\"precision_score: \",precision_score(y_test,y_pred))\n",
    "print(\"f1_score: \",f1_score(y_test,y_pred))"
   ]
  },
  {
   "cell_type": "markdown",
   "metadata": {
    "id": "8kLIKszKZGge"
   },
   "source": [
    "# Random Forest"
   ]
  },
  {
   "cell_type": "code",
   "execution_count": 40,
   "metadata": {
    "id": "2rGcMVTPx3X2"
   },
   "outputs": [],
   "source": [
    "from sklearn.ensemble import RandomForestRegressor"
   ]
  },
  {
   "cell_type": "code",
   "execution_count": 41,
   "metadata": {
    "id": "MSM-KpEQx9VU"
   },
   "outputs": [],
   "source": [
    "RFR = RandomForestRegressor(n_estimators=100, random_state=1)\n",
    "RFR.fit(X_train, y_train)\n",
    "rf_preds = RFR.predict(X_test)"
   ]
  },
  {
   "cell_type": "code",
   "execution_count": 42,
   "metadata": {
    "colab": {
     "base_uri": "https://localhost:8080/"
    },
    "id": "XbZ2gL8px_ud",
    "outputId": "ffda507a-90f1-4717-ff85-6652fa12f81f"
   },
   "outputs": [
    {
     "name": "stdout",
     "output_type": "stream",
     "text": [
      "accuracy_score:  0.9341107052542849\n",
      "recall_score:  0.8732790109581343\n",
      "precision_score:  0.9942418426103646\n",
      "f1_score:  0.9298429319371728\n"
     ]
    }
   ],
   "source": [
    "print(\"accuracy_score: \",accuracy_score(y_test,y_pred))\n",
    "print(\"recall_score: \",recall_score(y_test,y_pred))\n",
    "print(\"precision_score: \",precision_score(y_test,y_pred))\n",
    "print(\"f1_score: \",f1_score(y_test,y_pred))"
   ]
  }
 ],
 "metadata": {
  "colab": {
   "provenance": []
  },
  "kernelspec": {
   "display_name": "Python 3 (ipykernel)",
   "language": "python",
   "name": "python3"
  },
  "language_info": {
   "codemirror_mode": {
    "name": "ipython",
    "version": 3
   },
   "file_extension": ".py",
   "mimetype": "text/x-python",
   "name": "python",
   "nbconvert_exporter": "python",
   "pygments_lexer": "ipython3",
   "version": "3.9.12"
  }
 },
 "nbformat": 4,
 "nbformat_minor": 1
}
